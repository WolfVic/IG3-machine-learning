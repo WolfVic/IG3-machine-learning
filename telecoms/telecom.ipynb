{
 "cells": [
  {
   "cell_type": "markdown",
   "metadata": {},
   "source": [
    "# Telecom : Exam 2021"
   ]
  },
  {
   "cell_type": "markdown",
   "metadata": {},
   "source": [
    "## Table of content <br>\n",
    "* [Import](#Import)<br>\n",
    "* [Utilities](#Utilities)<br>\n",
    "* [Read](#Read)<br>\n",
    "* [Data mining and cleaning](#DMC)<br>\n",
    "    * [Overview](#Overview)<br>\n",
    "    * [Data Cleaning](#DataCleaning)<br>\n",
    "    * [Data Analyse](#DataAnalyse)<br>\n",
    "    * [Data Visualisation](#Graphs)<br>\n",
    "* [Data Modeling](#DataModeling)<br>\n",
    "    * [Preprocessing](#Prepro)<br>\n",
    "    * [Encodage](#Encodage)<br>\n",
    "    * [Feature Selection](#FeatSelec)<br>\n",
    "* [Testing and modeling](#TestsModels)\n",
    "    * [KNN](#KNN)<br>\n",
    "    * [Decision Tree](#DT)<br>\n",
    "    * [Random Forest](#RF)<br>\n",
    "* [Improvements](#Improvements)<br>\n",
    "    * [Random Forest parameters improvement](#RFPI)<br>\n",
    "    * [Decision Tree hyperparameters improvement](#DTHI)<br>\n",
    "    * [Random Forest hyperparameters improvement](#RFHI)<br>\n",
    "* [Model performance according to the train set size](#ModelPerf)\n",
    "* [Linear Regression](#LR)<br>\n",
    "    * [Dataset](#Data)<br>\n",
    "    * [Model](#model)<br>\n",
    "    * [Cost function](#CF)<br>\n",
    "    * [Gradient descent](#GD)<br>\n",
    "    * [Train and evaluate the model](#TEM)<br>\n",
    "    * [With Sklearn](#WS)<br>\n",
    "\n",
    "\n"
   ]
  },
  {
   "cell_type": "markdown",
   "metadata": {},
   "source": [
    "## Import <a id =\"Import\"></a>"
   ]
  },
  {
   "cell_type": "markdown",
   "metadata": {},
   "source": [
    "In this part we centralised all the stuff we need"
   ]
  },
  {
   "cell_type": "code",
   "execution_count": 3755,
   "metadata": {},
   "outputs": [],
   "source": [
    "import pandas as pd\n",
    "import numpy as np\n",
    "import seaborn as sns\n",
    "from sklearn import preprocessing\n",
    "from sklearn.model_selection import train_test_split\n",
    "from sklearn.feature_selection import SelectKBest,chi2\n",
    "from sklearn.preprocessing import OneHotEncoder"
   ]
  },
  {
   "cell_type": "markdown",
   "metadata": {},
   "source": [
    "### Utilities <a id=\"Utilities\"></a>"
   ]
  },
  {
   "cell_type": "markdown",
   "metadata": {},
   "source": [
    "In this part we centralised all the method we took from the lessons"
   ]
  },
  {
   "cell_type": "code",
   "execution_count": 3756,
   "metadata": {},
   "outputs": [],
   "source": [
    "def data_overview(df):\n",
    "    print(\"####### Data overview #######\")\n",
    "    print(\"dataset\")\n",
    "    print(\"__________\")\n",
    "    print(df)\n",
    "    print(\"head\")\n",
    "    print(\"_____\")\n",
    "    print()\n",
    "    print(df.head(10))\n",
    "    print()\n",
    "    print(\"Rows - columns :\" , df.shape)\n",
    "    print(\"Number of features : \",df.shape[1]-1)\n",
    "    print()\n",
    "    print(\"Liste des colonnes : \")\n",
    "    print(\"_____________________\")\n",
    "    print()\n",
    "    print(df.columns)\n",
    "    print()\n",
    "    print(\"Liste des types : \")\n",
    "    print(\"_____________________\")\n",
    "    print()\n",
    "    print(df.info())\n",
    "    print()\n",
    "    print(\"Valeurs manquantes par colonne: \")\n",
    "    print(\"________________________________\")\n",
    "    print()\n",
    "    print(df.isnull().sum())\n",
    "    print()\n",
    "    print()\n",
    "    print(\"Nombre total de valeurs manquantes: \")\n",
    "    print(\"____________________________________\")\n",
    "    print()\n",
    "    print(df.isnull().sum().values.sum())\n",
    "    print()\n",
    "    print(\"Nbre de valeurs différent es par colonne : \")\n",
    "    print(\"__________________________________________\")\n",
    "    print()\n",
    "    print(df.nunique())"
   ]
  },
  {
   "cell_type": "code",
   "execution_count": 3757,
   "metadata": {},
   "outputs": [],
   "source": [
    "def categorical_plots(df,categorical):\n",
    "    import matplotlib.pyplot as plt\n",
    "    i=0\n",
    "    for i,cat_v in enumerate(categorical):\n",
    "        plt.figure(figsize=(10,24))\n",
    "        plt.subplots(1,1)\n",
    "        df[cat_v].value_counts().plot(kind=\"bar\", title=cat_v)\n",
    "        plt.ylabel('Frequency')"
   ]
  },
  {
   "cell_type": "code",
   "execution_count": 3758,
   "metadata": {},
   "outputs": [],
   "source": [
    "def features_plots(df,numerical):\n",
    "    import matplotlib.pyplot as plt\n",
    "    for i,cv in enumerate(numerical):\n",
    "        plt.figure(figsize=(10,24))\n",
    "        plt.subplot(7,2,i+1)\n",
    "        plt.hist(df[cv],bins=df[cv].nunique())\n",
    "        plt.title(cv)\n",
    "        plt.ylabel('frequency')\n",
    "        plt.show()\n",
    "    for i,cv in enumerate(numerical):\n",
    "        plt.figure(figsize=(10,24))\n",
    "        plt.subplot(7,2,i+3)\n",
    "        plt.boxplot(df[cv])\n",
    "        plt.title(cv)\n",
    "        plt.ylabel('boxplot')\n",
    "        plt.show()"
   ]
  },
  {
   "cell_type": "code",
   "execution_count": 3759,
   "metadata": {},
   "outputs": [],
   "source": [
    "def data_preprocessing(X,y,hot_encoder,binarizer,selector):\n",
    "    X_categorical=X[ :,0:4]\n",
    "    X_numerical=X[ :,4:6]\n",
    "    \n",
    "    X_categorical=hot_encoder.transform(X_categorical)\n",
    "    X=np.hstack((X_categorical,X_numerical))\n",
    "    Y=binarizer.transform(y)\n",
    "    \n",
    "    X=selector.transform(X)\n",
    "    return X,Y"
   ]
  },
  {
   "cell_type": "code",
   "execution_count": 3760,
   "metadata": {},
   "outputs": [],
   "source": [
    "def binary_classifier_evaluation(title,x_test, y_test, y_pred, y_pred_proba,clf) : \n",
    "    from sklearn import metrics\n",
    "    from sklearn.metrics import confusion_matrix\n",
    "    from sklearn.metrics import classification_report\n",
    "    from sklearn.metrics import roc_auc_score\n",
    "    import matplotlib.pyplot as plt\n",
    "    print(\"=======================\")\n",
    "    print(title)\n",
    "    print(\"=======================\")\n",
    "    print()\n",
    "    print()\n",
    "    \n",
    "    # confusion_matrix\n",
    "    print(\"CONFUSION MATRIX : \")\n",
    "    print()\n",
    "    print(confusion_matrix(y_test, y_pred))\n",
    "    print()\n",
    "    print()\n",
    "    \n",
    "    \n",
    "    # the accuracy of the model\n",
    "    print(\"ACCURACY OF THE MODEL : \")\n",
    "    print()\n",
    "    print(clf.score(x_test, y_test))\n",
    "    print()\n",
    "    print()\n",
    "    \n",
    "    # classification report\n",
    "    print(\"CLASSIFICATION REPORT : \")\n",
    "    print()\n",
    "    print(classification_report(y_test, y_pred))\n",
    "    print()\n",
    "    print()\n",
    "    \n",
    "    # score roc\n",
    "    print(\"ROC-AUC SCORE : \")\n",
    "    print()\n",
    "    print(roc_auc_score(y_test, y_pred)) \n",
    "    print()\n",
    "    print()\n",
    "    \n",
    "    # courbe roc\n",
    "    print(\"ROC CURVE : \")\n",
    "    print()\n",
    "    y_pred_proba_1 = y_pred_proba[:,1]\n",
    "    fpr, tpr, thresholds = metrics.roc_curve(y_test, y_pred_proba_1)\n",
    "    plt.plot(fpr, tpr, color='coral', lw=2)\n",
    "    print(\"False positivze rate\", fpr)\n",
    "    print(\"True negative rate\", tpr)\n",
    "    print(\"Thresholds\", thresholds)\n",
    "    "
   ]
  },
  {
   "cell_type": "markdown",
   "metadata": {},
   "source": [
    "## Read <a id=\"Read\"></a>"
   ]
  },
  {
   "cell_type": "markdown",
   "metadata": {},
   "source": [
    "In this part we load the dataset file into the notebook"
   ]
  },
  {
   "cell_type": "code",
   "execution_count": 3761,
   "metadata": {},
   "outputs": [],
   "source": [
    "df_telecoms = pd.read_csv(\"churn-bigml-80.csv\", delimiter=\",\")"
   ]
  },
  {
   "cell_type": "markdown",
   "metadata": {},
   "source": [
    "Here it's the five first rows"
   ]
  },
  {
   "cell_type": "code",
   "execution_count": 3762,
   "metadata": {},
   "outputs": [
    {
     "data": {
      "text/html": [
       "<div>\n",
       "<style scoped>\n",
       "    .dataframe tbody tr th:only-of-type {\n",
       "        vertical-align: middle;\n",
       "    }\n",
       "\n",
       "    .dataframe tbody tr th {\n",
       "        vertical-align: top;\n",
       "    }\n",
       "\n",
       "    .dataframe thead th {\n",
       "        text-align: right;\n",
       "    }\n",
       "</style>\n",
       "<table border=\"1\" class=\"dataframe\">\n",
       "  <thead>\n",
       "    <tr style=\"text-align: right;\">\n",
       "      <th></th>\n",
       "      <th>State</th>\n",
       "      <th>Account length</th>\n",
       "      <th>Area code</th>\n",
       "      <th>International plan</th>\n",
       "      <th>Voice mail plan</th>\n",
       "      <th>Number vmail messages</th>\n",
       "      <th>Total day minutes</th>\n",
       "      <th>Total day calls</th>\n",
       "      <th>Total day charge</th>\n",
       "      <th>Total eve minutes</th>\n",
       "      <th>Total eve calls</th>\n",
       "      <th>Total eve charge</th>\n",
       "      <th>Total night minutes</th>\n",
       "      <th>Total night calls</th>\n",
       "      <th>Total night charge</th>\n",
       "      <th>Total intl minutes</th>\n",
       "      <th>Total intl calls</th>\n",
       "      <th>Total intl charge</th>\n",
       "      <th>Customer service calls</th>\n",
       "      <th>Churn</th>\n",
       "    </tr>\n",
       "  </thead>\n",
       "  <tbody>\n",
       "    <tr>\n",
       "      <th>0</th>\n",
       "      <td>KS</td>\n",
       "      <td>128</td>\n",
       "      <td>415</td>\n",
       "      <td>No</td>\n",
       "      <td>Yes</td>\n",
       "      <td>25</td>\n",
       "      <td>265.1</td>\n",
       "      <td>110</td>\n",
       "      <td>45.07</td>\n",
       "      <td>197.4</td>\n",
       "      <td>99</td>\n",
       "      <td>16.78</td>\n",
       "      <td>244.7</td>\n",
       "      <td>91</td>\n",
       "      <td>11.01</td>\n",
       "      <td>10.0</td>\n",
       "      <td>3</td>\n",
       "      <td>2.70</td>\n",
       "      <td>1</td>\n",
       "      <td>False</td>\n",
       "    </tr>\n",
       "    <tr>\n",
       "      <th>1</th>\n",
       "      <td>OH</td>\n",
       "      <td>107</td>\n",
       "      <td>415</td>\n",
       "      <td>No</td>\n",
       "      <td>Yes</td>\n",
       "      <td>26</td>\n",
       "      <td>161.6</td>\n",
       "      <td>123</td>\n",
       "      <td>27.47</td>\n",
       "      <td>195.5</td>\n",
       "      <td>103</td>\n",
       "      <td>16.62</td>\n",
       "      <td>254.4</td>\n",
       "      <td>103</td>\n",
       "      <td>11.45</td>\n",
       "      <td>13.7</td>\n",
       "      <td>3</td>\n",
       "      <td>3.70</td>\n",
       "      <td>1</td>\n",
       "      <td>False</td>\n",
       "    </tr>\n",
       "    <tr>\n",
       "      <th>2</th>\n",
       "      <td>NJ</td>\n",
       "      <td>137</td>\n",
       "      <td>415</td>\n",
       "      <td>No</td>\n",
       "      <td>No</td>\n",
       "      <td>0</td>\n",
       "      <td>243.4</td>\n",
       "      <td>114</td>\n",
       "      <td>41.38</td>\n",
       "      <td>121.2</td>\n",
       "      <td>110</td>\n",
       "      <td>10.30</td>\n",
       "      <td>162.6</td>\n",
       "      <td>104</td>\n",
       "      <td>7.32</td>\n",
       "      <td>12.2</td>\n",
       "      <td>5</td>\n",
       "      <td>3.29</td>\n",
       "      <td>0</td>\n",
       "      <td>False</td>\n",
       "    </tr>\n",
       "    <tr>\n",
       "      <th>3</th>\n",
       "      <td>OH</td>\n",
       "      <td>84</td>\n",
       "      <td>408</td>\n",
       "      <td>Yes</td>\n",
       "      <td>No</td>\n",
       "      <td>0</td>\n",
       "      <td>299.4</td>\n",
       "      <td>71</td>\n",
       "      <td>50.90</td>\n",
       "      <td>61.9</td>\n",
       "      <td>88</td>\n",
       "      <td>5.26</td>\n",
       "      <td>196.9</td>\n",
       "      <td>89</td>\n",
       "      <td>8.86</td>\n",
       "      <td>6.6</td>\n",
       "      <td>7</td>\n",
       "      <td>1.78</td>\n",
       "      <td>2</td>\n",
       "      <td>False</td>\n",
       "    </tr>\n",
       "    <tr>\n",
       "      <th>4</th>\n",
       "      <td>OK</td>\n",
       "      <td>75</td>\n",
       "      <td>415</td>\n",
       "      <td>Yes</td>\n",
       "      <td>No</td>\n",
       "      <td>0</td>\n",
       "      <td>166.7</td>\n",
       "      <td>113</td>\n",
       "      <td>28.34</td>\n",
       "      <td>148.3</td>\n",
       "      <td>122</td>\n",
       "      <td>12.61</td>\n",
       "      <td>186.9</td>\n",
       "      <td>121</td>\n",
       "      <td>8.41</td>\n",
       "      <td>10.1</td>\n",
       "      <td>3</td>\n",
       "      <td>2.73</td>\n",
       "      <td>3</td>\n",
       "      <td>False</td>\n",
       "    </tr>\n",
       "  </tbody>\n",
       "</table>\n",
       "</div>"
      ],
      "text/plain": [
       "  State  Account length  Area code International plan Voice mail plan  \\\n",
       "0    KS             128        415                 No             Yes   \n",
       "1    OH             107        415                 No             Yes   \n",
       "2    NJ             137        415                 No              No   \n",
       "3    OH              84        408                Yes              No   \n",
       "4    OK              75        415                Yes              No   \n",
       "\n",
       "   Number vmail messages  Total day minutes  Total day calls  \\\n",
       "0                     25              265.1              110   \n",
       "1                     26              161.6              123   \n",
       "2                      0              243.4              114   \n",
       "3                      0              299.4               71   \n",
       "4                      0              166.7              113   \n",
       "\n",
       "   Total day charge  Total eve minutes  Total eve calls  Total eve charge  \\\n",
       "0             45.07              197.4               99             16.78   \n",
       "1             27.47              195.5              103             16.62   \n",
       "2             41.38              121.2              110             10.30   \n",
       "3             50.90               61.9               88              5.26   \n",
       "4             28.34              148.3              122             12.61   \n",
       "\n",
       "   Total night minutes  Total night calls  Total night charge  \\\n",
       "0                244.7                 91               11.01   \n",
       "1                254.4                103               11.45   \n",
       "2                162.6                104                7.32   \n",
       "3                196.9                 89                8.86   \n",
       "4                186.9                121                8.41   \n",
       "\n",
       "   Total intl minutes  Total intl calls  Total intl charge  \\\n",
       "0                10.0                 3               2.70   \n",
       "1                13.7                 3               3.70   \n",
       "2                12.2                 5               3.29   \n",
       "3                 6.6                 7               1.78   \n",
       "4                10.1                 3               2.73   \n",
       "\n",
       "   Customer service calls  Churn  \n",
       "0                       1  False  \n",
       "1                       1  False  \n",
       "2                       0  False  \n",
       "3                       2  False  \n",
       "4                       3  False  "
      ]
     },
     "execution_count": 3762,
     "metadata": {},
     "output_type": "execute_result"
    }
   ],
   "source": [
    "df_telecoms.head()"
   ]
  },
  {
   "cell_type": "markdown",
   "metadata": {},
   "source": [
    "## Data mining and cleaning <a id=\"DMC\"></a>"
   ]
  },
  {
   "cell_type": "markdown",
   "metadata": {},
   "source": [
    "#### Overview <a id=\"Overview\"></a>"
   ]
  },
  {
   "cell_type": "markdown",
   "metadata": {},
   "source": [
    "In this part we visualise the dataset in details"
   ]
  },
  {
   "cell_type": "code",
   "execution_count": 3763,
   "metadata": {},
   "outputs": [
    {
     "name": "stdout",
     "output_type": "stream",
     "text": [
      "####### Data overview #######\n",
      "dataset\n",
      "__________\n",
      "     State  Account length  Area code International plan Voice mail plan  \\\n",
      "0       KS             128        415                 No             Yes   \n",
      "1       OH             107        415                 No             Yes   \n",
      "2       NJ             137        415                 No              No   \n",
      "3       OH              84        408                Yes              No   \n",
      "4       OK              75        415                Yes              No   \n",
      "...    ...             ...        ...                ...             ...   \n",
      "2661    SC              79        415                 No              No   \n",
      "2662    AZ             192        415                 No             Yes   \n",
      "2663    WV              68        415                 No              No   \n",
      "2664    RI              28        510                 No              No   \n",
      "2665    TN              74        415                 No             Yes   \n",
      "\n",
      "      Number vmail messages  Total day minutes  Total day calls  \\\n",
      "0                        25              265.1              110   \n",
      "1                        26              161.6              123   \n",
      "2                         0              243.4              114   \n",
      "3                         0              299.4               71   \n",
      "4                         0              166.7              113   \n",
      "...                     ...                ...              ...   \n",
      "2661                      0              134.7               98   \n",
      "2662                     36              156.2               77   \n",
      "2663                      0              231.1               57   \n",
      "2664                      0              180.8              109   \n",
      "2665                     25              234.4              113   \n",
      "\n",
      "      Total day charge  Total eve minutes  Total eve calls  Total eve charge  \\\n",
      "0                45.07              197.4               99             16.78   \n",
      "1                27.47              195.5              103             16.62   \n",
      "2                41.38              121.2              110             10.30   \n",
      "3                50.90               61.9               88              5.26   \n",
      "4                28.34              148.3              122             12.61   \n",
      "...                ...                ...              ...               ...   \n",
      "2661             22.90              189.7               68             16.12   \n",
      "2662             26.55              215.5              126             18.32   \n",
      "2663             39.29              153.4               55             13.04   \n",
      "2664             30.74              288.8               58             24.55   \n",
      "2665             39.85              265.9               82             22.60   \n",
      "\n",
      "      Total night minutes  Total night calls  Total night charge  \\\n",
      "0                   244.7                 91               11.01   \n",
      "1                   254.4                103               11.45   \n",
      "2                   162.6                104                7.32   \n",
      "3                   196.9                 89                8.86   \n",
      "4                   186.9                121                8.41   \n",
      "...                   ...                ...                 ...   \n",
      "2661                221.4                128                9.96   \n",
      "2662                279.1                 83               12.56   \n",
      "2663                191.3                123                8.61   \n",
      "2664                191.9                 91                8.64   \n",
      "2665                241.4                 77               10.86   \n",
      "\n",
      "      Total intl minutes  Total intl calls  Total intl charge  \\\n",
      "0                   10.0                 3               2.70   \n",
      "1                   13.7                 3               3.70   \n",
      "2                   12.2                 5               3.29   \n",
      "3                    6.6                 7               1.78   \n",
      "4                   10.1                 3               2.73   \n",
      "...                  ...               ...                ...   \n",
      "2661                11.8                 5               3.19   \n",
      "2662                 9.9                 6               2.67   \n",
      "2663                 9.6                 4               2.59   \n",
      "2664                14.1                 6               3.81   \n",
      "2665                13.7                 4               3.70   \n",
      "\n",
      "      Customer service calls  Churn  \n",
      "0                          1  False  \n",
      "1                          1  False  \n",
      "2                          0  False  \n",
      "3                          2  False  \n",
      "4                          3  False  \n",
      "...                      ...    ...  \n",
      "2661                       2  False  \n",
      "2662                       2  False  \n",
      "2663                       3  False  \n",
      "2664                       2  False  \n",
      "2665                       0  False  \n",
      "\n",
      "[2666 rows x 20 columns]\n",
      "head\n",
      "_____\n",
      "\n",
      "  State  Account length  Area code International plan Voice mail plan  \\\n",
      "0    KS             128        415                 No             Yes   \n",
      "1    OH             107        415                 No             Yes   \n",
      "2    NJ             137        415                 No              No   \n",
      "3    OH              84        408                Yes              No   \n",
      "4    OK              75        415                Yes              No   \n",
      "5    AL             118        510                Yes              No   \n",
      "6    MA             121        510                 No             Yes   \n",
      "7    MO             147        415                Yes              No   \n",
      "8    WV             141        415                Yes             Yes   \n",
      "9    RI              74        415                 No              No   \n",
      "\n",
      "   Number vmail messages  Total day minutes  Total day calls  \\\n",
      "0                     25              265.1              110   \n",
      "1                     26              161.6              123   \n",
      "2                      0              243.4              114   \n",
      "3                      0              299.4               71   \n",
      "4                      0              166.7              113   \n",
      "5                      0              223.4               98   \n",
      "6                     24              218.2               88   \n",
      "7                      0              157.0               79   \n",
      "8                     37              258.6               84   \n",
      "9                      0              187.7              127   \n",
      "\n",
      "   Total day charge  Total eve minutes  Total eve calls  Total eve charge  \\\n",
      "0             45.07              197.4               99             16.78   \n",
      "1             27.47              195.5              103             16.62   \n",
      "2             41.38              121.2              110             10.30   \n",
      "3             50.90               61.9               88              5.26   \n",
      "4             28.34              148.3              122             12.61   \n",
      "5             37.98              220.6              101             18.75   \n",
      "6             37.09              348.5              108             29.62   \n",
      "7             26.69              103.1               94              8.76   \n",
      "8             43.96              222.0              111             18.87   \n",
      "9             31.91              163.4              148             13.89   \n",
      "\n",
      "   Total night minutes  Total night calls  Total night charge  \\\n",
      "0                244.7                 91               11.01   \n",
      "1                254.4                103               11.45   \n",
      "2                162.6                104                7.32   \n",
      "3                196.9                 89                8.86   \n",
      "4                186.9                121                8.41   \n",
      "5                203.9                118                9.18   \n",
      "6                212.6                118                9.57   \n",
      "7                211.8                 96                9.53   \n",
      "8                326.4                 97               14.69   \n",
      "9                196.0                 94                8.82   \n",
      "\n",
      "   Total intl minutes  Total intl calls  Total intl charge  \\\n",
      "0                10.0                 3               2.70   \n",
      "1                13.7                 3               3.70   \n",
      "2                12.2                 5               3.29   \n",
      "3                 6.6                 7               1.78   \n",
      "4                10.1                 3               2.73   \n",
      "5                 6.3                 6               1.70   \n",
      "6                 7.5                 7               2.03   \n",
      "7                 7.1                 6               1.92   \n",
      "8                11.2                 5               3.02   \n",
      "9                 9.1                 5               2.46   \n",
      "\n",
      "   Customer service calls  Churn  \n",
      "0                       1  False  \n",
      "1                       1  False  \n",
      "2                       0  False  \n",
      "3                       2  False  \n",
      "4                       3  False  \n",
      "5                       0  False  \n",
      "6                       3  False  \n",
      "7                       0  False  \n",
      "8                       0  False  \n",
      "9                       0  False  \n",
      "\n",
      "Rows - columns : (2666, 20)\n",
      "Number of features :  19\n",
      "\n",
      "Liste des colonnes : \n",
      "_____________________\n",
      "\n",
      "Index(['State', 'Account length', 'Area code', 'International plan',\n",
      "       'Voice mail plan', 'Number vmail messages', 'Total day minutes',\n",
      "       'Total day calls', 'Total day charge', 'Total eve minutes',\n",
      "       'Total eve calls', 'Total eve charge', 'Total night minutes',\n",
      "       'Total night calls', 'Total night charge', 'Total intl minutes',\n",
      "       'Total intl calls', 'Total intl charge', 'Customer service calls',\n",
      "       'Churn'],\n",
      "      dtype='object')\n",
      "\n",
      "Liste des types : \n",
      "_____________________\n",
      "\n",
      "<class 'pandas.core.frame.DataFrame'>\n",
      "RangeIndex: 2666 entries, 0 to 2665\n",
      "Data columns (total 20 columns):\n",
      " #   Column                  Non-Null Count  Dtype  \n",
      "---  ------                  --------------  -----  \n",
      " 0   State                   2666 non-null   object \n",
      " 1   Account length          2666 non-null   int64  \n",
      " 2   Area code               2666 non-null   int64  \n",
      " 3   International plan      2666 non-null   object \n",
      " 4   Voice mail plan         2666 non-null   object \n",
      " 5   Number vmail messages   2666 non-null   int64  \n",
      " 6   Total day minutes       2666 non-null   float64\n",
      " 7   Total day calls         2666 non-null   int64  \n",
      " 8   Total day charge        2666 non-null   float64\n",
      " 9   Total eve minutes       2666 non-null   float64\n",
      " 10  Total eve calls         2666 non-null   int64  \n",
      " 11  Total eve charge        2666 non-null   float64\n",
      " 12  Total night minutes     2666 non-null   float64\n",
      " 13  Total night calls       2666 non-null   int64  \n",
      " 14  Total night charge      2666 non-null   float64\n",
      " 15  Total intl minutes      2666 non-null   float64\n",
      " 16  Total intl calls        2666 non-null   int64  \n",
      " 17  Total intl charge       2666 non-null   float64\n",
      " 18  Customer service calls  2666 non-null   int64  \n",
      " 19  Churn                   2666 non-null   bool   \n",
      "dtypes: bool(1), float64(8), int64(8), object(3)\n",
      "memory usage: 398.5+ KB\n",
      "None\n",
      "\n",
      "Valeurs manquantes par colonne: \n",
      "________________________________\n",
      "\n",
      "State                     0\n",
      "Account length            0\n",
      "Area code                 0\n",
      "International plan        0\n",
      "Voice mail plan           0\n",
      "Number vmail messages     0\n",
      "Total day minutes         0\n",
      "Total day calls           0\n",
      "Total day charge          0\n",
      "Total eve minutes         0\n",
      "Total eve calls           0\n",
      "Total eve charge          0\n",
      "Total night minutes       0\n",
      "Total night calls         0\n",
      "Total night charge        0\n",
      "Total intl minutes        0\n",
      "Total intl calls          0\n",
      "Total intl charge         0\n",
      "Customer service calls    0\n",
      "Churn                     0\n",
      "dtype: int64\n",
      "\n",
      "\n",
      "Nombre total de valeurs manquantes: \n",
      "____________________________________\n",
      "\n",
      "0\n",
      "\n",
      "Nbre de valeurs différent es par colonne : \n",
      "__________________________________________\n",
      "\n",
      "State                       51\n",
      "Account length             205\n",
      "Area code                    3\n",
      "International plan           2\n",
      "Voice mail plan              2\n",
      "Number vmail messages       42\n",
      "Total day minutes         1489\n",
      "Total day calls            115\n",
      "Total day charge          1489\n",
      "Total eve minutes         1442\n",
      "Total eve calls            120\n",
      "Total eve charge          1301\n",
      "Total night minutes       1444\n",
      "Total night calls          118\n",
      "Total night charge         885\n",
      "Total intl minutes         158\n",
      "Total intl calls            21\n",
      "Total intl charge          158\n",
      "Customer service calls      10\n",
      "Churn                        2\n",
      "dtype: int64\n"
     ]
    }
   ],
   "source": [
    "data_overview(df_telecoms)"
   ]
  },
  {
   "cell_type": "markdown",
   "metadata": {},
   "source": [
    "#### Data Cleaning <a id=\"DataCleaning\"></a>"
   ]
  },
  {
   "cell_type": "markdown",
   "metadata": {},
   "source": [
    "Delete the \"Total ... calls\""
   ]
  },
  {
   "cell_type": "code",
   "execution_count": 3765,
   "metadata": {},
   "outputs": [],
   "source": [
    "columns_to_drop = [\"Total day calls\",\"Total eve calls\",\"Total night calls\",\"Total intl calls\"]\n",
    "df_telecoms = df_telecoms.drop(columns_to_drop, axis=1)"
   ]
  },
  {
   "cell_type": "markdown",
   "metadata": {},
   "source": [
    "Replace the \"total ... minutes\" and \"Total ... charges\" columns into a \"... cost per minute\""
   ]
  },
  {
   "cell_type": "code",
   "execution_count": 3766,
   "metadata": {},
   "outputs": [
    {
     "data": {
      "text/html": [
       "<div>\n",
       "<style scoped>\n",
       "    .dataframe tbody tr th:only-of-type {\n",
       "        vertical-align: middle;\n",
       "    }\n",
       "\n",
       "    .dataframe tbody tr th {\n",
       "        vertical-align: top;\n",
       "    }\n",
       "\n",
       "    .dataframe thead th {\n",
       "        text-align: right;\n",
       "    }\n",
       "</style>\n",
       "<table border=\"1\" class=\"dataframe\">\n",
       "  <thead>\n",
       "    <tr style=\"text-align: right;\">\n",
       "      <th></th>\n",
       "      <th>State</th>\n",
       "      <th>Account length</th>\n",
       "      <th>Area code</th>\n",
       "      <th>International plan</th>\n",
       "      <th>Voice mail plan</th>\n",
       "      <th>Number vmail messages</th>\n",
       "      <th>Total day minutes</th>\n",
       "      <th>Total day charge</th>\n",
       "      <th>Total eve minutes</th>\n",
       "      <th>Total eve charge</th>\n",
       "      <th>Total night minutes</th>\n",
       "      <th>Total night charge</th>\n",
       "      <th>Total intl minutes</th>\n",
       "      <th>Total intl charge</th>\n",
       "      <th>Customer service calls</th>\n",
       "      <th>Churn</th>\n",
       "      <th>Day cost per minute</th>\n",
       "    </tr>\n",
       "  </thead>\n",
       "  <tbody>\n",
       "    <tr>\n",
       "      <th>0</th>\n",
       "      <td>KS</td>\n",
       "      <td>128</td>\n",
       "      <td>415</td>\n",
       "      <td>No</td>\n",
       "      <td>Yes</td>\n",
       "      <td>25</td>\n",
       "      <td>265.1</td>\n",
       "      <td>45.07</td>\n",
       "      <td>197.4</td>\n",
       "      <td>16.78</td>\n",
       "      <td>244.7</td>\n",
       "      <td>11.01</td>\n",
       "      <td>10.0</td>\n",
       "      <td>2.70</td>\n",
       "      <td>1</td>\n",
       "      <td>False</td>\n",
       "      <td>0.17</td>\n",
       "    </tr>\n",
       "    <tr>\n",
       "      <th>1</th>\n",
       "      <td>OH</td>\n",
       "      <td>107</td>\n",
       "      <td>415</td>\n",
       "      <td>No</td>\n",
       "      <td>Yes</td>\n",
       "      <td>26</td>\n",
       "      <td>161.6</td>\n",
       "      <td>27.47</td>\n",
       "      <td>195.5</td>\n",
       "      <td>16.62</td>\n",
       "      <td>254.4</td>\n",
       "      <td>11.45</td>\n",
       "      <td>13.7</td>\n",
       "      <td>3.70</td>\n",
       "      <td>1</td>\n",
       "      <td>False</td>\n",
       "      <td>0.17</td>\n",
       "    </tr>\n",
       "    <tr>\n",
       "      <th>2</th>\n",
       "      <td>NJ</td>\n",
       "      <td>137</td>\n",
       "      <td>415</td>\n",
       "      <td>No</td>\n",
       "      <td>No</td>\n",
       "      <td>0</td>\n",
       "      <td>243.4</td>\n",
       "      <td>41.38</td>\n",
       "      <td>121.2</td>\n",
       "      <td>10.30</td>\n",
       "      <td>162.6</td>\n",
       "      <td>7.32</td>\n",
       "      <td>12.2</td>\n",
       "      <td>3.29</td>\n",
       "      <td>0</td>\n",
       "      <td>False</td>\n",
       "      <td>0.17</td>\n",
       "    </tr>\n",
       "    <tr>\n",
       "      <th>3</th>\n",
       "      <td>OH</td>\n",
       "      <td>84</td>\n",
       "      <td>408</td>\n",
       "      <td>Yes</td>\n",
       "      <td>No</td>\n",
       "      <td>0</td>\n",
       "      <td>299.4</td>\n",
       "      <td>50.90</td>\n",
       "      <td>61.9</td>\n",
       "      <td>5.26</td>\n",
       "      <td>196.9</td>\n",
       "      <td>8.86</td>\n",
       "      <td>6.6</td>\n",
       "      <td>1.78</td>\n",
       "      <td>2</td>\n",
       "      <td>False</td>\n",
       "      <td>0.17</td>\n",
       "    </tr>\n",
       "    <tr>\n",
       "      <th>4</th>\n",
       "      <td>OK</td>\n",
       "      <td>75</td>\n",
       "      <td>415</td>\n",
       "      <td>Yes</td>\n",
       "      <td>No</td>\n",
       "      <td>0</td>\n",
       "      <td>166.7</td>\n",
       "      <td>28.34</td>\n",
       "      <td>148.3</td>\n",
       "      <td>12.61</td>\n",
       "      <td>186.9</td>\n",
       "      <td>8.41</td>\n",
       "      <td>10.1</td>\n",
       "      <td>2.73</td>\n",
       "      <td>3</td>\n",
       "      <td>False</td>\n",
       "      <td>0.17</td>\n",
       "    </tr>\n",
       "  </tbody>\n",
       "</table>\n",
       "</div>"
      ],
      "text/plain": [
       "  State  Account length  Area code International plan Voice mail plan  \\\n",
       "0    KS             128        415                 No             Yes   \n",
       "1    OH             107        415                 No             Yes   \n",
       "2    NJ             137        415                 No              No   \n",
       "3    OH              84        408                Yes              No   \n",
       "4    OK              75        415                Yes              No   \n",
       "\n",
       "   Number vmail messages  Total day minutes  Total day charge  \\\n",
       "0                     25              265.1             45.07   \n",
       "1                     26              161.6             27.47   \n",
       "2                      0              243.4             41.38   \n",
       "3                      0              299.4             50.90   \n",
       "4                      0              166.7             28.34   \n",
       "\n",
       "   Total eve minutes  Total eve charge  Total night minutes  \\\n",
       "0              197.4             16.78                244.7   \n",
       "1              195.5             16.62                254.4   \n",
       "2              121.2             10.30                162.6   \n",
       "3               61.9              5.26                196.9   \n",
       "4              148.3             12.61                186.9   \n",
       "\n",
       "   Total night charge  Total intl minutes  Total intl charge  \\\n",
       "0               11.01                10.0               2.70   \n",
       "1               11.45                13.7               3.70   \n",
       "2                7.32                12.2               3.29   \n",
       "3                8.86                 6.6               1.78   \n",
       "4                8.41                10.1               2.73   \n",
       "\n",
       "   Customer service calls  Churn  Day cost per minute  \n",
       "0                       1  False                 0.17  \n",
       "1                       1  False                 0.17  \n",
       "2                       0  False                 0.17  \n",
       "3                       2  False                 0.17  \n",
       "4                       3  False                 0.17  "
      ]
     },
     "execution_count": 3766,
     "metadata": {},
     "output_type": "execute_result"
    }
   ],
   "source": [
    "df_telecoms[\"Day cost per minute\"] = round((df_telecoms[\"Total day charge\"] / df_telecoms[\"Total day minutes\"]),2)\n",
    "df_telecoms[\"Day cost per minute\"] = df_telecoms[\"Day cost per minute\"].fillna(0)\n",
    "df_telecoms.head()"
   ]
  },
  {
   "cell_type": "code",
   "execution_count": 3767,
   "metadata": {},
   "outputs": [
    {
     "data": {
      "text/html": [
       "<div>\n",
       "<style scoped>\n",
       "    .dataframe tbody tr th:only-of-type {\n",
       "        vertical-align: middle;\n",
       "    }\n",
       "\n",
       "    .dataframe tbody tr th {\n",
       "        vertical-align: top;\n",
       "    }\n",
       "\n",
       "    .dataframe thead th {\n",
       "        text-align: right;\n",
       "    }\n",
       "</style>\n",
       "<table border=\"1\" class=\"dataframe\">\n",
       "  <thead>\n",
       "    <tr style=\"text-align: right;\">\n",
       "      <th></th>\n",
       "      <th>State</th>\n",
       "      <th>Account length</th>\n",
       "      <th>Area code</th>\n",
       "      <th>International plan</th>\n",
       "      <th>Voice mail plan</th>\n",
       "      <th>Number vmail messages</th>\n",
       "      <th>Total day minutes</th>\n",
       "      <th>Total day charge</th>\n",
       "      <th>Total eve minutes</th>\n",
       "      <th>Total eve charge</th>\n",
       "      <th>Total night minutes</th>\n",
       "      <th>Total night charge</th>\n",
       "      <th>Total intl minutes</th>\n",
       "      <th>Total intl charge</th>\n",
       "      <th>Customer service calls</th>\n",
       "      <th>Churn</th>\n",
       "      <th>Day cost per minute</th>\n",
       "      <th>Eve cost per minute</th>\n",
       "    </tr>\n",
       "  </thead>\n",
       "  <tbody>\n",
       "    <tr>\n",
       "      <th>0</th>\n",
       "      <td>KS</td>\n",
       "      <td>128</td>\n",
       "      <td>415</td>\n",
       "      <td>No</td>\n",
       "      <td>Yes</td>\n",
       "      <td>25</td>\n",
       "      <td>265.1</td>\n",
       "      <td>45.07</td>\n",
       "      <td>197.4</td>\n",
       "      <td>16.78</td>\n",
       "      <td>244.7</td>\n",
       "      <td>11.01</td>\n",
       "      <td>10.0</td>\n",
       "      <td>2.70</td>\n",
       "      <td>1</td>\n",
       "      <td>False</td>\n",
       "      <td>0.17</td>\n",
       "      <td>0.09</td>\n",
       "    </tr>\n",
       "    <tr>\n",
       "      <th>1</th>\n",
       "      <td>OH</td>\n",
       "      <td>107</td>\n",
       "      <td>415</td>\n",
       "      <td>No</td>\n",
       "      <td>Yes</td>\n",
       "      <td>26</td>\n",
       "      <td>161.6</td>\n",
       "      <td>27.47</td>\n",
       "      <td>195.5</td>\n",
       "      <td>16.62</td>\n",
       "      <td>254.4</td>\n",
       "      <td>11.45</td>\n",
       "      <td>13.7</td>\n",
       "      <td>3.70</td>\n",
       "      <td>1</td>\n",
       "      <td>False</td>\n",
       "      <td>0.17</td>\n",
       "      <td>0.09</td>\n",
       "    </tr>\n",
       "    <tr>\n",
       "      <th>2</th>\n",
       "      <td>NJ</td>\n",
       "      <td>137</td>\n",
       "      <td>415</td>\n",
       "      <td>No</td>\n",
       "      <td>No</td>\n",
       "      <td>0</td>\n",
       "      <td>243.4</td>\n",
       "      <td>41.38</td>\n",
       "      <td>121.2</td>\n",
       "      <td>10.30</td>\n",
       "      <td>162.6</td>\n",
       "      <td>7.32</td>\n",
       "      <td>12.2</td>\n",
       "      <td>3.29</td>\n",
       "      <td>0</td>\n",
       "      <td>False</td>\n",
       "      <td>0.17</td>\n",
       "      <td>0.08</td>\n",
       "    </tr>\n",
       "    <tr>\n",
       "      <th>3</th>\n",
       "      <td>OH</td>\n",
       "      <td>84</td>\n",
       "      <td>408</td>\n",
       "      <td>Yes</td>\n",
       "      <td>No</td>\n",
       "      <td>0</td>\n",
       "      <td>299.4</td>\n",
       "      <td>50.90</td>\n",
       "      <td>61.9</td>\n",
       "      <td>5.26</td>\n",
       "      <td>196.9</td>\n",
       "      <td>8.86</td>\n",
       "      <td>6.6</td>\n",
       "      <td>1.78</td>\n",
       "      <td>2</td>\n",
       "      <td>False</td>\n",
       "      <td>0.17</td>\n",
       "      <td>0.08</td>\n",
       "    </tr>\n",
       "    <tr>\n",
       "      <th>4</th>\n",
       "      <td>OK</td>\n",
       "      <td>75</td>\n",
       "      <td>415</td>\n",
       "      <td>Yes</td>\n",
       "      <td>No</td>\n",
       "      <td>0</td>\n",
       "      <td>166.7</td>\n",
       "      <td>28.34</td>\n",
       "      <td>148.3</td>\n",
       "      <td>12.61</td>\n",
       "      <td>186.9</td>\n",
       "      <td>8.41</td>\n",
       "      <td>10.1</td>\n",
       "      <td>2.73</td>\n",
       "      <td>3</td>\n",
       "      <td>False</td>\n",
       "      <td>0.17</td>\n",
       "      <td>0.09</td>\n",
       "    </tr>\n",
       "  </tbody>\n",
       "</table>\n",
       "</div>"
      ],
      "text/plain": [
       "  State  Account length  Area code International plan Voice mail plan  \\\n",
       "0    KS             128        415                 No             Yes   \n",
       "1    OH             107        415                 No             Yes   \n",
       "2    NJ             137        415                 No              No   \n",
       "3    OH              84        408                Yes              No   \n",
       "4    OK              75        415                Yes              No   \n",
       "\n",
       "   Number vmail messages  Total day minutes  Total day charge  \\\n",
       "0                     25              265.1             45.07   \n",
       "1                     26              161.6             27.47   \n",
       "2                      0              243.4             41.38   \n",
       "3                      0              299.4             50.90   \n",
       "4                      0              166.7             28.34   \n",
       "\n",
       "   Total eve minutes  Total eve charge  Total night minutes  \\\n",
       "0              197.4             16.78                244.7   \n",
       "1              195.5             16.62                254.4   \n",
       "2              121.2             10.30                162.6   \n",
       "3               61.9              5.26                196.9   \n",
       "4              148.3             12.61                186.9   \n",
       "\n",
       "   Total night charge  Total intl minutes  Total intl charge  \\\n",
       "0               11.01                10.0               2.70   \n",
       "1               11.45                13.7               3.70   \n",
       "2                7.32                12.2               3.29   \n",
       "3                8.86                 6.6               1.78   \n",
       "4                8.41                10.1               2.73   \n",
       "\n",
       "   Customer service calls  Churn  Day cost per minute  Eve cost per minute  \n",
       "0                       1  False                 0.17                 0.09  \n",
       "1                       1  False                 0.17                 0.09  \n",
       "2                       0  False                 0.17                 0.08  \n",
       "3                       2  False                 0.17                 0.08  \n",
       "4                       3  False                 0.17                 0.09  "
      ]
     },
     "execution_count": 3767,
     "metadata": {},
     "output_type": "execute_result"
    }
   ],
   "source": [
    "df_telecoms[\"Eve cost per minute\"] = round((df_telecoms[\"Total eve charge\"] / df_telecoms[\"Total eve minutes\"]),2)\n",
    "df_telecoms[\"Eve cost per minute\"] = df_telecoms[\"Eve cost per minute\"].fillna(0)\n",
    "df_telecoms.head()"
   ]
  },
  {
   "cell_type": "code",
   "execution_count": 3768,
   "metadata": {},
   "outputs": [
    {
     "data": {
      "text/html": [
       "<div>\n",
       "<style scoped>\n",
       "    .dataframe tbody tr th:only-of-type {\n",
       "        vertical-align: middle;\n",
       "    }\n",
       "\n",
       "    .dataframe tbody tr th {\n",
       "        vertical-align: top;\n",
       "    }\n",
       "\n",
       "    .dataframe thead th {\n",
       "        text-align: right;\n",
       "    }\n",
       "</style>\n",
       "<table border=\"1\" class=\"dataframe\">\n",
       "  <thead>\n",
       "    <tr style=\"text-align: right;\">\n",
       "      <th></th>\n",
       "      <th>State</th>\n",
       "      <th>Account length</th>\n",
       "      <th>Area code</th>\n",
       "      <th>International plan</th>\n",
       "      <th>Voice mail plan</th>\n",
       "      <th>Number vmail messages</th>\n",
       "      <th>Total day minutes</th>\n",
       "      <th>Total day charge</th>\n",
       "      <th>Total eve minutes</th>\n",
       "      <th>Total eve charge</th>\n",
       "      <th>Total night minutes</th>\n",
       "      <th>Total night charge</th>\n",
       "      <th>Total intl minutes</th>\n",
       "      <th>Total intl charge</th>\n",
       "      <th>Customer service calls</th>\n",
       "      <th>Churn</th>\n",
       "      <th>Day cost per minute</th>\n",
       "      <th>Eve cost per minute</th>\n",
       "      <th>Night cost per minute</th>\n",
       "    </tr>\n",
       "  </thead>\n",
       "  <tbody>\n",
       "    <tr>\n",
       "      <th>0</th>\n",
       "      <td>KS</td>\n",
       "      <td>128</td>\n",
       "      <td>415</td>\n",
       "      <td>No</td>\n",
       "      <td>Yes</td>\n",
       "      <td>25</td>\n",
       "      <td>265.1</td>\n",
       "      <td>45.07</td>\n",
       "      <td>197.4</td>\n",
       "      <td>16.78</td>\n",
       "      <td>244.7</td>\n",
       "      <td>11.01</td>\n",
       "      <td>10.0</td>\n",
       "      <td>2.70</td>\n",
       "      <td>1</td>\n",
       "      <td>False</td>\n",
       "      <td>0.17</td>\n",
       "      <td>0.09</td>\n",
       "      <td>0.04</td>\n",
       "    </tr>\n",
       "    <tr>\n",
       "      <th>1</th>\n",
       "      <td>OH</td>\n",
       "      <td>107</td>\n",
       "      <td>415</td>\n",
       "      <td>No</td>\n",
       "      <td>Yes</td>\n",
       "      <td>26</td>\n",
       "      <td>161.6</td>\n",
       "      <td>27.47</td>\n",
       "      <td>195.5</td>\n",
       "      <td>16.62</td>\n",
       "      <td>254.4</td>\n",
       "      <td>11.45</td>\n",
       "      <td>13.7</td>\n",
       "      <td>3.70</td>\n",
       "      <td>1</td>\n",
       "      <td>False</td>\n",
       "      <td>0.17</td>\n",
       "      <td>0.09</td>\n",
       "      <td>0.05</td>\n",
       "    </tr>\n",
       "    <tr>\n",
       "      <th>2</th>\n",
       "      <td>NJ</td>\n",
       "      <td>137</td>\n",
       "      <td>415</td>\n",
       "      <td>No</td>\n",
       "      <td>No</td>\n",
       "      <td>0</td>\n",
       "      <td>243.4</td>\n",
       "      <td>41.38</td>\n",
       "      <td>121.2</td>\n",
       "      <td>10.30</td>\n",
       "      <td>162.6</td>\n",
       "      <td>7.32</td>\n",
       "      <td>12.2</td>\n",
       "      <td>3.29</td>\n",
       "      <td>0</td>\n",
       "      <td>False</td>\n",
       "      <td>0.17</td>\n",
       "      <td>0.08</td>\n",
       "      <td>0.05</td>\n",
       "    </tr>\n",
       "    <tr>\n",
       "      <th>3</th>\n",
       "      <td>OH</td>\n",
       "      <td>84</td>\n",
       "      <td>408</td>\n",
       "      <td>Yes</td>\n",
       "      <td>No</td>\n",
       "      <td>0</td>\n",
       "      <td>299.4</td>\n",
       "      <td>50.90</td>\n",
       "      <td>61.9</td>\n",
       "      <td>5.26</td>\n",
       "      <td>196.9</td>\n",
       "      <td>8.86</td>\n",
       "      <td>6.6</td>\n",
       "      <td>1.78</td>\n",
       "      <td>2</td>\n",
       "      <td>False</td>\n",
       "      <td>0.17</td>\n",
       "      <td>0.08</td>\n",
       "      <td>0.04</td>\n",
       "    </tr>\n",
       "    <tr>\n",
       "      <th>4</th>\n",
       "      <td>OK</td>\n",
       "      <td>75</td>\n",
       "      <td>415</td>\n",
       "      <td>Yes</td>\n",
       "      <td>No</td>\n",
       "      <td>0</td>\n",
       "      <td>166.7</td>\n",
       "      <td>28.34</td>\n",
       "      <td>148.3</td>\n",
       "      <td>12.61</td>\n",
       "      <td>186.9</td>\n",
       "      <td>8.41</td>\n",
       "      <td>10.1</td>\n",
       "      <td>2.73</td>\n",
       "      <td>3</td>\n",
       "      <td>False</td>\n",
       "      <td>0.17</td>\n",
       "      <td>0.09</td>\n",
       "      <td>0.04</td>\n",
       "    </tr>\n",
       "  </tbody>\n",
       "</table>\n",
       "</div>"
      ],
      "text/plain": [
       "  State  Account length  Area code International plan Voice mail plan  \\\n",
       "0    KS             128        415                 No             Yes   \n",
       "1    OH             107        415                 No             Yes   \n",
       "2    NJ             137        415                 No              No   \n",
       "3    OH              84        408                Yes              No   \n",
       "4    OK              75        415                Yes              No   \n",
       "\n",
       "   Number vmail messages  Total day minutes  Total day charge  \\\n",
       "0                     25              265.1             45.07   \n",
       "1                     26              161.6             27.47   \n",
       "2                      0              243.4             41.38   \n",
       "3                      0              299.4             50.90   \n",
       "4                      0              166.7             28.34   \n",
       "\n",
       "   Total eve minutes  Total eve charge  Total night minutes  \\\n",
       "0              197.4             16.78                244.7   \n",
       "1              195.5             16.62                254.4   \n",
       "2              121.2             10.30                162.6   \n",
       "3               61.9              5.26                196.9   \n",
       "4              148.3             12.61                186.9   \n",
       "\n",
       "   Total night charge  Total intl minutes  Total intl charge  \\\n",
       "0               11.01                10.0               2.70   \n",
       "1               11.45                13.7               3.70   \n",
       "2                7.32                12.2               3.29   \n",
       "3                8.86                 6.6               1.78   \n",
       "4                8.41                10.1               2.73   \n",
       "\n",
       "   Customer service calls  Churn  Day cost per minute  Eve cost per minute  \\\n",
       "0                       1  False                 0.17                 0.09   \n",
       "1                       1  False                 0.17                 0.09   \n",
       "2                       0  False                 0.17                 0.08   \n",
       "3                       2  False                 0.17                 0.08   \n",
       "4                       3  False                 0.17                 0.09   \n",
       "\n",
       "   Night cost per minute  \n",
       "0                   0.04  \n",
       "1                   0.05  \n",
       "2                   0.05  \n",
       "3                   0.04  \n",
       "4                   0.04  "
      ]
     },
     "execution_count": 3768,
     "metadata": {},
     "output_type": "execute_result"
    }
   ],
   "source": [
    "df_telecoms[\"Night cost per minute\"] = round((df_telecoms[\"Total night charge\"] / df_telecoms[\"Total night minutes\"]),2)\n",
    "df_telecoms[\"Night cost per minute\"] = df_telecoms[\"Night cost per minute\"].fillna(0)\n",
    "df_telecoms.head()"
   ]
  },
  {
   "cell_type": "code",
   "execution_count": 3769,
   "metadata": {},
   "outputs": [
    {
     "data": {
      "text/html": [
       "<div>\n",
       "<style scoped>\n",
       "    .dataframe tbody tr th:only-of-type {\n",
       "        vertical-align: middle;\n",
       "    }\n",
       "\n",
       "    .dataframe tbody tr th {\n",
       "        vertical-align: top;\n",
       "    }\n",
       "\n",
       "    .dataframe thead th {\n",
       "        text-align: right;\n",
       "    }\n",
       "</style>\n",
       "<table border=\"1\" class=\"dataframe\">\n",
       "  <thead>\n",
       "    <tr style=\"text-align: right;\">\n",
       "      <th></th>\n",
       "      <th>State</th>\n",
       "      <th>Account length</th>\n",
       "      <th>Area code</th>\n",
       "      <th>International plan</th>\n",
       "      <th>Voice mail plan</th>\n",
       "      <th>Number vmail messages</th>\n",
       "      <th>Total day minutes</th>\n",
       "      <th>Total day charge</th>\n",
       "      <th>Total eve minutes</th>\n",
       "      <th>Total eve charge</th>\n",
       "      <th>Total night minutes</th>\n",
       "      <th>Total night charge</th>\n",
       "      <th>Total intl minutes</th>\n",
       "      <th>Total intl charge</th>\n",
       "      <th>Customer service calls</th>\n",
       "      <th>Churn</th>\n",
       "      <th>Day cost per minute</th>\n",
       "      <th>Eve cost per minute</th>\n",
       "      <th>Night cost per minute</th>\n",
       "      <th>Intl cost per minute</th>\n",
       "    </tr>\n",
       "  </thead>\n",
       "  <tbody>\n",
       "    <tr>\n",
       "      <th>0</th>\n",
       "      <td>KS</td>\n",
       "      <td>128</td>\n",
       "      <td>415</td>\n",
       "      <td>No</td>\n",
       "      <td>Yes</td>\n",
       "      <td>25</td>\n",
       "      <td>265.1</td>\n",
       "      <td>45.07</td>\n",
       "      <td>197.4</td>\n",
       "      <td>16.78</td>\n",
       "      <td>244.7</td>\n",
       "      <td>11.01</td>\n",
       "      <td>10.0</td>\n",
       "      <td>2.70</td>\n",
       "      <td>1</td>\n",
       "      <td>False</td>\n",
       "      <td>0.17</td>\n",
       "      <td>0.09</td>\n",
       "      <td>0.04</td>\n",
       "      <td>0.27</td>\n",
       "    </tr>\n",
       "    <tr>\n",
       "      <th>1</th>\n",
       "      <td>OH</td>\n",
       "      <td>107</td>\n",
       "      <td>415</td>\n",
       "      <td>No</td>\n",
       "      <td>Yes</td>\n",
       "      <td>26</td>\n",
       "      <td>161.6</td>\n",
       "      <td>27.47</td>\n",
       "      <td>195.5</td>\n",
       "      <td>16.62</td>\n",
       "      <td>254.4</td>\n",
       "      <td>11.45</td>\n",
       "      <td>13.7</td>\n",
       "      <td>3.70</td>\n",
       "      <td>1</td>\n",
       "      <td>False</td>\n",
       "      <td>0.17</td>\n",
       "      <td>0.09</td>\n",
       "      <td>0.05</td>\n",
       "      <td>0.27</td>\n",
       "    </tr>\n",
       "    <tr>\n",
       "      <th>2</th>\n",
       "      <td>NJ</td>\n",
       "      <td>137</td>\n",
       "      <td>415</td>\n",
       "      <td>No</td>\n",
       "      <td>No</td>\n",
       "      <td>0</td>\n",
       "      <td>243.4</td>\n",
       "      <td>41.38</td>\n",
       "      <td>121.2</td>\n",
       "      <td>10.30</td>\n",
       "      <td>162.6</td>\n",
       "      <td>7.32</td>\n",
       "      <td>12.2</td>\n",
       "      <td>3.29</td>\n",
       "      <td>0</td>\n",
       "      <td>False</td>\n",
       "      <td>0.17</td>\n",
       "      <td>0.08</td>\n",
       "      <td>0.05</td>\n",
       "      <td>0.27</td>\n",
       "    </tr>\n",
       "    <tr>\n",
       "      <th>3</th>\n",
       "      <td>OH</td>\n",
       "      <td>84</td>\n",
       "      <td>408</td>\n",
       "      <td>Yes</td>\n",
       "      <td>No</td>\n",
       "      <td>0</td>\n",
       "      <td>299.4</td>\n",
       "      <td>50.90</td>\n",
       "      <td>61.9</td>\n",
       "      <td>5.26</td>\n",
       "      <td>196.9</td>\n",
       "      <td>8.86</td>\n",
       "      <td>6.6</td>\n",
       "      <td>1.78</td>\n",
       "      <td>2</td>\n",
       "      <td>False</td>\n",
       "      <td>0.17</td>\n",
       "      <td>0.08</td>\n",
       "      <td>0.04</td>\n",
       "      <td>0.27</td>\n",
       "    </tr>\n",
       "    <tr>\n",
       "      <th>4</th>\n",
       "      <td>OK</td>\n",
       "      <td>75</td>\n",
       "      <td>415</td>\n",
       "      <td>Yes</td>\n",
       "      <td>No</td>\n",
       "      <td>0</td>\n",
       "      <td>166.7</td>\n",
       "      <td>28.34</td>\n",
       "      <td>148.3</td>\n",
       "      <td>12.61</td>\n",
       "      <td>186.9</td>\n",
       "      <td>8.41</td>\n",
       "      <td>10.1</td>\n",
       "      <td>2.73</td>\n",
       "      <td>3</td>\n",
       "      <td>False</td>\n",
       "      <td>0.17</td>\n",
       "      <td>0.09</td>\n",
       "      <td>0.04</td>\n",
       "      <td>0.27</td>\n",
       "    </tr>\n",
       "  </tbody>\n",
       "</table>\n",
       "</div>"
      ],
      "text/plain": [
       "  State  Account length  Area code International plan Voice mail plan  \\\n",
       "0    KS             128        415                 No             Yes   \n",
       "1    OH             107        415                 No             Yes   \n",
       "2    NJ             137        415                 No              No   \n",
       "3    OH              84        408                Yes              No   \n",
       "4    OK              75        415                Yes              No   \n",
       "\n",
       "   Number vmail messages  Total day minutes  Total day charge  \\\n",
       "0                     25              265.1             45.07   \n",
       "1                     26              161.6             27.47   \n",
       "2                      0              243.4             41.38   \n",
       "3                      0              299.4             50.90   \n",
       "4                      0              166.7             28.34   \n",
       "\n",
       "   Total eve minutes  Total eve charge  Total night minutes  \\\n",
       "0              197.4             16.78                244.7   \n",
       "1              195.5             16.62                254.4   \n",
       "2              121.2             10.30                162.6   \n",
       "3               61.9              5.26                196.9   \n",
       "4              148.3             12.61                186.9   \n",
       "\n",
       "   Total night charge  Total intl minutes  Total intl charge  \\\n",
       "0               11.01                10.0               2.70   \n",
       "1               11.45                13.7               3.70   \n",
       "2                7.32                12.2               3.29   \n",
       "3                8.86                 6.6               1.78   \n",
       "4                8.41                10.1               2.73   \n",
       "\n",
       "   Customer service calls  Churn  Day cost per minute  Eve cost per minute  \\\n",
       "0                       1  False                 0.17                 0.09   \n",
       "1                       1  False                 0.17                 0.09   \n",
       "2                       0  False                 0.17                 0.08   \n",
       "3                       2  False                 0.17                 0.08   \n",
       "4                       3  False                 0.17                 0.09   \n",
       "\n",
       "   Night cost per minute  Intl cost per minute  \n",
       "0                   0.04                  0.27  \n",
       "1                   0.05                  0.27  \n",
       "2                   0.05                  0.27  \n",
       "3                   0.04                  0.27  \n",
       "4                   0.04                  0.27  "
      ]
     },
     "execution_count": 3769,
     "metadata": {},
     "output_type": "execute_result"
    }
   ],
   "source": [
    "df_telecoms[\"Intl cost per minute\"] = round((df_telecoms[\"Total intl charge\"] / df_telecoms[\"Total intl minutes\"]),2)\n",
    "df_telecoms[\"Intl cost per minute\"] = df_telecoms[\"Intl cost per minute\"].fillna(0)\n",
    "df_telecoms.head()"
   ]
  },
  {
   "cell_type": "markdown",
   "metadata": {},
   "source": [
    "Remove the non-essentials columns to make a clean and exploitable dataframe"
   ]
  },
  {
   "cell_type": "code",
   "execution_count": 3770,
   "metadata": {},
   "outputs": [],
   "source": [
    "non_essentials_data = ['Number vmail messages', 'Total day minutes',\n",
    "       'Total day charge', 'Total eve minutes', 'Total eve charge',\n",
    "       'Total night minutes', 'Total night charge', 'Total intl minutes',\n",
    "       'Total intl charge']\n",
    "df_telecoms = df_telecoms.drop(non_essentials_data, axis=1)"
   ]
  },
  {
   "cell_type": "markdown",
   "metadata": {},
   "source": [
    "We can see that, according to few minor exceptions, the four new column have no impact on the decision to the customer to leave this company so we can remove them"
   ]
  },
  {
   "cell_type": "code",
   "execution_count": 3773,
   "metadata": {},
   "outputs": [],
   "source": [
    "df_telecoms = df_telecoms.drop(['Day cost per minute', 'Eve cost per minute', 'Night cost per minute',\n",
    "       'Intl cost per minute'],axis=1)"
   ]
  },
  {
   "cell_type": "markdown",
   "metadata": {},
   "source": [
    "First we create two dataframe, one with the numerical values and one with the categorical values"
   ]
  },
  {
   "cell_type": "code",
   "execution_count": 3775,
   "metadata": {},
   "outputs": [],
   "source": [
    "categorical_columns = [\"State\", \"Area code\", \"International plan\", \"Voice mail plan\"]\n",
    "df_numerical = df_telecoms.drop(categorical_columns,axis=1)\n",
    "df_numerical = df_numerical.drop(\"Churn\",axis=1)\n",
    "df_categorical = df_telecoms.drop(df_numerical,axis=1)\n",
    "df_categorical = df_categorical.drop(\"Churn\",axis=1)"
   ]
  },
  {
   "cell_type": "markdown",
   "metadata": {},
   "source": [
    "Now we have two dataframe, one with numerical values, the other with categorical values"
   ]
  },
  {
   "cell_type": "markdown",
   "metadata": {},
   "source": [
    "We create here the target list"
   ]
  },
  {
   "cell_type": "code",
   "execution_count": 3776,
   "metadata": {},
   "outputs": [],
   "source": [
    "df_labels = df_telecoms[\"Churn\"]"
   ]
  },
  {
   "cell_type": "markdown",
   "metadata": {},
   "source": [
    "#### Data Analyse <a id=\"DataAnalyse\"></a>"
   ]
  },
  {
   "cell_type": "markdown",
   "metadata": {},
   "source": [
    "Here we see the describe content"
   ]
  },
  {
   "cell_type": "code",
   "execution_count": 3777,
   "metadata": {},
   "outputs": [
    {
     "data": {
      "text/html": [
       "<div>\n",
       "<style scoped>\n",
       "    .dataframe tbody tr th:only-of-type {\n",
       "        vertical-align: middle;\n",
       "    }\n",
       "\n",
       "    .dataframe tbody tr th {\n",
       "        vertical-align: top;\n",
       "    }\n",
       "\n",
       "    .dataframe thead th {\n",
       "        text-align: right;\n",
       "    }\n",
       "</style>\n",
       "<table border=\"1\" class=\"dataframe\">\n",
       "  <thead>\n",
       "    <tr style=\"text-align: right;\">\n",
       "      <th></th>\n",
       "      <th>Account length</th>\n",
       "      <th>Customer service calls</th>\n",
       "    </tr>\n",
       "  </thead>\n",
       "  <tbody>\n",
       "    <tr>\n",
       "      <th>count</th>\n",
       "      <td>2666.000000</td>\n",
       "      <td>2666.000000</td>\n",
       "    </tr>\n",
       "    <tr>\n",
       "      <th>mean</th>\n",
       "      <td>100.620405</td>\n",
       "      <td>1.562641</td>\n",
       "    </tr>\n",
       "    <tr>\n",
       "      <th>std</th>\n",
       "      <td>39.563974</td>\n",
       "      <td>1.311236</td>\n",
       "    </tr>\n",
       "    <tr>\n",
       "      <th>min</th>\n",
       "      <td>1.000000</td>\n",
       "      <td>0.000000</td>\n",
       "    </tr>\n",
       "    <tr>\n",
       "      <th>25%</th>\n",
       "      <td>73.000000</td>\n",
       "      <td>1.000000</td>\n",
       "    </tr>\n",
       "    <tr>\n",
       "      <th>50%</th>\n",
       "      <td>100.000000</td>\n",
       "      <td>1.000000</td>\n",
       "    </tr>\n",
       "    <tr>\n",
       "      <th>75%</th>\n",
       "      <td>127.000000</td>\n",
       "      <td>2.000000</td>\n",
       "    </tr>\n",
       "    <tr>\n",
       "      <th>max</th>\n",
       "      <td>243.000000</td>\n",
       "      <td>9.000000</td>\n",
       "    </tr>\n",
       "  </tbody>\n",
       "</table>\n",
       "</div>"
      ],
      "text/plain": [
       "       Account length  Customer service calls\n",
       "count     2666.000000             2666.000000\n",
       "mean       100.620405                1.562641\n",
       "std         39.563974                1.311236\n",
       "min          1.000000                0.000000\n",
       "25%         73.000000                1.000000\n",
       "50%        100.000000                1.000000\n",
       "75%        127.000000                2.000000\n",
       "max        243.000000                9.000000"
      ]
     },
     "execution_count": 3777,
     "metadata": {},
     "output_type": "execute_result"
    }
   ],
   "source": [
    "df_numerical.describe()"
   ]
  },
  {
   "cell_type": "markdown",
   "metadata": {},
   "source": [
    "Here we change the int type of the Area code because it's more an information or a category than a relevant number"
   ]
  },
  {
   "cell_type": "code",
   "execution_count": 3779,
   "metadata": {},
   "outputs": [
    {
     "name": "stdout",
     "output_type": "stream",
     "text": [
      "<class 'pandas.core.frame.DataFrame'>\n",
      "RangeIndex: 2666 entries, 0 to 2665\n",
      "Data columns (total 4 columns):\n",
      " #   Column              Non-Null Count  Dtype \n",
      "---  ------              --------------  ----- \n",
      " 0   State               2666 non-null   object\n",
      " 1   Area code           2666 non-null   object\n",
      " 2   International plan  2666 non-null   object\n",
      " 3   Voice mail plan     2666 non-null   object\n",
      "dtypes: object(4)\n",
      "memory usage: 83.4+ KB\n"
     ]
    }
   ],
   "source": [
    "df_categorical=df_categorical.astype({\"Area code\":object})\n",
    "df_categorical.info()"
   ]
  },
  {
   "cell_type": "markdown",
   "metadata": {},
   "source": [
    "### Data visualisation <a id=\"Graphs\"></a>"
   ]
  },
  {
   "cell_type": "markdown",
   "metadata": {},
   "source": [
    "Here we see four diagrams that represent each tendancy of each categorical values"
   ]
  },
  {
   "cell_type": "code",
   "execution_count": 3780,
   "metadata": {},
   "outputs": [
    {
     "data": {
      "text/plain": [
       "<Figure size 720x1728 with 0 Axes>"
      ]
     },
     "metadata": {},
     "output_type": "display_data"
    },
    {
     "data": {
      "image/png": "[encoded data removed]",
      "text/plain": [
       "<Figure size 432x288 with 1 Axes>"
      ]
     },
     "metadata": {
      "needs_background": "light"
     },
     "output_type": "display_data"
    },
    {
     "data": {
      "text/plain": [
       "<Figure size 720x1728 with 0 Axes>"
      ]
     },
     "metadata": {},
     "output_type": "display_data"
    },
    {
     "data": {
      "image/png": "[encoded data removed]",
      "text/plain": [
       "<Figure size 432x288 with 1 Axes>"
      ]
     },
     "metadata": {
      "needs_background": "light"
     },
     "output_type": "display_data"
    },
    {
     "data": {
      "text/plain": [
       "<Figure size 720x1728 with 0 Axes>"
      ]
     },
     "metadata": {},
     "output_type": "display_data"
    },
    {
     "data": {
      "image/png": "[encoded data removed]",
      "text/plain": [
       "<Figure size 432x288 with 1 Axes>"
      ]
     },
     "metadata": {
      "needs_background": "light"
     },
     "output_type": "display_data"
    },
    {
     "data": {
      "text/plain": [
       "<Figure size 720x1728 with 0 Axes>"
      ]
     },
     "metadata": {},
     "output_type": "display_data"
    },
    {
     "data": {
      "image/png": "[encoded data removed]",
      "text/plain": [
       "<Figure size 432x288 with 1 Axes>"
      ]
     },
     "metadata": {
      "needs_background": "light"
     },
     "output_type": "display_data"
    }
   ],
   "source": [
    "categorical_plots(df_telecoms,df_categorical)"
   ]
  },
  {
   "cell_type": "markdown",
   "metadata": {},
   "source": [
    "Here we see the boxplot of each numerical values"
   ]
  },
  {
   "cell_type": "code",
   "execution_count": 3781,
   "metadata": {},
   "outputs": [
    {
     "data": {
      "image/png": "[encoded data removed]",
      "text/plain": [
       "<Figure size 432x288 with 1 Axes>"
      ]
     },
     "metadata": {
      "needs_background": "light"
     },
     "output_type": "display_data"
    }
   ],
   "source": [
    "df_numerical_columns = ['Account length', 'Customer service calls']\n",
    "boxplot=df_telecoms.boxplot(column=df_numerical_columns[0:1], rot=65)"
   ]
  },
  {
   "cell_type": "code",
   "execution_count": 3782,
   "metadata": {},
   "outputs": [
    {
     "data": {
      "image/png": "[encoded data removed]",
      "text/plain": [
       "<Figure size 432x288 with 1 Axes>"
      ]
     },
     "metadata": {
      "needs_background": "light"
     },
     "output_type": "display_data"
    }
   ],
   "source": [
    "boxplot=df_telecoms.boxplot(column=df_numerical_columns[1:2], rot=65)"
   ]
  },
  {
   "cell_type": "markdown",
   "metadata": {},
   "source": [
    "## Data modeling <a id=\"DataModeling\"></a>"
   ]
  },
  {
   "cell_type": "markdown",
   "metadata": {},
   "source": [
    "### Preprocessing <a id=\"Prepro\"></a>"
   ]
  },
  {
   "cell_type": "markdown",
   "metadata": {},
   "source": [
    "Here we transform into numpy array the categorical and numerical dataframe, next we concat them to make ndarray that contain all our numpy data"
   ]
  },
  {
   "cell_type": "markdown",
   "metadata": {},
   "source": [
    "Next we make our target series as our y vector then we reshape it to avoid the missing dimension"
   ]
  },
  {
   "cell_type": "code",
   "execution_count": 3783,
   "metadata": {},
   "outputs": [],
   "source": [
    "X_categ=df_categorical.to_numpy()\n",
    "X_numeric=df_numerical.to_numpy()\n",
    "X=np.hstack((X_categ,X_numeric))\n",
    "y=df_labels.to_numpy()\n",
    "y = y.reshape(y.shape[0],1)"
   ]
  },
  {
   "cell_type": "code",
   "execution_count": 3784,
   "metadata": {},
   "outputs": [
    {
     "name": "stdout",
     "output_type": "stream",
     "text": [
      "(2666, 6)\n",
      "(2666, 1)\n"
     ]
    }
   ],
   "source": [
    "print(X.shape)\n",
    "print(y.shape)"
   ]
  },
  {
   "cell_type": "markdown",
   "metadata": {},
   "source": [
    "X and y are done and ready to be exploit"
   ]
  },
  {
   "cell_type": "markdown",
   "metadata": {},
   "source": [
    "We make our train and test sets"
   ]
  },
  {
   "cell_type": "code",
   "execution_count": 3785,
   "metadata": {},
   "outputs": [],
   "source": [
    "X_train, X_test, y_train, y_test=train_test_split(X,y,stratify=y,test_size=0.3,random_state=2)"
   ]
  },
  {
   "cell_type": "markdown",
   "metadata": {},
   "source": [
    "### Encodage <a id=\"Encodage\"></a>"
   ]
  },
  {
   "cell_type": "code",
   "execution_count": 3787,
   "metadata": {},
   "outputs": [
    {
     "name": "stdout",
     "output_type": "stream",
     "text": [
      "(1866, 6)\n",
      "(1866, 4) (1866, 2)\n"
     ]
    }
   ],
   "source": [
    "print(X_train.shape)\n",
    "X_train_categorical=X_train[ :,0:4]\n",
    "X_train_numerical=X_train[ :, 4:6]\n",
    "print(X_train_categorical.shape,X_train_numerical.shape)"
   ]
  },
  {
   "cell_type": "code",
   "execution_count": 3788,
   "metadata": {},
   "outputs": [
    {
     "name": "stdout",
     "output_type": "stream",
     "text": [
      "(1866, 58)\n"
     ]
    }
   ],
   "source": [
    "# Encodage One Hot\n",
    "hot_encoder=OneHotEncoder(sparse=False)\n",
    "X_train_categorical=hot_encoder.fit_transform(X_train_categorical)\n",
    "print(X_train_categorical.shape)"
   ]
  },
  {
   "cell_type": "code",
   "execution_count": 3789,
   "metadata": {},
   "outputs": [
    {
     "data": {
      "text/plain": [
       "[array(['AK', 'AL', 'AR', 'AZ', 'CA', 'CO', 'CT', 'DC', 'DE', 'FL', 'GA',\n",
       "        'HI', 'IA', 'ID', 'IL', 'IN', 'KS', 'KY', 'LA', 'MA', 'MD', 'ME',\n",
       "        'MI', 'MN', 'MO', 'MS', 'MT', 'NC', 'ND', 'NE', 'NH', 'NJ', 'NM',\n",
       "        'NV', 'NY', 'OH', 'OK', 'OR', 'PA', 'RI', 'SC', 'SD', 'TN', 'TX',\n",
       "        'UT', 'VA', 'VT', 'WA', 'WI', 'WV', 'WY'], dtype=object),\n",
       " array([408, 415, 510], dtype=object),\n",
       " array(['No', 'Yes'], dtype=object),\n",
       " array(['No', 'Yes'], dtype=object)]"
      ]
     },
     "execution_count": 3789,
     "metadata": {},
     "output_type": "execute_result"
    }
   ],
   "source": [
    "hot_encoder.categories_"
   ]
  },
  {
   "cell_type": "code",
   "execution_count": 3790,
   "metadata": {},
   "outputs": [
    {
     "data": {
      "text/plain": [
       "(1866, 58)"
      ]
     },
     "execution_count": 3790,
     "metadata": {},
     "output_type": "execute_result"
    }
   ],
   "source": [
    "X_train_categorical.shape"
   ]
  },
  {
   "cell_type": "code",
   "execution_count": 3791,
   "metadata": {},
   "outputs": [
    {
     "data": {
      "text/plain": [
       "(1866, 2)"
      ]
     },
     "execution_count": 3791,
     "metadata": {},
     "output_type": "execute_result"
    }
   ],
   "source": [
    "X_train_numerical.shape"
   ]
  },
  {
   "cell_type": "code",
   "execution_count": 3792,
   "metadata": {},
   "outputs": [
    {
     "name": "stdout",
     "output_type": "stream",
     "text": [
      "(1866, 60)\n"
     ]
    }
   ],
   "source": [
    "X_train=np.hstack((X_train_categorical,X_train_numerical))\n",
    "print(X_train.shape)"
   ]
  },
  {
   "cell_type": "code",
   "execution_count": 3793,
   "metadata": {},
   "outputs": [],
   "source": [
    "# Encodage label binarizer\n",
    "from sklearn.preprocessing import LabelBinarizer\n",
    "binarizer=LabelBinarizer()\n",
    "Y_train=binarizer.fit_transform(y_train)"
   ]
  },
  {
   "cell_type": "markdown",
   "metadata": {},
   "source": [
    "### Feature selection <a id=\"FeatSelec\"></a>"
   ]
  },
  {
   "cell_type": "markdown",
   "metadata": {},
   "source": [
    "#### Possibilité d'utiliser le Variance Threshold ou SelectKBest (ici Select K Best)"
   ]
  },
  {
   "cell_type": "code",
   "execution_count": 3794,
   "metadata": {},
   "outputs": [],
   "source": [
    "#print(chi2(X_train,Y_train))  - n'accepte pas des valeurs standardisées avec Standard Scaler car <0\n",
    "selector=SelectKBest(chi2,k=8)\n",
    "X_train=selector.fit_transform(X_train,Y_train)\n",
    "# X_train"
   ]
  },
  {
   "cell_type": "code",
   "execution_count": 3795,
   "metadata": {},
   "outputs": [
    {
     "name": "stdout",
     "output_type": "stream",
     "text": [
      "[11 25 31 54 55 56 57 59]\n"
     ]
    },
    {
     "data": {
      "text/plain": [
       "array([[0.0, 0.0, 0.0, ..., 0.0, 1.0, 6],\n",
       "       [0.0, 0.0, 0.0, ..., 1.0, 0.0, 1],\n",
       "       [0.0, 0.0, 0.0, ..., 0.0, 1.0, 0],\n",
       "       ...,\n",
       "       [0.0, 0.0, 0.0, ..., 0.0, 1.0, 0],\n",
       "       [0.0, 0.0, 0.0, ..., 1.0, 0.0, 0],\n",
       "       [0.0, 0.0, 0.0, ..., 1.0, 0.0, 2]], dtype=object)"
      ]
     },
     "execution_count": 3795,
     "metadata": {},
     "output_type": "execute_result"
    }
   ],
   "source": [
    "select=selector.get_support(indices=True)\n",
    "print(select)\n",
    "# 11 = GA\n",
    "# 25 = ME \n",
    "# 31 = NH\n",
    "# 54 = 408\n",
    "# 55 = 415\n",
    "# 56 = 510\n",
    "# 57 = A un plan internantional\n",
    "# 59 = A un plan mail\n",
    "X_train"
   ]
  },
  {
   "cell_type": "code",
   "execution_count": 3796,
   "metadata": {},
   "outputs": [],
   "source": [
    "# Pour tous les modèles (mais inutile pour le DT), il faut standardiser les valeurs numériques\n",
    "X_train_numerical=X_train[:,4:8]\n",
    "X_train_categorical=X_train[:,0:4]\n",
    "from sklearn.preprocessing import StandardScaler\n",
    "scaler=StandardScaler()\n",
    "X_train_numerical=scaler.fit_transform(X_train_numerical)\n",
    "X_train=np.hstack((X_train_categorical,X_train_numerical))"
   ]
  },
  {
   "cell_type": "code",
   "execution_count": 3797,
   "metadata": {},
   "outputs": [
    {
     "data": {
      "text/plain": [
       "(1866, 8)"
      ]
     },
     "execution_count": 3797,
     "metadata": {},
     "output_type": "execute_result"
    }
   ],
   "source": [
    "X_train.shape"
   ]
  },
  {
   "cell_type": "code",
   "execution_count": 3798,
   "metadata": {},
   "outputs": [],
   "source": [
    "#Appliquer les mêmes transformations à x_test et y_test\n",
    "X_test,Y_test=data_preprocessing(X_test,y_test,hot_encoder,binarizer,selector)"
   ]
  },
  {
   "cell_type": "code",
   "execution_count": 3799,
   "metadata": {},
   "outputs": [
    {
     "name": "stdout",
     "output_type": "stream",
     "text": [
      "(800, 8)\n"
     ]
    }
   ],
   "source": [
    "print(X_test.shape)"
   ]
  },
  {
   "cell_type": "markdown",
   "metadata": {},
   "source": [
    "## Testing and modeling <a id=\"TestsModels\"></a>"
   ]
  },
  {
   "cell_type": "markdown",
   "metadata": {},
   "source": [
    "Now we are going to do the 3 following models to see wich one is the more accurate to be used"
   ]
  },
  {
   "cell_type": "markdown",
   "metadata": {},
   "source": [
    "### KNN <a id=\"KNN\"></a>"
   ]
  },
  {
   "cell_type": "code",
   "execution_count": 3800,
   "metadata": {},
   "outputs": [
    {
     "name": "stderr",
     "output_type": "stream",
     "text": [
      "D:\\Programmation\\Anaconda\\lib\\site-packages\\sklearn\\neighbors\\_classification.py:179: DataConversionWarning: A column-vector y was passed when a 1d array was expected. Please change the shape of y to (n_samples,), for example using ravel().\n",
      "  return self._fit(X, y)\n"
     ]
    }
   ],
   "source": [
    "from sklearn.neighbors import KNeighborsClassifier\n",
    "clf_KNN=KNeighborsClassifier()\n",
    "clf_KNN.fit(X_train,Y_train)\n",
    "y_pred_proba=clf_KNN.predict_proba(X_test)\n",
    "y_pred=clf_KNN.predict(X_test)"
   ]
  },
  {
   "cell_type": "code",
   "execution_count": 3801,
   "metadata": {},
   "outputs": [
    {
     "name": "stdout",
     "output_type": "stream",
     "text": [
      "=======================\n",
      "K nearest neighbors\n",
      "=======================\n",
      "\n",
      "\n",
      "CONFUSION MATRIX : \n",
      "\n",
      "[[420 264]\n",
      " [ 58  58]]\n",
      "\n",
      "\n",
      "ACCURACY OF THE MODEL : \n",
      "\n",
      "0.5975\n",
      "\n",
      "\n",
      "CLASSIFICATION REPORT : \n",
      "\n",
      "              precision    recall  f1-score   support\n",
      "\n",
      "           0       0.88      0.61      0.72       684\n",
      "           1       0.18      0.50      0.26       116\n",
      "\n",
      "    accuracy                           0.60       800\n",
      "   macro avg       0.53      0.56      0.49       800\n",
      "weighted avg       0.78      0.60      0.66       800\n",
      "\n",
      "\n",
      "\n",
      "ROC-AUC SCORE : \n",
      "\n",
      "0.5570175438596491\n",
      "\n",
      "\n",
      "ROC CURVE : \n",
      "\n",
      "False positivze rate [0.         0.19590643 0.38596491 0.58187135 1.        ]\n",
      "True negative rate [0.         0.29310345 0.5        0.70689655 1.        ]\n",
      "Thresholds [1.8 0.8 0.6 0.2 0. ]\n"
     ]
    },
    {
     "data": {
      "image/png": "[encoded data removed]",
      "text/plain": [
       "<Figure size 432x288 with 1 Axes>"
      ]
     },
     "metadata": {
      "needs_background": "light"
     },
     "output_type": "display_data"
    }
   ],
   "source": [
    "binary_classifier_evaluation(\"K nearest neighbors\",X_test, Y_test, y_pred, y_pred_proba,clf_KNN)"
   ]
  },
  {
   "cell_type": "markdown",
   "metadata": {},
   "source": [
    "### Decision Tree <a id=\"DT\"></a>"
   ]
  },
  {
   "cell_type": "code",
   "execution_count": 3802,
   "metadata": {},
   "outputs": [],
   "source": [
    "from sklearn.tree import DecisionTreeClassifier\n",
    "clf_DT= DecisionTreeClassifier(random_state=2)\n",
    "clf_DT.fit(X_train,Y_train)\n",
    "y_pred_proba=clf_DT.predict_proba(X_test)\n",
    "y_pred=clf_DT.predict(X_test)"
   ]
  },
  {
   "cell_type": "code",
   "execution_count": 3803,
   "metadata": {},
   "outputs": [
    {
     "name": "stdout",
     "output_type": "stream",
     "text": [
      "=======================\n",
      "Decision tree\n",
      "=======================\n",
      "\n",
      "\n",
      "CONFUSION MATRIX : \n",
      "\n",
      "[[533 151]\n",
      " [ 73  43]]\n",
      "\n",
      "\n",
      "ACCURACY OF THE MODEL : \n",
      "\n",
      "0.72\n",
      "\n",
      "\n",
      "CLASSIFICATION REPORT : \n",
      "\n",
      "              precision    recall  f1-score   support\n",
      "\n",
      "           0       0.88      0.78      0.83       684\n",
      "           1       0.22      0.37      0.28       116\n",
      "\n",
      "    accuracy                           0.72       800\n",
      "   macro avg       0.55      0.57      0.55       800\n",
      "weighted avg       0.78      0.72      0.75       800\n",
      "\n",
      "\n",
      "\n",
      "ROC-AUC SCORE : \n",
      "\n",
      "0.5749647106271425\n",
      "\n",
      "\n",
      "ROC CURVE : \n",
      "\n",
      "False positivze rate [0.         0.05409357 0.15789474 0.22076023 0.22660819 0.40935673\n",
      " 0.43128655 0.43859649 0.46491228 0.7748538  0.97222222 1.        ]\n",
      "True negative rate [0.         0.29310345 0.36206897 0.37068966 0.42241379 0.62068966\n",
      " 0.70689655 0.70689655 0.73275862 0.88793103 0.99137931 1.        ]\n",
      "Thresholds [2.         1.         0.64516129 0.52380952 0.5        0.46153846\n",
      " 0.26666667 0.25       0.14285714 0.09090909 0.07924528 0.        ]\n"
     ]
    },
    {
     "data": {
      "image/png": "[encoded data removed]",
      "text/plain": [
       "<Figure size 432x288 with 1 Axes>"
      ]
     },
     "metadata": {
      "needs_background": "light"
     },
     "output_type": "display_data"
    }
   ],
   "source": [
    "binary_classifier_evaluation(\"Decision tree\",X_test, Y_test, y_pred, y_pred_proba,clf_DT)"
   ]
  },
  {
   "cell_type": "markdown",
   "metadata": {},
   "source": [
    "### Random Forest <a id=\"RF\"></a>"
   ]
  },
  {
   "cell_type": "code",
   "execution_count": 3804,
   "metadata": {},
   "outputs": [
    {
     "name": "stderr",
     "output_type": "stream",
     "text": [
      "<ipython-input-3804-7bde26b7aaac>:3: DataConversionWarning: A column-vector y was passed when a 1d array was expected. Please change the shape of y to (n_samples,), for example using ravel().\n",
      "  clf_RF.fit(X_train,Y_train)\n"
     ]
    }
   ],
   "source": [
    "from sklearn.ensemble import RandomForestClassifier\n",
    "clf_RF=RandomForestClassifier()\n",
    "clf_RF.fit(X_train,Y_train)\n",
    "y_pred_proba=clf_RF.predict_proba(X_test)\n",
    "y_pred=clf_RF.predict(X_test)"
   ]
  },
  {
   "cell_type": "code",
   "execution_count": 3805,
   "metadata": {},
   "outputs": [
    {
     "name": "stdout",
     "output_type": "stream",
     "text": [
      "=======================\n",
      "Random Forest\n",
      "=======================\n",
      "\n",
      "\n",
      "CONFUSION MATRIX : \n",
      "\n",
      "[[578 106]\n",
      " [ 67  49]]\n",
      "\n",
      "\n",
      "ACCURACY OF THE MODEL : \n",
      "\n",
      "0.78375\n",
      "\n",
      "\n",
      "CLASSIFICATION REPORT : \n",
      "\n",
      "              precision    recall  f1-score   support\n",
      "\n",
      "           0       0.90      0.85      0.87       684\n",
      "           1       0.32      0.42      0.36       116\n",
      "\n",
      "    accuracy                           0.78       800\n",
      "   macro avg       0.61      0.63      0.62       800\n",
      "weighted avg       0.81      0.78      0.80       800\n",
      "\n",
      "\n",
      "\n",
      "ROC-AUC SCORE : \n",
      "\n",
      "0.6337215164347652\n",
      "\n",
      "\n",
      "ROC CURVE : \n",
      "\n",
      "False positivze rate [0.         0.00438596 0.02631579 0.02631579 0.02777778 0.02923977\n",
      " 0.03508772 0.13450292 0.14035088 0.14035088 0.14766082 0.14766082\n",
      " 0.15204678 0.15350877 0.15497076 0.15935673 0.22222222 0.2251462\n",
      " 0.38450292 0.38596491 0.39035088 0.39035088 0.41374269 0.41959064\n",
      " 0.43128655 0.43859649 0.44298246 0.44298246 0.46491228 0.46637427\n",
      " 0.69005848 0.83333333 0.8874269  0.97368421 0.97660819 0.98099415\n",
      " 0.98245614 0.98830409 1.        ]\n",
      "True negative rate [0.         0.05172414 0.15517241 0.1637931  0.18965517 0.18965517\n",
      " 0.23275862 0.30172414 0.31034483 0.31896552 0.3362069  0.35344828\n",
      " 0.4137931  0.42241379 0.42241379 0.42241379 0.43103448 0.44827586\n",
      " 0.50862069 0.50862069 0.50862069 0.54310345 0.55172414 0.55172414\n",
      " 0.60344828 0.62931034 0.64655172 0.65517241 0.74137931 0.74137931\n",
      " 0.89655172 0.99137931 1.         1.         1.         1.\n",
      " 1.         1.         1.        ]\n",
      "Thresholds [1.97847222e+00 9.78472222e-01 9.55829365e-01 9.44948413e-01\n",
      " 9.22305556e-01 8.54615624e-01 7.82028432e-01 6.42330266e-01\n",
      " 6.38805556e-01 6.37619048e-01 6.22376984e-01 6.06019841e-01\n",
      " 5.95867427e-01 5.89591270e-01 5.86410634e-01 4.99597457e-01\n",
      " 4.93223652e-01 4.88371007e-01 4.61564252e-01 4.53785714e-01\n",
      " 4.53034552e-01 4.45336851e-01 3.80496134e-01 2.86944444e-01\n",
      " 2.77821199e-01 2.23989047e-01 2.19803314e-01 1.76666667e-01\n",
      " 1.72235694e-01 1.46867955e-01 9.24698835e-02 7.94353693e-02\n",
      " 5.97530657e-02 5.48727280e-02 3.75333333e-02 2.71287879e-02\n",
      " 1.30807611e-02 4.65367965e-04 0.00000000e+00]\n"
     ]
    },
    {
     "data": {
      "image/png": "[encoded data removed]",
      "text/plain": [
       "<Figure size 432x288 with 1 Axes>"
      ]
     },
     "metadata": {
      "needs_background": "light"
     },
     "output_type": "display_data"
    }
   ],
   "source": [
    "binary_classifier_evaluation(\"Random Forest\",X_test, Y_test, y_pred, y_pred_proba,clf_RF)"
   ]
  },
  {
   "cell_type": "markdown",
   "metadata": {},
   "source": [
    "## Improvements <a id=\"Improvements\"></a>"
   ]
  },
  {
   "cell_type": "markdown",
   "metadata": {},
   "source": [
    "### Random Forest parameters improvement <a id=\"RFPI\"></a>"
   ]
  },
  {
   "cell_type": "code",
   "execution_count": 3806,
   "metadata": {},
   "outputs": [
    {
     "name": "stdout",
     "output_type": "stream",
     "text": [
      "0.4396551724137931\n"
     ]
    },
    {
     "name": "stderr",
     "output_type": "stream",
     "text": [
      "<ipython-input-3806-3a410e3ecbfa>:6: DataConversionWarning: A column-vector y was passed when a 1d array was expected. Please change the shape of y to (n_samples,), for example using ravel().\n",
      "  clf_RF.fit(X_train,Y_train)\n",
      "<ipython-input-3806-3a410e3ecbfa>:6: DataConversionWarning: A column-vector y was passed when a 1d array was expected. Please change the shape of y to (n_samples,), for example using ravel().\n",
      "  clf_RF.fit(X_train,Y_train)\n",
      "<ipython-input-3806-3a410e3ecbfa>:6: DataConversionWarning: A column-vector y was passed when a 1d array was expected. Please change the shape of y to (n_samples,), for example using ravel().\n",
      "  clf_RF.fit(X_train,Y_train)\n"
     ]
    },
    {
     "name": "stdout",
     "output_type": "stream",
     "text": [
      "0.4396551724137931\n",
      "0.4396551724137931\n"
     ]
    },
    {
     "name": "stderr",
     "output_type": "stream",
     "text": [
      "<ipython-input-3806-3a410e3ecbfa>:6: DataConversionWarning: A column-vector y was passed when a 1d array was expected. Please change the shape of y to (n_samples,), for example using ravel().\n",
      "  clf_RF.fit(X_train,Y_train)\n"
     ]
    },
    {
     "name": "stdout",
     "output_type": "stream",
     "text": [
      "0.4396551724137931\n"
     ]
    },
    {
     "name": "stderr",
     "output_type": "stream",
     "text": [
      "<ipython-input-3806-3a410e3ecbfa>:6: DataConversionWarning: A column-vector y was passed when a 1d array was expected. Please change the shape of y to (n_samples,), for example using ravel().\n",
      "  clf_RF.fit(X_train,Y_train)\n"
     ]
    },
    {
     "name": "stdout",
     "output_type": "stream",
     "text": [
      "0.4396551724137931\n"
     ]
    },
    {
     "data": {
      "text/plain": [
       "[<matplotlib.lines.Line2D at 0x276df647550>]"
      ]
     },
     "execution_count": 3806,
     "metadata": {},
     "output_type": "execute_result"
    },
    {
     "data": {
      "image/png": "[encoded data removed]",
      "text/plain": [
       "<Figure size 432x288 with 1 Axes>"
      ]
     },
     "metadata": {
      "needs_background": "light"
     },
     "output_type": "display_data"
    }
   ],
   "source": [
    "from sklearn.metrics import recall_score\n",
    "recalls = []\n",
    "nb_trees = [10,50,100,500,1000]\n",
    "for i in nb_trees:\n",
    "    clf_RF = RandomForestClassifier(n_estimators=i, random_state=2)\n",
    "    clf_RF.fit(X_train,Y_train)\n",
    "    \n",
    "    # Make predict on the test set features\n",
    "    y_pred = clf_RF.predict(X_test)\n",
    "    recalls.append(recall_score(Y_test, y_pred))\n",
    "    print(recall_score(Y_test,y_pred))\n",
    "    \n",
    "import matplotlib.pyplot as plt\n",
    "plt.plot(nb_trees, recalls)"
   ]
  },
  {
   "cell_type": "markdown",
   "metadata": {},
   "source": [
    "### Decision Tree hyperparameters improvement <a id=\"DTHI\"></a>"
   ]
  },
  {
   "cell_type": "code",
   "execution_count": 3807,
   "metadata": {},
   "outputs": [
    {
     "name": "stdout",
     "output_type": "stream",
     "text": [
      "Best parameters {'criterion': 'entropy', 'max_depth': 3}\n"
     ]
    }
   ],
   "source": [
    "# Explications : https://www.youtube.com/watch?v=w_bLGK4Pteo\n",
    "# Grid Search et cross validation\n",
    "#Find the best Hyperparameters cross validation\n",
    "criterions = ['gini', 'entropy']\n",
    "max_depth = [1,3,5,7,9,11,13,15]\n",
    "\n",
    "from sklearn.model_selection import GridSearchCV\n",
    "grid = GridSearchCV(estimator = clf_DT, scoring=\"recall\" , cv=5, param_grid={'criterion': criterions, 'max_depth': max_depth})\n",
    "\n",
    "grid.fit(X_train, Y_train)\n",
    "print(\"Best parameters\", grid.best_params_)"
   ]
  },
  {
   "cell_type": "code",
   "execution_count": 3808,
   "metadata": {},
   "outputs": [],
   "source": [
    "from sklearn.tree import DecisionTreeClassifier\n",
    "clf_DT= DecisionTreeClassifier(criterion='entropy', max_depth=13,random_state=2)\n",
    "clf_DT.fit(X_train,Y_train)\n",
    "y_pred_proba=clf_DT.predict_proba(X_test)\n",
    "y_pred=clf_DT.predict(X_test)"
   ]
  },
  {
   "cell_type": "code",
   "execution_count": 3809,
   "metadata": {},
   "outputs": [
    {
     "name": "stdout",
     "output_type": "stream",
     "text": [
      "=======================\n",
      "Decision tree\n",
      "=======================\n",
      "\n",
      "\n",
      "CONFUSION MATRIX : \n",
      "\n",
      "[[569 115]\n",
      " [ 76  40]]\n",
      "\n",
      "\n",
      "ACCURACY OF THE MODEL : \n",
      "\n",
      "0.76125\n",
      "\n",
      "\n",
      "CLASSIFICATION REPORT : \n",
      "\n",
      "              precision    recall  f1-score   support\n",
      "\n",
      "           0       0.88      0.83      0.86       684\n",
      "           1       0.26      0.34      0.30       116\n",
      "\n",
      "    accuracy                           0.76       800\n",
      "   macro avg       0.57      0.59      0.58       800\n",
      "weighted avg       0.79      0.76      0.77       800\n",
      "\n",
      "\n",
      "\n",
      "ROC-AUC SCORE : \n",
      "\n",
      "0.5883494656180681\n",
      "\n",
      "\n",
      "ROC CURVE : \n",
      "\n",
      "False positivze rate [0.         0.03216374 0.16812865 0.17397661 0.42397661 0.44590643\n",
      " 0.44883041 0.75877193 0.95614035 1.        ]\n",
      "True negative rate [0.         0.20689655 0.34482759 0.39655172 0.60344828 0.68965517\n",
      " 0.68965517 0.84482759 0.94827586 1.        ]\n",
      "Thresholds [2.         1.         0.64516129 0.5        0.46153846 0.26666667\n",
      " 0.25       0.09090909 0.07924528 0.        ]\n"
     ]
    },
    {
     "data": {
      "image/png": "[encoded data removed]",
      "text/plain": [
       "<Figure size 432x288 with 1 Axes>"
      ]
     },
     "metadata": {
      "needs_background": "light"
     },
     "output_type": "display_data"
    }
   ],
   "source": [
    "binary_classifier_evaluation(\"Decision tree\",X_test, Y_test, y_pred, y_pred_proba,clf_DT)"
   ]
  },
  {
   "cell_type": "markdown",
   "metadata": {},
   "source": [
    "### Random Forest hyperparameters improvement <a id=\"RFHI\"></a>"
   ]
  },
  {
   "cell_type": "code",
   "execution_count": 3810,
   "metadata": {},
   "outputs": [
    {
     "name": "stderr",
     "output_type": "stream",
     "text": [
      "D:\\Programmation\\Anaconda\\lib\\site-packages\\sklearn\\model_selection\\_validation.py:593: DataConversionWarning: A column-vector y was passed when a 1d array was expected. Please change the shape of y to (n_samples,), for example using ravel().\n",
      "  estimator.fit(X_train, y_train, **fit_params)\n",
      "D:\\Programmation\\Anaconda\\lib\\site-packages\\sklearn\\model_selection\\_validation.py:593: DataConversionWarning: A column-vector y was passed when a 1d array was expected. Please change the shape of y to (n_samples,), for example using ravel().\n",
      "  estimator.fit(X_train, y_train, **fit_params)\n",
      "D:\\Programmation\\Anaconda\\lib\\site-packages\\sklearn\\model_selection\\_validation.py:593: DataConversionWarning: A column-vector y was passed when a 1d array was expected. Please change the shape of y to (n_samples,), for example using ravel().\n",
      "  estimator.fit(X_train, y_train, **fit_params)\n",
      "D:\\Programmation\\Anaconda\\lib\\site-packages\\sklearn\\model_selection\\_validation.py:593: DataConversionWarning: A column-vector y was passed when a 1d array was expected. Please change the shape of y to (n_samples,), for example using ravel().\n",
      "  estimator.fit(X_train, y_train, **fit_params)\n",
      "D:\\Programmation\\Anaconda\\lib\\site-packages\\sklearn\\model_selection\\_validation.py:593: DataConversionWarning: A column-vector y was passed when a 1d array was expected. Please change the shape of y to (n_samples,), for example using ravel().\n",
      "  estimator.fit(X_train, y_train, **fit_params)\n",
      "D:\\Programmation\\Anaconda\\lib\\site-packages\\sklearn\\model_selection\\_validation.py:593: DataConversionWarning: A column-vector y was passed when a 1d array was expected. Please change the shape of y to (n_samples,), for example using ravel().\n",
      "  estimator.fit(X_train, y_train, **fit_params)\n",
      "D:\\Programmation\\Anaconda\\lib\\site-packages\\sklearn\\model_selection\\_validation.py:593: DataConversionWarning: A column-vector y was passed when a 1d array was expected. Please change the shape of y to (n_samples,), for example using ravel().\n",
      "  estimator.fit(X_train, y_train, **fit_params)\n",
      "D:\\Programmation\\Anaconda\\lib\\site-packages\\sklearn\\model_selection\\_validation.py:593: DataConversionWarning: A column-vector y was passed when a 1d array was expected. Please change the shape of y to (n_samples,), for example using ravel().\n",
      "  estimator.fit(X_train, y_train, **fit_params)\n",
      "D:\\Programmation\\Anaconda\\lib\\site-packages\\sklearn\\model_selection\\_validation.py:593: DataConversionWarning: A column-vector y was passed when a 1d array was expected. Please change the shape of y to (n_samples,), for example using ravel().\n",
      "  estimator.fit(X_train, y_train, **fit_params)\n",
      "D:\\Programmation\\Anaconda\\lib\\site-packages\\sklearn\\model_selection\\_validation.py:593: DataConversionWarning: A column-vector y was passed when a 1d array was expected. Please change the shape of y to (n_samples,), for example using ravel().\n",
      "  estimator.fit(X_train, y_train, **fit_params)\n",
      "D:\\Programmation\\Anaconda\\lib\\site-packages\\sklearn\\model_selection\\_validation.py:593: DataConversionWarning: A column-vector y was passed when a 1d array was expected. Please change the shape of y to (n_samples,), for example using ravel().\n",
      "  estimator.fit(X_train, y_train, **fit_params)\n",
      "D:\\Programmation\\Anaconda\\lib\\site-packages\\sklearn\\model_selection\\_validation.py:593: DataConversionWarning: A column-vector y was passed when a 1d array was expected. Please change the shape of y to (n_samples,), for example using ravel().\n",
      "  estimator.fit(X_train, y_train, **fit_params)\n",
      "D:\\Programmation\\Anaconda\\lib\\site-packages\\sklearn\\model_selection\\_validation.py:593: DataConversionWarning: A column-vector y was passed when a 1d array was expected. Please change the shape of y to (n_samples,), for example using ravel().\n",
      "  estimator.fit(X_train, y_train, **fit_params)\n",
      "D:\\Programmation\\Anaconda\\lib\\site-packages\\sklearn\\model_selection\\_validation.py:593: DataConversionWarning: A column-vector y was passed when a 1d array was expected. Please change the shape of y to (n_samples,), for example using ravel().\n",
      "  estimator.fit(X_train, y_train, **fit_params)\n",
      "D:\\Programmation\\Anaconda\\lib\\site-packages\\sklearn\\model_selection\\_validation.py:593: DataConversionWarning: A column-vector y was passed when a 1d array was expected. Please change the shape of y to (n_samples,), for example using ravel().\n",
      "  estimator.fit(X_train, y_train, **fit_params)\n",
      "D:\\Programmation\\Anaconda\\lib\\site-packages\\sklearn\\model_selection\\_validation.py:593: DataConversionWarning: A column-vector y was passed when a 1d array was expected. Please change the shape of y to (n_samples,), for example using ravel().\n",
      "  estimator.fit(X_train, y_train, **fit_params)\n",
      "D:\\Programmation\\Anaconda\\lib\\site-packages\\sklearn\\model_selection\\_validation.py:593: DataConversionWarning: A column-vector y was passed when a 1d array was expected. Please change the shape of y to (n_samples,), for example using ravel().\n",
      "  estimator.fit(X_train, y_train, **fit_params)\n",
      "D:\\Programmation\\Anaconda\\lib\\site-packages\\sklearn\\model_selection\\_validation.py:593: DataConversionWarning: A column-vector y was passed when a 1d array was expected. Please change the shape of y to (n_samples,), for example using ravel().\n",
      "  estimator.fit(X_train, y_train, **fit_params)\n",
      "D:\\Programmation\\Anaconda\\lib\\site-packages\\sklearn\\model_selection\\_validation.py:593: DataConversionWarning: A column-vector y was passed when a 1d array was expected. Please change the shape of y to (n_samples,), for example using ravel().\n",
      "  estimator.fit(X_train, y_train, **fit_params)\n",
      "D:\\Programmation\\Anaconda\\lib\\site-packages\\sklearn\\model_selection\\_validation.py:593: DataConversionWarning: A column-vector y was passed when a 1d array was expected. Please change the shape of y to (n_samples,), for example using ravel().\n",
      "  estimator.fit(X_train, y_train, **fit_params)\n",
      "D:\\Programmation\\Anaconda\\lib\\site-packages\\sklearn\\model_selection\\_validation.py:593: DataConversionWarning: A column-vector y was passed when a 1d array was expected. Please change the shape of y to (n_samples,), for example using ravel().\n",
      "  estimator.fit(X_train, y_train, **fit_params)\n",
      "D:\\Programmation\\Anaconda\\lib\\site-packages\\sklearn\\model_selection\\_validation.py:593: DataConversionWarning: A column-vector y was passed when a 1d array was expected. Please change the shape of y to (n_samples,), for example using ravel().\n",
      "  estimator.fit(X_train, y_train, **fit_params)\n",
      "D:\\Programmation\\Anaconda\\lib\\site-packages\\sklearn\\model_selection\\_validation.py:593: DataConversionWarning: A column-vector y was passed when a 1d array was expected. Please change the shape of y to (n_samples,), for example using ravel().\n",
      "  estimator.fit(X_train, y_train, **fit_params)\n",
      "D:\\Programmation\\Anaconda\\lib\\site-packages\\sklearn\\model_selection\\_validation.py:593: DataConversionWarning: A column-vector y was passed when a 1d array was expected. Please change the shape of y to (n_samples,), for example using ravel().\n",
      "  estimator.fit(X_train, y_train, **fit_params)\n",
      "D:\\Programmation\\Anaconda\\lib\\site-packages\\sklearn\\model_selection\\_validation.py:593: DataConversionWarning: A column-vector y was passed when a 1d array was expected. Please change the shape of y to (n_samples,), for example using ravel().\n",
      "  estimator.fit(X_train, y_train, **fit_params)\n",
      "D:\\Programmation\\Anaconda\\lib\\site-packages\\sklearn\\model_selection\\_validation.py:593: DataConversionWarning: A column-vector y was passed when a 1d array was expected. Please change the shape of y to (n_samples,), for example using ravel().\n",
      "  estimator.fit(X_train, y_train, **fit_params)\n",
      "D:\\Programmation\\Anaconda\\lib\\site-packages\\sklearn\\model_selection\\_validation.py:593: DataConversionWarning: A column-vector y was passed when a 1d array was expected. Please change the shape of y to (n_samples,), for example using ravel().\n",
      "  estimator.fit(X_train, y_train, **fit_params)\n",
      "D:\\Programmation\\Anaconda\\lib\\site-packages\\sklearn\\model_selection\\_validation.py:593: DataConversionWarning: A column-vector y was passed when a 1d array was expected. Please change the shape of y to (n_samples,), for example using ravel().\n",
      "  estimator.fit(X_train, y_train, **fit_params)\n",
      "D:\\Programmation\\Anaconda\\lib\\site-packages\\sklearn\\model_selection\\_validation.py:593: DataConversionWarning: A column-vector y was passed when a 1d array was expected. Please change the shape of y to (n_samples,), for example using ravel().\n",
      "  estimator.fit(X_train, y_train, **fit_params)\n",
      "D:\\Programmation\\Anaconda\\lib\\site-packages\\sklearn\\model_selection\\_validation.py:593: DataConversionWarning: A column-vector y was passed when a 1d array was expected. Please change the shape of y to (n_samples,), for example using ravel().\n",
      "  estimator.fit(X_train, y_train, **fit_params)\n",
      "D:\\Programmation\\Anaconda\\lib\\site-packages\\sklearn\\model_selection\\_search.py:880: DataConversionWarning: A column-vector y was passed when a 1d array was expected. Please change the shape of y to (n_samples,), for example using ravel().\n",
      "  self.best_estimator_.fit(X, y, **fit_params)\n"
     ]
    },
    {
     "name": "stdout",
     "output_type": "stream",
     "text": [
      "Best parameters {'criterion': 'gini', 'n_estimators': 700}\n"
     ]
    }
   ],
   "source": [
    "#Find the best Hyperparameters combinaison by cross validation\n",
    "criterions = ['gini', 'entropy']\n",
    "#max_depth = [1,3,5,7,9,11,13,15]\n",
    "nb_estimators=[10,500,700]\n",
    "\n",
    "#cross validation\n",
    "from sklearn.model_selection import GridSearchCV\n",
    "grid = GridSearchCV(estimator = clf_RF, scoring=\"recall\" , cv=5, param_grid={'n_estimators':nb_estimators,'criterion': criterions})\n",
    "\n",
    "#train the set with to find the best hyperparameters\n",
    "grid.fit(X_train, Y_train)\n",
    "print(\"Best parameters\", grid.best_params_)"
   ]
  },
  {
   "cell_type": "markdown",
   "metadata": {},
   "source": [
    "## Model performance according to the train set size <a id=\"ModelPerf\"></a>"
   ]
  },
  {
   "cell_type": "code",
   "execution_count": 3811,
   "metadata": {},
   "outputs": [
    {
     "name": "stdout",
     "output_type": "stream",
     "text": [
      "[ 298  596  895 1193 1492]\n"
     ]
    },
    {
     "data": {
      "text/plain": [
       "<function matplotlib.pyplot.legend(*args, **kwargs)>"
      ]
     },
     "execution_count": 3811,
     "metadata": {},
     "output_type": "execute_result"
    },
    {
     "data": {
      "image/png": "[encoded data removed]",
      "text/plain": [
       "<Figure size 432x288 with 1 Axes>"
      ]
     },
     "metadata": {
      "needs_background": "light"
     },
     "output_type": "display_data"
    }
   ],
   "source": [
    "from sklearn.model_selection import learning_curve\n",
    "# Avec le décision tree\n",
    "N, train_score,val_score=learning_curve(clf_DT,X_train,Y_train,train_sizes=np.linspace(0.2,1.0,5),cv=5)\n",
    "print(N)\n",
    "plt.plot(N,train_score.mean(axis=1),label=\"train\")\n",
    "plt.plot(N,val_score.mean(axis=1),label=\"validation\")\n",
    "plt.xlabel(\"train_size\")\n",
    "plt.legend"
   ]
  },
  {
   "cell_type": "code",
   "execution_count": 3812,
   "metadata": {},
   "outputs": [
    {
     "name": "stderr",
     "output_type": "stream",
     "text": [
      "D:\\Programmation\\Anaconda\\lib\\site-packages\\sklearn\\model_selection\\_validation.py:593: DataConversionWarning: A column-vector y was passed when a 1d array was expected. Please change the shape of y to (n_samples,), for example using ravel().\n",
      "  estimator.fit(X_train, y_train, **fit_params)\n",
      "D:\\Programmation\\Anaconda\\lib\\site-packages\\sklearn\\model_selection\\_validation.py:593: DataConversionWarning: A column-vector y was passed when a 1d array was expected. Please change the shape of y to (n_samples,), for example using ravel().\n",
      "  estimator.fit(X_train, y_train, **fit_params)\n",
      "D:\\Programmation\\Anaconda\\lib\\site-packages\\sklearn\\model_selection\\_validation.py:593: DataConversionWarning: A column-vector y was passed when a 1d array was expected. Please change the shape of y to (n_samples,), for example using ravel().\n",
      "  estimator.fit(X_train, y_train, **fit_params)\n",
      "D:\\Programmation\\Anaconda\\lib\\site-packages\\sklearn\\model_selection\\_validation.py:593: DataConversionWarning: A column-vector y was passed when a 1d array was expected. Please change the shape of y to (n_samples,), for example using ravel().\n",
      "  estimator.fit(X_train, y_train, **fit_params)\n",
      "D:\\Programmation\\Anaconda\\lib\\site-packages\\sklearn\\model_selection\\_validation.py:593: DataConversionWarning: A column-vector y was passed when a 1d array was expected. Please change the shape of y to (n_samples,), for example using ravel().\n",
      "  estimator.fit(X_train, y_train, **fit_params)\n",
      "D:\\Programmation\\Anaconda\\lib\\site-packages\\sklearn\\model_selection\\_validation.py:593: DataConversionWarning: A column-vector y was passed when a 1d array was expected. Please change the shape of y to (n_samples,), for example using ravel().\n",
      "  estimator.fit(X_train, y_train, **fit_params)\n",
      "D:\\Programmation\\Anaconda\\lib\\site-packages\\sklearn\\model_selection\\_validation.py:593: DataConversionWarning: A column-vector y was passed when a 1d array was expected. Please change the shape of y to (n_samples,), for example using ravel().\n",
      "  estimator.fit(X_train, y_train, **fit_params)\n",
      "D:\\Programmation\\Anaconda\\lib\\site-packages\\sklearn\\model_selection\\_validation.py:593: DataConversionWarning: A column-vector y was passed when a 1d array was expected. Please change the shape of y to (n_samples,), for example using ravel().\n",
      "  estimator.fit(X_train, y_train, **fit_params)\n",
      "D:\\Programmation\\Anaconda\\lib\\site-packages\\sklearn\\model_selection\\_validation.py:593: DataConversionWarning: A column-vector y was passed when a 1d array was expected. Please change the shape of y to (n_samples,), for example using ravel().\n",
      "  estimator.fit(X_train, y_train, **fit_params)\n",
      "D:\\Programmation\\Anaconda\\lib\\site-packages\\sklearn\\model_selection\\_validation.py:593: DataConversionWarning: A column-vector y was passed when a 1d array was expected. Please change the shape of y to (n_samples,), for example using ravel().\n",
      "  estimator.fit(X_train, y_train, **fit_params)\n",
      "D:\\Programmation\\Anaconda\\lib\\site-packages\\sklearn\\model_selection\\_validation.py:593: DataConversionWarning: A column-vector y was passed when a 1d array was expected. Please change the shape of y to (n_samples,), for example using ravel().\n",
      "  estimator.fit(X_train, y_train, **fit_params)\n",
      "D:\\Programmation\\Anaconda\\lib\\site-packages\\sklearn\\model_selection\\_validation.py:593: DataConversionWarning: A column-vector y was passed when a 1d array was expected. Please change the shape of y to (n_samples,), for example using ravel().\n",
      "  estimator.fit(X_train, y_train, **fit_params)\n",
      "D:\\Programmation\\Anaconda\\lib\\site-packages\\sklearn\\model_selection\\_validation.py:593: DataConversionWarning: A column-vector y was passed when a 1d array was expected. Please change the shape of y to (n_samples,), for example using ravel().\n",
      "  estimator.fit(X_train, y_train, **fit_params)\n",
      "D:\\Programmation\\Anaconda\\lib\\site-packages\\sklearn\\model_selection\\_validation.py:593: DataConversionWarning: A column-vector y was passed when a 1d array was expected. Please change the shape of y to (n_samples,), for example using ravel().\n",
      "  estimator.fit(X_train, y_train, **fit_params)\n",
      "D:\\Programmation\\Anaconda\\lib\\site-packages\\sklearn\\model_selection\\_validation.py:593: DataConversionWarning: A column-vector y was passed when a 1d array was expected. Please change the shape of y to (n_samples,), for example using ravel().\n",
      "  estimator.fit(X_train, y_train, **fit_params)\n",
      "D:\\Programmation\\Anaconda\\lib\\site-packages\\sklearn\\model_selection\\_validation.py:593: DataConversionWarning: A column-vector y was passed when a 1d array was expected. Please change the shape of y to (n_samples,), for example using ravel().\n",
      "  estimator.fit(X_train, y_train, **fit_params)\n",
      "D:\\Programmation\\Anaconda\\lib\\site-packages\\sklearn\\model_selection\\_validation.py:593: DataConversionWarning: A column-vector y was passed when a 1d array was expected. Please change the shape of y to (n_samples,), for example using ravel().\n",
      "  estimator.fit(X_train, y_train, **fit_params)\n",
      "D:\\Programmation\\Anaconda\\lib\\site-packages\\sklearn\\model_selection\\_validation.py:593: DataConversionWarning: A column-vector y was passed when a 1d array was expected. Please change the shape of y to (n_samples,), for example using ravel().\n",
      "  estimator.fit(X_train, y_train, **fit_params)\n",
      "D:\\Programmation\\Anaconda\\lib\\site-packages\\sklearn\\model_selection\\_validation.py:593: DataConversionWarning: A column-vector y was passed when a 1d array was expected. Please change the shape of y to (n_samples,), for example using ravel().\n",
      "  estimator.fit(X_train, y_train, **fit_params)\n",
      "D:\\Programmation\\Anaconda\\lib\\site-packages\\sklearn\\model_selection\\_validation.py:593: DataConversionWarning: A column-vector y was passed when a 1d array was expected. Please change the shape of y to (n_samples,), for example using ravel().\n",
      "  estimator.fit(X_train, y_train, **fit_params)\n",
      "D:\\Programmation\\Anaconda\\lib\\site-packages\\sklearn\\model_selection\\_validation.py:593: DataConversionWarning: A column-vector y was passed when a 1d array was expected. Please change the shape of y to (n_samples,), for example using ravel().\n",
      "  estimator.fit(X_train, y_train, **fit_params)\n",
      "D:\\Programmation\\Anaconda\\lib\\site-packages\\sklearn\\model_selection\\_validation.py:593: DataConversionWarning: A column-vector y was passed when a 1d array was expected. Please change the shape of y to (n_samples,), for example using ravel().\n",
      "  estimator.fit(X_train, y_train, **fit_params)\n",
      "D:\\Programmation\\Anaconda\\lib\\site-packages\\sklearn\\model_selection\\_validation.py:593: DataConversionWarning: A column-vector y was passed when a 1d array was expected. Please change the shape of y to (n_samples,), for example using ravel().\n",
      "  estimator.fit(X_train, y_train, **fit_params)\n",
      "D:\\Programmation\\Anaconda\\lib\\site-packages\\sklearn\\model_selection\\_validation.py:593: DataConversionWarning: A column-vector y was passed when a 1d array was expected. Please change the shape of y to (n_samples,), for example using ravel().\n",
      "  estimator.fit(X_train, y_train, **fit_params)\n",
      "D:\\Programmation\\Anaconda\\lib\\site-packages\\sklearn\\model_selection\\_validation.py:593: DataConversionWarning: A column-vector y was passed when a 1d array was expected. Please change the shape of y to (n_samples,), for example using ravel().\n",
      "  estimator.fit(X_train, y_train, **fit_params)\n"
     ]
    },
    {
     "data": {
      "text/plain": [
       "<function matplotlib.pyplot.legend(*args, **kwargs)>"
      ]
     },
     "execution_count": 3812,
     "metadata": {},
     "output_type": "execute_result"
    },
    {
     "data": {
      "image/png": "[encoded data removed]",
      "text/plain": [
       "<Figure size 432x288 with 1 Axes>"
      ]
     },
     "metadata": {
      "needs_background": "light"
     },
     "output_type": "display_data"
    }
   ],
   "source": [
    "# Avec le random forest\n",
    "N, train_score,val_score=learning_curve(clf_RF,X_train,Y_train,train_sizes=np.linspace(0.2,1.0,5),cv=5)\n",
    "# print(N)\n",
    "plt.plot(N,train_score.mean(axis=1),label=\"train\")\n",
    "plt.plot(N,val_score.mean(axis=1),label=\"validation\")\n",
    "plt.xlabel(\"train_size\")\n",
    "plt.legend"
   ]
  },
  {
   "cell_type": "markdown",
   "metadata": {},
   "source": [
    "## Linear regression <a id=\"LR\"></a>"
   ]
  },
  {
   "cell_type": "markdown",
   "metadata": {},
   "source": [
    "### Dataset <a id=\"Data\"></a>"
   ]
  },
  {
   "cell_type": "code",
   "execution_count": 3813,
   "metadata": {},
   "outputs": [
    {
     "data": {
      "text/html": [
       "<div>\n",
       "<style scoped>\n",
       "    .dataframe tbody tr th:only-of-type {\n",
       "        vertical-align: middle;\n",
       "    }\n",
       "\n",
       "    .dataframe tbody tr th {\n",
       "        vertical-align: top;\n",
       "    }\n",
       "\n",
       "    .dataframe thead th {\n",
       "        text-align: right;\n",
       "    }\n",
       "</style>\n",
       "<table border=\"1\" class=\"dataframe\">\n",
       "  <thead>\n",
       "    <tr style=\"text-align: right;\">\n",
       "      <th></th>\n",
       "      <th>State</th>\n",
       "      <th>Account length</th>\n",
       "      <th>Area code</th>\n",
       "      <th>International plan</th>\n",
       "      <th>Voice mail plan</th>\n",
       "      <th>Customer service calls</th>\n",
       "      <th>Churn</th>\n",
       "    </tr>\n",
       "  </thead>\n",
       "  <tbody>\n",
       "    <tr>\n",
       "      <th>0</th>\n",
       "      <td>KS</td>\n",
       "      <td>128</td>\n",
       "      <td>415</td>\n",
       "      <td>No</td>\n",
       "      <td>Yes</td>\n",
       "      <td>1</td>\n",
       "      <td>False</td>\n",
       "    </tr>\n",
       "    <tr>\n",
       "      <th>1</th>\n",
       "      <td>OH</td>\n",
       "      <td>107</td>\n",
       "      <td>415</td>\n",
       "      <td>No</td>\n",
       "      <td>Yes</td>\n",
       "      <td>1</td>\n",
       "      <td>False</td>\n",
       "    </tr>\n",
       "    <tr>\n",
       "      <th>2</th>\n",
       "      <td>NJ</td>\n",
       "      <td>137</td>\n",
       "      <td>415</td>\n",
       "      <td>No</td>\n",
       "      <td>No</td>\n",
       "      <td>0</td>\n",
       "      <td>False</td>\n",
       "    </tr>\n",
       "    <tr>\n",
       "      <th>3</th>\n",
       "      <td>OH</td>\n",
       "      <td>84</td>\n",
       "      <td>408</td>\n",
       "      <td>Yes</td>\n",
       "      <td>No</td>\n",
       "      <td>2</td>\n",
       "      <td>False</td>\n",
       "    </tr>\n",
       "    <tr>\n",
       "      <th>4</th>\n",
       "      <td>OK</td>\n",
       "      <td>75</td>\n",
       "      <td>415</td>\n",
       "      <td>Yes</td>\n",
       "      <td>No</td>\n",
       "      <td>3</td>\n",
       "      <td>False</td>\n",
       "    </tr>\n",
       "  </tbody>\n",
       "</table>\n",
       "</div>"
      ],
      "text/plain": [
       "  State  Account length  Area code International plan Voice mail plan  \\\n",
       "0    KS             128        415                 No             Yes   \n",
       "1    OH             107        415                 No             Yes   \n",
       "2    NJ             137        415                 No              No   \n",
       "3    OH              84        408                Yes              No   \n",
       "4    OK              75        415                Yes              No   \n",
       "\n",
       "   Customer service calls  Churn  \n",
       "0                       1  False  \n",
       "1                       1  False  \n",
       "2                       0  False  \n",
       "3                       2  False  \n",
       "4                       3  False  "
      ]
     },
     "execution_count": 3813,
     "metadata": {},
     "output_type": "execute_result"
    }
   ],
   "source": [
    "df_telecoms.head()"
   ]
  },
  {
   "cell_type": "code",
   "execution_count": 3814,
   "metadata": {},
   "outputs": [
    {
     "name": "stdout",
     "output_type": "stream",
     "text": [
      "<class 'pandas.core.frame.DataFrame'>\n",
      "RangeIndex: 2666 entries, 0 to 2665\n",
      "Data columns (total 7 columns):\n",
      " #   Column                  Non-Null Count  Dtype \n",
      "---  ------                  --------------  ----- \n",
      " 0   State                   2666 non-null   object\n",
      " 1   Account length          2666 non-null   int64 \n",
      " 2   Area code               2666 non-null   int64 \n",
      " 3   International plan      2666 non-null   object\n",
      " 4   Voice mail plan         2666 non-null   object\n",
      " 5   Customer service calls  2666 non-null   int64 \n",
      " 6   Churn                   2666 non-null   bool  \n",
      "dtypes: bool(1), int64(3), object(3)\n",
      "memory usage: 127.7+ KB\n"
     ]
    }
   ],
   "source": [
    "df_telecoms.info()"
   ]
  },
  {
   "cell_type": "code",
   "execution_count": 3815,
   "metadata": {},
   "outputs": [],
   "source": [
    "x=df_telecoms.drop([\"State\", \"International plan\", \"Voice mail plan\", \"Churn\"],axis=1)\n",
    "x['Account length'] = x.apply(lambda x: x/100, axis=1)['Account length']\n",
    "x['Area code'] = x.apply(lambda x: x/100, axis=1)['Area code']\n",
    "x=x.to_numpy()\n",
    "y=df_telecoms[\"Churn\"]\n",
    "y= y.astype(\"int\")\n",
    "y=y.to_numpy()\n",
    "y=y.reshape(y.shape[0],1)"
   ]
  },
  {
   "cell_type": "code",
   "execution_count": 3816,
   "metadata": {},
   "outputs": [
    {
     "data": {
      "text/plain": [
       "(2666, 3)"
      ]
     },
     "execution_count": 3816,
     "metadata": {},
     "output_type": "execute_result"
    }
   ],
   "source": [
    "x.shape"
   ]
  },
  {
   "cell_type": "code",
   "execution_count": 3817,
   "metadata": {},
   "outputs": [
    {
     "data": {
      "text/plain": [
       "(2666, 1)"
      ]
     },
     "execution_count": 3817,
     "metadata": {},
     "output_type": "execute_result"
    }
   ],
   "source": [
    "y.shape"
   ]
  },
  {
   "cell_type": "code",
   "execution_count": 3818,
   "metadata": {},
   "outputs": [
    {
     "name": "stdout",
     "output_type": "stream",
     "text": [
      "(2666, 4)\n",
      "[[1.28 4.15 1.   1.  ]\n",
      " [1.07 4.15 1.   1.  ]\n",
      " [1.37 4.15 0.   1.  ]\n",
      " ...\n",
      " [0.68 4.15 3.   1.  ]\n",
      " [0.28 5.1  2.   1.  ]\n",
      " [0.74 4.15 0.   1.  ]]\n"
     ]
    }
   ],
   "source": [
    "X=np.hstack((x,np.ones((x.shape[0],1))))\n",
    "print(X.shape)\n",
    "print(X)"
   ]
  },
  {
   "cell_type": "code",
   "execution_count": 3819,
   "metadata": {},
   "outputs": [
    {
     "name": "stdout",
     "output_type": "stream",
     "text": [
      "[[0.07322162]\n",
      " [0.25257406]\n",
      " [0.12477051]\n",
      " [0.84140954]]\n"
     ]
    }
   ],
   "source": [
    "theta = np.random.rand(4,1)\n",
    "theta.shape\n",
    "print(theta)"
   ]
  },
  {
   "cell_type": "markdown",
   "metadata": {},
   "source": [
    "### Model <a id=\"model\"></a>"
   ]
  },
  {
   "cell_type": "code",
   "execution_count": 3820,
   "metadata": {},
   "outputs": [],
   "source": [
    "def model(X,theta):\n",
    "    return X.dot(theta)"
   ]
  },
  {
   "cell_type": "code",
   "execution_count": 3821,
   "metadata": {},
   "outputs": [
    {
     "data": {
      "text/plain": [
       "array([[2.10808607],\n",
       "       [2.09270953],\n",
       "       [1.9899055 ],\n",
       "       ...,\n",
       "       [2.31369412],\n",
       "       [2.39958031],\n",
       "       [1.94377588]])"
      ]
     },
     "execution_count": 3821,
     "metadata": {},
     "output_type": "execute_result"
    }
   ],
   "source": [
    "model(X,theta)"
   ]
  },
  {
   "cell_type": "markdown",
   "metadata": {},
   "source": [
    "### Cost Function <a id=\"CF\"></a>"
   ]
  },
  {
   "cell_type": "code",
   "execution_count": 3822,
   "metadata": {},
   "outputs": [],
   "source": [
    "def cost_function(X,y,theta):\n",
    "    m=len(y)\n",
    "    return (1/(2*m))*np.sum((model(X,theta)-y)**2)"
   ]
  },
  {
   "cell_type": "code",
   "execution_count": 3823,
   "metadata": {},
   "outputs": [
    {
     "data": {
      "text/plain": [
       "2.2115862075563633"
      ]
     },
     "execution_count": 3823,
     "metadata": {},
     "output_type": "execute_result"
    }
   ],
   "source": [
    "cost_function(X,y,theta)"
   ]
  },
  {
   "cell_type": "markdown",
   "metadata": {},
   "source": [
    "### Gradient descent <a id=\"GD\"></a>"
   ]
  },
  {
   "cell_type": "code",
   "execution_count": 3824,
   "metadata": {},
   "outputs": [],
   "source": [
    "def grad(X,y,theta):\n",
    "    m=len(y)\n",
    "    return (1/m)*X.T.dot(model(X,theta)-y)"
   ]
  },
  {
   "cell_type": "code",
   "execution_count": 3825,
   "metadata": {},
   "outputs": [],
   "source": [
    "def gradient_descent(X,y,theta, learning_rate,n_iterations):\n",
    "    for i in range(0,n_iterations):\n",
    "        theta=theta-learning_rate*(grad(X,y,theta))\n",
    "    return theta"
   ]
  },
  {
   "cell_type": "markdown",
   "metadata": {},
   "source": [
    "### Train and Evaluate the model <a id=\"TEM\"></a>"
   ]
  },
  {
   "cell_type": "code",
   "execution_count": 3826,
   "metadata": {},
   "outputs": [
    {
     "data": {
      "text/plain": [
       "array([[-0.00688557],\n",
       "       [-0.09581611],\n",
       "       [ 0.00286868],\n",
       "       [ 0.76184764]])"
      ]
     },
     "execution_count": 3826,
     "metadata": {},
     "output_type": "execute_result"
    }
   ],
   "source": [
    "theta_final = gradient_descent(X,y,theta,learning_rate=0.001, n_iterations=100)\n",
    "theta_final"
   ]
  },
  {
   "cell_type": "code",
   "execution_count": 3827,
   "metadata": {},
   "outputs": [
    {
     "data": {
      "text/plain": [
       "0.08173457612526158"
      ]
     },
     "execution_count": 3827,
     "metadata": {},
     "output_type": "execute_result"
    }
   ],
   "source": [
    "cost_function(X,y,theta_final)"
   ]
  },
  {
   "cell_type": "code",
   "execution_count": 3828,
   "metadata": {},
   "outputs": [
    {
     "data": {
      "text/plain": [
       "array([[0.35826595],\n",
       "       [0.35971192],\n",
       "       [0.35477756],\n",
       "       ...,\n",
       "       [0.36813465],\n",
       "       [0.2769949 ],\n",
       "       [0.35911547]])"
      ]
     },
     "execution_count": 3828,
     "metadata": {},
     "output_type": "execute_result"
    }
   ],
   "source": [
    "y_pred = model(X,theta_final)\n",
    "y_pred"
   ]
  },
  {
   "cell_type": "code",
   "execution_count": 3829,
   "metadata": {},
   "outputs": [
    {
     "data": {
      "text/plain": [
       "0.38628560703211035"
      ]
     },
     "execution_count": 3829,
     "metadata": {},
     "output_type": "execute_result"
    }
   ],
   "source": [
    "from sklearn.metrics import mean_absolute_error\n",
    "mean_absolute_error(y,y_pred)"
   ]
  },
  {
   "cell_type": "code",
   "execution_count": 3830,
   "metadata": {},
   "outputs": [
    {
     "data": {
      "text/plain": [
       "0.16346915225052316"
      ]
     },
     "execution_count": 3830,
     "metadata": {},
     "output_type": "execute_result"
    }
   ],
   "source": [
    "from sklearn.metrics import mean_squared_error\n",
    "mean_squared_error(y,y_pred)"
   ]
  },
  {
   "cell_type": "code",
   "execution_count": 3831,
   "metadata": {},
   "outputs": [
    {
     "data": {
      "text/plain": [
       "-0.009603936402352575"
      ]
     },
     "execution_count": 3831,
     "metadata": {},
     "output_type": "execute_result"
    }
   ],
   "source": [
    "from sklearn.metrics import explained_variance_score\n",
    "explained_variance_score(y,y_pred) # x peut expliquer en partie la variablilité de y \n",
    "# et ici on cherche à savoir le % de fiabilité que l'on peut accorder à x sur y"
   ]
  },
  {
   "cell_type": "markdown",
   "metadata": {},
   "source": [
    "### With sklearn <a id=\"WS\"></a>"
   ]
  },
  {
   "cell_type": "code",
   "execution_count": 3832,
   "metadata": {},
   "outputs": [],
   "source": [
    "from sklearn import linear_model\n",
    "from sklearn.model_selection import train_test_split"
   ]
  },
  {
   "cell_type": "code",
   "execution_count": 3833,
   "metadata": {},
   "outputs": [
    {
     "name": "stdout",
     "output_type": "stream",
     "text": [
      "LinearRegression()\n",
      "[[ 0.01806764 -0.01148221  0.04952513]]\n"
     ]
    }
   ],
   "source": [
    "model_regression=linear_model.LinearRegression()\n",
    "x_train,x_test,y_train,y_test=train_test_split(x,y,test_size=0.4,random_state=2)\n",
    "print(model_regression.fit(x_train,y_train))\n",
    "print(model_regression.coef_)\n",
    "y_predict=model_regression.predict(x_test)"
   ]
  },
  {
   "cell_type": "code",
   "execution_count": 3834,
   "metadata": {},
   "outputs": [
    {
     "name": "stdout",
     "output_type": "stream",
     "text": [
      "0.04557346569242737\n",
      "0.05378739114137587\n",
      "0.3237427519061068\n"
     ]
    }
   ],
   "source": [
    "r_squared=model_regression.score(x_test,y_test)\n",
    "from sklearn.metrics import explained_variance_score\n",
    "var=explained_variance_score(y_test,y_predict)\n",
    "from sklearn.metrics import mean_squared_error\n",
    "rmse=mean_squared_error(y_test,y_predict,squared=False)\n",
    "print(r_squared)\n",
    "print(var)\n",
    "print(rmse)"
   ]
  },
  {
   "cell_type": "code",
   "execution_count": 3835,
   "metadata": {},
   "outputs": [
    {
     "data": {
      "text/plain": [
       "0.23223679622303217"
      ]
     },
     "execution_count": 3835,
     "metadata": {},
     "output_type": "execute_result"
    }
   ],
   "source": [
    "mean_absolute_error(y_test,y_predict)"
   ]
  },
  {
   "cell_type": "code",
   "execution_count": 3836,
   "metadata": {},
   "outputs": [
    {
     "data": {
      "text/plain": [
       "0.10480936941173903"
      ]
     },
     "execution_count": 3836,
     "metadata": {},
     "output_type": "execute_result"
    }
   ],
   "source": [
    "mean_squared_error(y_test,y_predict)"
   ]
  },
  {
   "cell_type": "code",
   "execution_count": 3837,
   "metadata": {},
   "outputs": [
    {
     "data": {
      "text/plain": [
       "0.05378739114137587"
      ]
     },
     "execution_count": 3837,
     "metadata": {},
     "output_type": "execute_result"
    }
   ],
   "source": [
    "explained_variance_score(y_test,y_predict)"
   ]
  },
  {
   "cell_type": "code",
   "execution_count": null,
   "metadata": {},
   "outputs": [],
   "source": []
  }
 ],
 "metadata": {
  "interpreter": {
   "hash": "6f02bf7888223e3e50d434b5ebbb45aa1cf516617ba9b0270ab18b4fb35b6579"
  },
  "kernelspec": {
   "display_name": "Python 3.8.8 64-bit ('base': conda)",
   "language": "python",
   "name": "python3"
  },
  "language_info": {
   "codemirror_mode": {
    "name": "ipython",
    "version": 3
   },
   "file_extension": ".py",
   "mimetype": "text/x-python",
   "name": "python",
   "nbconvert_exporter": "python",
   "pygments_lexer": "ipython3",
   "version": "3.8.8"
  },
  "orig_nbformat": 4
 },
 "nbformat": 4,
 "nbformat_minor": 2
}
