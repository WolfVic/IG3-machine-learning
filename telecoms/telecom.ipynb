{
 "cells": [
  {
   "cell_type": "markdown",
   "metadata": {},
   "source": [
    "# Telecom : Exam 2021"
   ]
  },
  {
   "cell_type": "markdown",
   "metadata": {},
   "source": [
    "## Table of content <br>\n",
    "* [Import](#Import)<br>\n",
    "* [Utilities](#Utilities)<br>\n",
    "* [Read](#Read)<br>\n",
    "* [Data mining and cleaning](#DMC)<br>\n",
    "    * [Overview](#Overview)<br>\n",
    "    * [Data Cleaning](#DataCleaning)<br>\n",
    "    * [Data Analyse](#DataAnalyse)<br>\n",
    "    * [Data Visualisation](#Graphs)<br>\n",
    "* [Data Modeling](#DataModeling)<br>\n",
    "    * [Preprocessing](#Prepro)<br>\n",
    "    * [Encodage](#Encodage)<br>\n",
    "    * [Feature Selection](#FeatSelec)<br>\n",
    "* [Testing and modeling](#TestsModels)\n",
    "    * [KNN](#KNN)<br>\n",
    "    * [Decision Tree](#DT)<br>\n",
    "    * [Random Forest](#RF)<br>\n",
    "* [Improvements](#Improvements)<br>\n",
    "    * [Random Forest parameters improvement](#RFPI)<br>\n",
    "    * [Decision Tree hyperparameters improvement](#DTHI)<br>\n",
    "    * [Random Forest hyperparameters improvement](#RFHI)<br>\n",
    "* [Best Model Choice](#BMC)\n",
    "\n",
    "\n"
   ]
  },
  {
   "cell_type": "markdown",
   "metadata": {},
   "source": [
    "## Import <a id =\"Import\"></a>"
   ]
  },
  {
   "cell_type": "markdown",
   "metadata": {},
   "source": [
    "In this part all the stuff we need will be centralised"
   ]
  },
  {
   "cell_type": "code",
   "execution_count": 475,
   "metadata": {},
   "outputs": [],
   "source": [
    "import pandas as pd\n",
    "import numpy as np\n",
    "from sklearn import preprocessing"
   ]
  },
  {
   "cell_type": "markdown",
   "metadata": {},
   "source": [
    "### Utilities <a id=\"Utilities\"></a>"
   ]
  },
  {
   "cell_type": "code",
   "execution_count": 476,
   "metadata": {},
   "outputs": [],
   "source": [
    "def data_overview(df):\n",
    "    print(\"####### Data overview #######\")\n",
    "    print(\"dataset\")\n",
    "    print(\"__________\")\n",
    "    print(df)\n",
    "    print(\"head\")\n",
    "    print(\"_____\")\n",
    "    print()\n",
    "    print(df.head(10))\n",
    "    print()\n",
    "    print(\"Rows - columns :\" , df.shape)\n",
    "    print(\"Number of features : \",df.shape[1]-1)\n",
    "    print()\n",
    "    print(\"Liste des colonnes : \")\n",
    "    print(\"_____________________\")\n",
    "    print()\n",
    "    print(df.columns)\n",
    "    print()\n",
    "    print(\"Liste des types : \")\n",
    "    print(\"_____________________\")\n",
    "    print()\n",
    "    print(df.info())\n",
    "    print()\n",
    "    print(\"Valeurs manquantes par colonne: \")\n",
    "    print(\"________________________________\")\n",
    "    print()\n",
    "    print(df.isnull().sum())\n",
    "    print()\n",
    "    print()\n",
    "    print(\"Nombre total de valeurs manquantes: \")\n",
    "    print(\"____________________________________\")\n",
    "    print()\n",
    "    print(df.isnull().sum().values.sum())\n",
    "    print()\n",
    "    print(\"Nbre de valeurs différent es par colonne : \")\n",
    "    print(\"__________________________________________\")\n",
    "    print()\n",
    "    print(df.nunique())"
   ]
  },
  {
   "cell_type": "code",
   "execution_count": 477,
   "metadata": {},
   "outputs": [],
   "source": [
    "def categorical_plots(df,categorical):\n",
    "    import matplotlib.pyplot as plt\n",
    "    i=0\n",
    "    for i,cat_v in enumerate(categorical):\n",
    "        plt.figure(figsize=(10,24))\n",
    "        plt.subplots(1,1)\n",
    "        df[cat_v].value_counts().plot(kind=\"bar\", title=cat_v)\n",
    "        plt.ylabel('Frequency')"
   ]
  },
  {
   "cell_type": "code",
   "execution_count": 478,
   "metadata": {},
   "outputs": [],
   "source": [
    "def features_plots(df,numerical):\n",
    "    import matplotlib.pyplot as plt\n",
    "    for i,cv in enumerate(numerical):\n",
    "        plt.figure(figsize=(10,24))\n",
    "        plt.subplot(7,2,i+1)\n",
    "        plt.hist(df[cv],bins=df[cv].nunique())\n",
    "        plt.title(cv)\n",
    "        plt.ylabel('frequency')\n",
    "        plt.show()\n",
    "    for i,cv in enumerate(numerical):\n",
    "        plt.figure(figsize=(10,24))\n",
    "        plt.subplot(7,2,i+3)\n",
    "        plt.boxplot(df[cv])\n",
    "        plt.title(cv)\n",
    "        plt.ylabel('boxplot')\n",
    "        plt.show()"
   ]
  },
  {
   "cell_type": "code",
   "execution_count": 479,
   "metadata": {},
   "outputs": [],
   "source": [
    "def data_preprocessing(X,y,hot_encoder,binarizer,selector):\n",
    "    X_categorical=X[ :,0:3]\n",
    "    X_numerical=X[ :,4:19]\n",
    "    \n",
    "    X_categorical=hot_encoder.transform(X_categorical)\n",
    "    X=np.hstack((X_categorical,X_numerical))\n",
    "    Y=binarizer.transform(y)\n",
    "    \n",
    "    X=selector.transform(X)\n",
    "    return X,Y"
   ]
  },
  {
   "cell_type": "code",
   "execution_count": 480,
   "metadata": {},
   "outputs": [],
   "source": [
    "def binary_classifier_evaluation(title,x_test, y_test, y_pred, y_pred_proba,clf) : \n",
    "    from sklearn import metrics\n",
    "    from sklearn.metrics import confusion_matrix\n",
    "    from sklearn.metrics import classification_report\n",
    "    from sklearn.metrics import roc_auc_score\n",
    "    import matplotlib.pyplot as plt\n",
    "    print(\"=======================\")\n",
    "    print(title)\n",
    "    print(\"=======================\")\n",
    "    print()\n",
    "    print()\n",
    "    \n",
    "    # confusion_matrix\n",
    "    print(\"CONFUSION MATRIX : \")\n",
    "    print()\n",
    "    print(confusion_matrix(y_test, y_pred))\n",
    "    print()\n",
    "    print()\n",
    "    \n",
    "    \n",
    "    # the accuracy of the model\n",
    "    print(\"ACCURACY OF THE MODEL : \")\n",
    "    print()\n",
    "    print(clf.score(x_test, y_test))\n",
    "    print()\n",
    "    print()\n",
    "    \n",
    "    # classification report\n",
    "    print(\"CLASSIFICATION REPORT : \")\n",
    "    print()\n",
    "    print(classification_report(y_test, y_pred))\n",
    "    print()\n",
    "    print()\n",
    "    \n",
    "    # score roc\n",
    "    print(\"ROC-AUC SCORE : \")\n",
    "    print()\n",
    "    print(roc_auc_score(y_test, y_pred)) \n",
    "    print()\n",
    "    print()\n",
    "    \n",
    "    # courbe roc\n",
    "    print(\"ROC CURVE : \")\n",
    "    print()\n",
    "    y_pred_proba_1 = y_pred_proba[:,1]\n",
    "    fpr, tpr, thresholds = metrics.roc_curve(y_test, y_pred_proba_1)\n",
    "    plt.plot(fpr, tpr, color='coral', lw=2)\n",
    "    print(\"False positivze rate\", fpr)\n",
    "    print(\"True negative rate\", tpr)\n",
    "    print(\"Thresholds\", thresholds)\n",
    "    "
   ]
  },
  {
   "cell_type": "markdown",
   "metadata": {},
   "source": [
    "## Read <a id=\"Read\"></a>"
   ]
  },
  {
   "cell_type": "markdown",
   "metadata": {},
   "source": [
    "In this part we load the dataset file into the notebook"
   ]
  },
  {
   "cell_type": "code",
   "execution_count": 481,
   "metadata": {},
   "outputs": [],
   "source": [
    "df_telecoms = pd.read_csv(\"churn-bigml-80.csv\", delimiter=\",\")"
   ]
  },
  {
   "cell_type": "code",
   "execution_count": 482,
   "metadata": {},
   "outputs": [
    {
     "data": {
      "text/html": [
       "<div>\n",
       "<style scoped>\n",
       "    .dataframe tbody tr th:only-of-type {\n",
       "        vertical-align: middle;\n",
       "    }\n",
       "\n",
       "    .dataframe tbody tr th {\n",
       "        vertical-align: top;\n",
       "    }\n",
       "\n",
       "    .dataframe thead th {\n",
       "        text-align: right;\n",
       "    }\n",
       "</style>\n",
       "<table border=\"1\" class=\"dataframe\">\n",
       "  <thead>\n",
       "    <tr style=\"text-align: right;\">\n",
       "      <th></th>\n",
       "      <th>State</th>\n",
       "      <th>Account length</th>\n",
       "      <th>Area code</th>\n",
       "      <th>International plan</th>\n",
       "      <th>Voice mail plan</th>\n",
       "      <th>Number vmail messages</th>\n",
       "      <th>Total day minutes</th>\n",
       "      <th>Total day calls</th>\n",
       "      <th>Total day charge</th>\n",
       "      <th>Total eve minutes</th>\n",
       "      <th>Total eve calls</th>\n",
       "      <th>Total eve charge</th>\n",
       "      <th>Total night minutes</th>\n",
       "      <th>Total night calls</th>\n",
       "      <th>Total night charge</th>\n",
       "      <th>Total intl minutes</th>\n",
       "      <th>Total intl calls</th>\n",
       "      <th>Total intl charge</th>\n",
       "      <th>Customer service calls</th>\n",
       "      <th>Churn</th>\n",
       "    </tr>\n",
       "  </thead>\n",
       "  <tbody>\n",
       "    <tr>\n",
       "      <th>0</th>\n",
       "      <td>KS</td>\n",
       "      <td>128</td>\n",
       "      <td>415</td>\n",
       "      <td>No</td>\n",
       "      <td>Yes</td>\n",
       "      <td>25</td>\n",
       "      <td>265.1</td>\n",
       "      <td>110</td>\n",
       "      <td>45.07</td>\n",
       "      <td>197.4</td>\n",
       "      <td>99</td>\n",
       "      <td>16.78</td>\n",
       "      <td>244.7</td>\n",
       "      <td>91</td>\n",
       "      <td>11.01</td>\n",
       "      <td>10.0</td>\n",
       "      <td>3</td>\n",
       "      <td>2.70</td>\n",
       "      <td>1</td>\n",
       "      <td>False</td>\n",
       "    </tr>\n",
       "    <tr>\n",
       "      <th>1</th>\n",
       "      <td>OH</td>\n",
       "      <td>107</td>\n",
       "      <td>415</td>\n",
       "      <td>No</td>\n",
       "      <td>Yes</td>\n",
       "      <td>26</td>\n",
       "      <td>161.6</td>\n",
       "      <td>123</td>\n",
       "      <td>27.47</td>\n",
       "      <td>195.5</td>\n",
       "      <td>103</td>\n",
       "      <td>16.62</td>\n",
       "      <td>254.4</td>\n",
       "      <td>103</td>\n",
       "      <td>11.45</td>\n",
       "      <td>13.7</td>\n",
       "      <td>3</td>\n",
       "      <td>3.70</td>\n",
       "      <td>1</td>\n",
       "      <td>False</td>\n",
       "    </tr>\n",
       "    <tr>\n",
       "      <th>2</th>\n",
       "      <td>NJ</td>\n",
       "      <td>137</td>\n",
       "      <td>415</td>\n",
       "      <td>No</td>\n",
       "      <td>No</td>\n",
       "      <td>0</td>\n",
       "      <td>243.4</td>\n",
       "      <td>114</td>\n",
       "      <td>41.38</td>\n",
       "      <td>121.2</td>\n",
       "      <td>110</td>\n",
       "      <td>10.30</td>\n",
       "      <td>162.6</td>\n",
       "      <td>104</td>\n",
       "      <td>7.32</td>\n",
       "      <td>12.2</td>\n",
       "      <td>5</td>\n",
       "      <td>3.29</td>\n",
       "      <td>0</td>\n",
       "      <td>False</td>\n",
       "    </tr>\n",
       "    <tr>\n",
       "      <th>3</th>\n",
       "      <td>OH</td>\n",
       "      <td>84</td>\n",
       "      <td>408</td>\n",
       "      <td>Yes</td>\n",
       "      <td>No</td>\n",
       "      <td>0</td>\n",
       "      <td>299.4</td>\n",
       "      <td>71</td>\n",
       "      <td>50.90</td>\n",
       "      <td>61.9</td>\n",
       "      <td>88</td>\n",
       "      <td>5.26</td>\n",
       "      <td>196.9</td>\n",
       "      <td>89</td>\n",
       "      <td>8.86</td>\n",
       "      <td>6.6</td>\n",
       "      <td>7</td>\n",
       "      <td>1.78</td>\n",
       "      <td>2</td>\n",
       "      <td>False</td>\n",
       "    </tr>\n",
       "    <tr>\n",
       "      <th>4</th>\n",
       "      <td>OK</td>\n",
       "      <td>75</td>\n",
       "      <td>415</td>\n",
       "      <td>Yes</td>\n",
       "      <td>No</td>\n",
       "      <td>0</td>\n",
       "      <td>166.7</td>\n",
       "      <td>113</td>\n",
       "      <td>28.34</td>\n",
       "      <td>148.3</td>\n",
       "      <td>122</td>\n",
       "      <td>12.61</td>\n",
       "      <td>186.9</td>\n",
       "      <td>121</td>\n",
       "      <td>8.41</td>\n",
       "      <td>10.1</td>\n",
       "      <td>3</td>\n",
       "      <td>2.73</td>\n",
       "      <td>3</td>\n",
       "      <td>False</td>\n",
       "    </tr>\n",
       "  </tbody>\n",
       "</table>\n",
       "</div>"
      ],
      "text/plain": [
       "  State  Account length  Area code International plan Voice mail plan  \\\n",
       "0    KS             128        415                 No             Yes   \n",
       "1    OH             107        415                 No             Yes   \n",
       "2    NJ             137        415                 No              No   \n",
       "3    OH              84        408                Yes              No   \n",
       "4    OK              75        415                Yes              No   \n",
       "\n",
       "   Number vmail messages  Total day minutes  Total day calls  \\\n",
       "0                     25              265.1              110   \n",
       "1                     26              161.6              123   \n",
       "2                      0              243.4              114   \n",
       "3                      0              299.4               71   \n",
       "4                      0              166.7              113   \n",
       "\n",
       "   Total day charge  Total eve minutes  Total eve calls  Total eve charge  \\\n",
       "0             45.07              197.4               99             16.78   \n",
       "1             27.47              195.5              103             16.62   \n",
       "2             41.38              121.2              110             10.30   \n",
       "3             50.90               61.9               88              5.26   \n",
       "4             28.34              148.3              122             12.61   \n",
       "\n",
       "   Total night minutes  Total night calls  Total night charge  \\\n",
       "0                244.7                 91               11.01   \n",
       "1                254.4                103               11.45   \n",
       "2                162.6                104                7.32   \n",
       "3                196.9                 89                8.86   \n",
       "4                186.9                121                8.41   \n",
       "\n",
       "   Total intl minutes  Total intl calls  Total intl charge  \\\n",
       "0                10.0                 3               2.70   \n",
       "1                13.7                 3               3.70   \n",
       "2                12.2                 5               3.29   \n",
       "3                 6.6                 7               1.78   \n",
       "4                10.1                 3               2.73   \n",
       "\n",
       "   Customer service calls  Churn  \n",
       "0                       1  False  \n",
       "1                       1  False  \n",
       "2                       0  False  \n",
       "3                       2  False  \n",
       "4                       3  False  "
      ]
     },
     "execution_count": 482,
     "metadata": {},
     "output_type": "execute_result"
    }
   ],
   "source": [
    "df_telecoms.head()"
   ]
  },
  {
   "cell_type": "markdown",
   "metadata": {},
   "source": [
    "## Data mining and cleaning <a id=\"DMC\"></a>"
   ]
  },
  {
   "cell_type": "markdown",
   "metadata": {},
   "source": [
    "#### Overview <a id=\"Overview\"></a>"
   ]
  },
  {
   "cell_type": "markdown",
   "metadata": {},
   "source": [
    "In this part we visualise the dataset in details"
   ]
  },
  {
   "cell_type": "code",
   "execution_count": 483,
   "metadata": {},
   "outputs": [
    {
     "name": "stdout",
     "output_type": "stream",
     "text": [
      "####### Data overview #######\n",
      "dataset\n",
      "__________\n",
      "     State  Account length  Area code International plan Voice mail plan  \\\n",
      "0       KS             128        415                 No             Yes   \n",
      "1       OH             107        415                 No             Yes   \n",
      "2       NJ             137        415                 No              No   \n",
      "3       OH              84        408                Yes              No   \n",
      "4       OK              75        415                Yes              No   \n",
      "...    ...             ...        ...                ...             ...   \n",
      "2661    SC              79        415                 No              No   \n",
      "2662    AZ             192        415                 No             Yes   \n",
      "2663    WV              68        415                 No              No   \n",
      "2664    RI              28        510                 No              No   \n",
      "2665    TN              74        415                 No             Yes   \n",
      "\n",
      "      Number vmail messages  Total day minutes  Total day calls  \\\n",
      "0                        25              265.1              110   \n",
      "1                        26              161.6              123   \n",
      "2                         0              243.4              114   \n",
      "3                         0              299.4               71   \n",
      "4                         0              166.7              113   \n",
      "...                     ...                ...              ...   \n",
      "2661                      0              134.7               98   \n",
      "2662                     36              156.2               77   \n",
      "2663                      0              231.1               57   \n",
      "2664                      0              180.8              109   \n",
      "2665                     25              234.4              113   \n",
      "\n",
      "      Total day charge  Total eve minutes  Total eve calls  Total eve charge  \\\n",
      "0                45.07              197.4               99             16.78   \n",
      "1                27.47              195.5              103             16.62   \n",
      "2                41.38              121.2              110             10.30   \n",
      "3                50.90               61.9               88              5.26   \n",
      "4                28.34              148.3              122             12.61   \n",
      "...                ...                ...              ...               ...   \n",
      "2661             22.90              189.7               68             16.12   \n",
      "2662             26.55              215.5              126             18.32   \n",
      "2663             39.29              153.4               55             13.04   \n",
      "2664             30.74              288.8               58             24.55   \n",
      "2665             39.85              265.9               82             22.60   \n",
      "\n",
      "      Total night minutes  Total night calls  Total night charge  \\\n",
      "0                   244.7                 91               11.01   \n",
      "1                   254.4                103               11.45   \n",
      "2                   162.6                104                7.32   \n",
      "3                   196.9                 89                8.86   \n",
      "4                   186.9                121                8.41   \n",
      "...                   ...                ...                 ...   \n",
      "2661                221.4                128                9.96   \n",
      "2662                279.1                 83               12.56   \n",
      "2663                191.3                123                8.61   \n",
      "2664                191.9                 91                8.64   \n",
      "2665                241.4                 77               10.86   \n",
      "\n",
      "      Total intl minutes  Total intl calls  Total intl charge  \\\n",
      "0                   10.0                 3               2.70   \n",
      "1                   13.7                 3               3.70   \n",
      "2                   12.2                 5               3.29   \n",
      "3                    6.6                 7               1.78   \n",
      "4                   10.1                 3               2.73   \n",
      "...                  ...               ...                ...   \n",
      "2661                11.8                 5               3.19   \n",
      "2662                 9.9                 6               2.67   \n",
      "2663                 9.6                 4               2.59   \n",
      "2664                14.1                 6               3.81   \n",
      "2665                13.7                 4               3.70   \n",
      "\n",
      "      Customer service calls  Churn  \n",
      "0                          1  False  \n",
      "1                          1  False  \n",
      "2                          0  False  \n",
      "3                          2  False  \n",
      "4                          3  False  \n",
      "...                      ...    ...  \n",
      "2661                       2  False  \n",
      "2662                       2  False  \n",
      "2663                       3  False  \n",
      "2664                       2  False  \n",
      "2665                       0  False  \n",
      "\n",
      "[2666 rows x 20 columns]\n",
      "head\n",
      "_____\n",
      "\n",
      "  State  Account length  Area code International plan Voice mail plan  \\\n",
      "0    KS             128        415                 No             Yes   \n",
      "1    OH             107        415                 No             Yes   \n",
      "2    NJ             137        415                 No              No   \n",
      "3    OH              84        408                Yes              No   \n",
      "4    OK              75        415                Yes              No   \n",
      "5    AL             118        510                Yes              No   \n",
      "6    MA             121        510                 No             Yes   \n",
      "7    MO             147        415                Yes              No   \n",
      "8    WV             141        415                Yes             Yes   \n",
      "9    RI              74        415                 No              No   \n",
      "\n",
      "   Number vmail messages  Total day minutes  Total day calls  \\\n",
      "0                     25              265.1              110   \n",
      "1                     26              161.6              123   \n",
      "2                      0              243.4              114   \n",
      "3                      0              299.4               71   \n",
      "4                      0              166.7              113   \n",
      "5                      0              223.4               98   \n",
      "6                     24              218.2               88   \n",
      "7                      0              157.0               79   \n",
      "8                     37              258.6               84   \n",
      "9                      0              187.7              127   \n",
      "\n",
      "   Total day charge  Total eve minutes  Total eve calls  Total eve charge  \\\n",
      "0             45.07              197.4               99             16.78   \n",
      "1             27.47              195.5              103             16.62   \n",
      "2             41.38              121.2              110             10.30   \n",
      "3             50.90               61.9               88              5.26   \n",
      "4             28.34              148.3              122             12.61   \n",
      "5             37.98              220.6              101             18.75   \n",
      "6             37.09              348.5              108             29.62   \n",
      "7             26.69              103.1               94              8.76   \n",
      "8             43.96              222.0              111             18.87   \n",
      "9             31.91              163.4              148             13.89   \n",
      "\n",
      "   Total night minutes  Total night calls  Total night charge  \\\n",
      "0                244.7                 91               11.01   \n",
      "1                254.4                103               11.45   \n",
      "2                162.6                104                7.32   \n",
      "3                196.9                 89                8.86   \n",
      "4                186.9                121                8.41   \n",
      "5                203.9                118                9.18   \n",
      "6                212.6                118                9.57   \n",
      "7                211.8                 96                9.53   \n",
      "8                326.4                 97               14.69   \n",
      "9                196.0                 94                8.82   \n",
      "\n",
      "   Total intl minutes  Total intl calls  Total intl charge  \\\n",
      "0                10.0                 3               2.70   \n",
      "1                13.7                 3               3.70   \n",
      "2                12.2                 5               3.29   \n",
      "3                 6.6                 7               1.78   \n",
      "4                10.1                 3               2.73   \n",
      "5                 6.3                 6               1.70   \n",
      "6                 7.5                 7               2.03   \n",
      "7                 7.1                 6               1.92   \n",
      "8                11.2                 5               3.02   \n",
      "9                 9.1                 5               2.46   \n",
      "\n",
      "   Customer service calls  Churn  \n",
      "0                       1  False  \n",
      "1                       1  False  \n",
      "2                       0  False  \n",
      "3                       2  False  \n",
      "4                       3  False  \n",
      "5                       0  False  \n",
      "6                       3  False  \n",
      "7                       0  False  \n",
      "8                       0  False  \n",
      "9                       0  False  \n",
      "\n",
      "Rows - columns : (2666, 20)\n",
      "Number of features :  19\n",
      "\n",
      "Liste des colonnes : \n",
      "_____________________\n",
      "\n",
      "Index(['State', 'Account length', 'Area code', 'International plan',\n",
      "       'Voice mail plan', 'Number vmail messages', 'Total day minutes',\n",
      "       'Total day calls', 'Total day charge', 'Total eve minutes',\n",
      "       'Total eve calls', 'Total eve charge', 'Total night minutes',\n",
      "       'Total night calls', 'Total night charge', 'Total intl minutes',\n",
      "       'Total intl calls', 'Total intl charge', 'Customer service calls',\n",
      "       'Churn'],\n",
      "      dtype='object')\n",
      "\n",
      "Liste des types : \n",
      "_____________________\n",
      "\n",
      "<class 'pandas.core.frame.DataFrame'>\n",
      "RangeIndex: 2666 entries, 0 to 2665\n",
      "Data columns (total 20 columns):\n",
      " #   Column                  Non-Null Count  Dtype  \n",
      "---  ------                  --------------  -----  \n",
      " 0   State                   2666 non-null   object \n",
      " 1   Account length          2666 non-null   int64  \n",
      " 2   Area code               2666 non-null   int64  \n",
      " 3   International plan      2666 non-null   object \n",
      " 4   Voice mail plan         2666 non-null   object \n",
      " 5   Number vmail messages   2666 non-null   int64  \n",
      " 6   Total day minutes       2666 non-null   float64\n",
      " 7   Total day calls         2666 non-null   int64  \n",
      " 8   Total day charge        2666 non-null   float64\n",
      " 9   Total eve minutes       2666 non-null   float64\n",
      " 10  Total eve calls         2666 non-null   int64  \n",
      " 11  Total eve charge        2666 non-null   float64\n",
      " 12  Total night minutes     2666 non-null   float64\n",
      " 13  Total night calls       2666 non-null   int64  \n",
      " 14  Total night charge      2666 non-null   float64\n",
      " 15  Total intl minutes      2666 non-null   float64\n",
      " 16  Total intl calls        2666 non-null   int64  \n",
      " 17  Total intl charge       2666 non-null   float64\n",
      " 18  Customer service calls  2666 non-null   int64  \n",
      " 19  Churn                   2666 non-null   bool   \n",
      "dtypes: bool(1), float64(8), int64(8), object(3)\n",
      "memory usage: 398.5+ KB\n",
      "None\n",
      "\n",
      "Valeurs manquantes par colonne: \n",
      "________________________________\n",
      "\n",
      "State                     0\n",
      "Account length            0\n",
      "Area code                 0\n",
      "International plan        0\n",
      "Voice mail plan           0\n",
      "Number vmail messages     0\n",
      "Total day minutes         0\n",
      "Total day calls           0\n",
      "Total day charge          0\n",
      "Total eve minutes         0\n",
      "Total eve calls           0\n",
      "Total eve charge          0\n",
      "Total night minutes       0\n",
      "Total night calls         0\n",
      "Total night charge        0\n",
      "Total intl minutes        0\n",
      "Total intl calls          0\n",
      "Total intl charge         0\n",
      "Customer service calls    0\n",
      "Churn                     0\n",
      "dtype: int64\n",
      "\n",
      "\n",
      "Nombre total de valeurs manquantes: \n",
      "____________________________________\n",
      "\n",
      "0\n",
      "\n",
      "Nbre de valeurs différent es par colonne : \n",
      "__________________________________________\n",
      "\n",
      "State                       51\n",
      "Account length             205\n",
      "Area code                    3\n",
      "International plan           2\n",
      "Voice mail plan              2\n",
      "Number vmail messages       42\n",
      "Total day minutes         1489\n",
      "Total day calls            115\n",
      "Total day charge          1489\n",
      "Total eve minutes         1442\n",
      "Total eve calls            120\n",
      "Total eve charge          1301\n",
      "Total night minutes       1444\n",
      "Total night calls          118\n",
      "Total night charge         885\n",
      "Total intl minutes         158\n",
      "Total intl calls            21\n",
      "Total intl charge          158\n",
      "Customer service calls      10\n",
      "Churn                        2\n",
      "dtype: int64\n"
     ]
    }
   ],
   "source": [
    "data_overview(df_telecoms)"
   ]
  },
  {
   "cell_type": "markdown",
   "metadata": {},
   "source": [
    "After the data visualisation, we see that 2 columns are declared as object but we want them as boolean"
   ]
  },
  {
   "cell_type": "markdown",
   "metadata": {},
   "source": [
    "#### Data Cleaning <a id=\"DataCleaning\"></a>"
   ]
  },
  {
   "cell_type": "markdown",
   "metadata": {},
   "source": [
    "First we create two dataframe, one with the numerical values and one with the ctegorical values"
   ]
  },
  {
   "cell_type": "code",
   "execution_count": 484,
   "metadata": {},
   "outputs": [],
   "source": [
    "categorical_columns = [\"State\", \"International plan\", \"Voice mail plan\"]\n",
    "df_numerical = df_telecoms.drop(categorical_columns,axis=1)\n",
    "df_numerical = df_numerical.drop(\"Churn\",axis=1)\n",
    "df_categorical = df_telecoms.drop(df_numerical,axis=1)\n",
    "df_categorical = df_categorical.drop(\"Churn\",axis=1)\n"
   ]
  },
  {
   "cell_type": "markdown",
   "metadata": {},
   "source": [
    "Now we have two df, one with numerical values, the other with categorical values"
   ]
  },
  {
   "cell_type": "markdown",
   "metadata": {},
   "source": [
    "We create here the target list"
   ]
  },
  {
   "cell_type": "code",
   "execution_count": 485,
   "metadata": {},
   "outputs": [],
   "source": [
    "df_labels = df_telecoms[\"Churn\"]"
   ]
  },
  {
   "cell_type": "markdown",
   "metadata": {},
   "source": [
    "#### Data Analyse <a id=\"DataAnalyse\"></a>"
   ]
  },
  {
   "cell_type": "markdown",
   "metadata": {},
   "source": [
    "Here we see the describe content"
   ]
  },
  {
   "cell_type": "code",
   "execution_count": 486,
   "metadata": {},
   "outputs": [],
   "source": [
    "# df_numerical.describe()\n",
    "# df_categorical.describe()"
   ]
  },
  {
   "cell_type": "markdown",
   "metadata": {},
   "source": [
    "### Data visualisation <a id=\"Graphs\"></a>"
   ]
  },
  {
   "cell_type": "code",
   "execution_count": 487,
   "metadata": {},
   "outputs": [
    {
     "data": {
      "text/plain": [
       "<Figure size 720x1728 with 0 Axes>"
      ]
     },
     "metadata": {},
     "output_type": "display_data"
    },
    {
     "data": {
      "image/png": "[encoded data removed]",
      "text/plain": [
       "<Figure size 432x288 with 1 Axes>"
      ]
     },
     "metadata": {
      "needs_background": "light"
     },
     "output_type": "display_data"
    },
    {
     "data": {
      "text/plain": [
       "<Figure size 720x1728 with 0 Axes>"
      ]
     },
     "metadata": {},
     "output_type": "display_data"
    },
    {
     "data": {
      "image/png": "[encoded data removed]",
      "text/plain": [
       "<Figure size 432x288 with 1 Axes>"
      ]
     },
     "metadata": {
      "needs_background": "light"
     },
     "output_type": "display_data"
    },
    {
     "data": {
      "text/plain": [
       "<Figure size 720x1728 with 0 Axes>"
      ]
     },
     "metadata": {},
     "output_type": "display_data"
    },
    {
     "data": {
      "image/png": "[encoded data removed]",
      "text/plain": [
       "<Figure size 432x288 with 1 Axes>"
      ]
     },
     "metadata": {
      "needs_background": "light"
     },
     "output_type": "display_data"
    }
   ],
   "source": [
    "categorical_plots(df_telecoms,df_categorical)"
   ]
  },
  {
   "cell_type": "code",
   "execution_count": 488,
   "metadata": {},
   "outputs": [
    {
     "data": {
      "text/plain": [
       "Index(['Account length', 'Area code', 'Number vmail messages',\n",
       "       'Total day minutes', 'Total day calls', 'Total day charge',\n",
       "       'Total eve minutes', 'Total eve calls', 'Total eve charge',\n",
       "       'Total night minutes', 'Total night calls', 'Total night charge',\n",
       "       'Total intl minutes', 'Total intl calls', 'Total intl charge',\n",
       "       'Customer service calls'],\n",
       "      dtype='object')"
      ]
     },
     "execution_count": 488,
     "metadata": {},
     "output_type": "execute_result"
    }
   ],
   "source": [
    "df_numerical.columns"
   ]
  },
  {
   "cell_type": "code",
   "execution_count": 489,
   "metadata": {},
   "outputs": [
    {
     "data": {
      "image/png": "[encoded data removed]",
      "text/plain": [
       "<Figure size 432x288 with 1 Axes>"
      ]
     },
     "metadata": {
      "needs_background": "light"
     },
     "output_type": "display_data"
    }
   ],
   "source": [
    "df_numerical_columns = ['Account length', 'Area code', 'Number vmail messages',\n",
    "       'Total day minutes', 'Total day calls', 'Total day charge',\n",
    "       'Total eve minutes', 'Total eve calls', 'Total eve charge',\n",
    "       'Total night minutes', 'Total night calls', 'Total night charge',\n",
    "       'Total intl minutes', 'Total intl calls', 'Total intl charge',\n",
    "       'Customer service calls']\n",
    "boxplot=df_telecoms.boxplot(column=df_numerical_columns[0:5], rot=65)"
   ]
  },
  {
   "cell_type": "code",
   "execution_count": 490,
   "metadata": {},
   "outputs": [
    {
     "data": {
      "image/png": "[encoded data removed]",
      "text/plain": [
       "<Figure size 432x288 with 1 Axes>"
      ]
     },
     "metadata": {
      "needs_background": "light"
     },
     "output_type": "display_data"
    }
   ],
   "source": [
    "boxplot=df_telecoms.boxplot(column=df_numerical_columns[6:10], rot=65)\n"
   ]
  },
  {
   "cell_type": "code",
   "execution_count": 491,
   "metadata": {},
   "outputs": [
    {
     "data": {
      "image/png": "[encoded data removed]",
      "text/plain": [
       "<Figure size 432x288 with 1 Axes>"
      ]
     },
     "metadata": {
      "needs_background": "light"
     },
     "output_type": "display_data"
    }
   ],
   "source": [
    "boxplot=df_telecoms.boxplot(column=df_numerical_columns[10:15], rot=65)"
   ]
  },
  {
   "cell_type": "markdown",
   "metadata": {},
   "source": [
    "## Data modeling <a id=\"DataModeling\"></a>"
   ]
  },
  {
   "cell_type": "markdown",
   "metadata": {},
   "source": [
    "### Preprocessing <a id=\"Prepro\"></a>"
   ]
  },
  {
   "cell_type": "code",
   "execution_count": 492,
   "metadata": {},
   "outputs": [],
   "source": [
    "X_categ=df_categorical.to_numpy()\n",
    "X_numeric=df_numerical.to_numpy()\n",
    "X=np.hstack((X_categ,X_numeric))\n",
    "y=df_labels.to_numpy()"
   ]
  },
  {
   "cell_type": "code",
   "execution_count": 493,
   "metadata": {},
   "outputs": [
    {
     "data": {
      "text/plain": [
       "array([['KS', 'No', 'Yes', ..., 3.0, 2.7, 1.0],\n",
       "       ['OH', 'No', 'Yes', ..., 3.0, 3.7, 1.0],\n",
       "       ['NJ', 'No', 'No', ..., 5.0, 3.29, 0.0],\n",
       "       ...,\n",
       "       ['WV', 'No', 'No', ..., 4.0, 2.59, 3.0],\n",
       "       ['RI', 'No', 'No', ..., 6.0, 3.81, 2.0],\n",
       "       ['TN', 'No', 'Yes', ..., 4.0, 3.7, 0.0]], dtype=object)"
      ]
     },
     "execution_count": 493,
     "metadata": {},
     "output_type": "execute_result"
    }
   ],
   "source": [
    "X"
   ]
  },
  {
   "cell_type": "code",
   "execution_count": 494,
   "metadata": {},
   "outputs": [],
   "source": [
    "from sklearn.model_selection import train_test_split\n",
    "X_train, X_test, y_train, y_test=train_test_split(X,y,stratify=y,test_size=0.3,random_state=2)"
   ]
  },
  {
   "cell_type": "markdown",
   "metadata": {},
   "source": [
    "### Encodage <a id=\"Encodage\"></a>"
   ]
  },
  {
   "cell_type": "code",
   "execution_count": 495,
   "metadata": {},
   "outputs": [
    {
     "name": "stdout",
     "output_type": "stream",
     "text": [
      "(1866, 3) (1866, 15)\n"
     ]
    }
   ],
   "source": [
    "# print(X_train.shape)\n",
    "X_train_categorical=X_train[ :,0:3]\n",
    "X_train_numerical=X_train[ :, 3:18]\n",
    "print(X_train_categorical.shape,X_train_numerical.shape)\n",
    "# X_train_categorical.shape"
   ]
  },
  {
   "cell_type": "code",
   "execution_count": 496,
   "metadata": {},
   "outputs": [
    {
     "name": "stdout",
     "output_type": "stream",
     "text": [
      "(1866, 55)\n"
     ]
    },
    {
     "data": {
      "text/plain": [
       "array([[0., 0., 0., ..., 0., 0., 1.],\n",
       "       [0., 0., 0., ..., 0., 1., 0.],\n",
       "       [0., 0., 0., ..., 1., 0., 1.],\n",
       "       ...,\n",
       "       [0., 0., 0., ..., 0., 0., 1.],\n",
       "       [0., 0., 0., ..., 1., 1., 0.],\n",
       "       [0., 0., 0., ..., 0., 1., 0.]])"
      ]
     },
     "execution_count": 496,
     "metadata": {},
     "output_type": "execute_result"
    }
   ],
   "source": [
    "# Encodage One Hot\n",
    "from sklearn.preprocessing import OneHotEncoder\n",
    "hot_encoder=OneHotEncoder(sparse=False)\n",
    "X_train_categorical=hot_encoder.fit_transform(X_train_categorical)\n",
    "\n",
    "print(X_train_categorical.shape)\n",
    "X_train_categorical"
   ]
  },
  {
   "cell_type": "code",
   "execution_count": 497,
   "metadata": {},
   "outputs": [
    {
     "data": {
      "text/plain": [
       "[array(['AK', 'AL', 'AR', 'AZ', 'CA', 'CO', 'CT', 'DC', 'DE', 'FL', 'GA',\n",
       "        'HI', 'IA', 'ID', 'IL', 'IN', 'KS', 'KY', 'LA', 'MA', 'MD', 'ME',\n",
       "        'MI', 'MN', 'MO', 'MS', 'MT', 'NC', 'ND', 'NE', 'NH', 'NJ', 'NM',\n",
       "        'NV', 'NY', 'OH', 'OK', 'OR', 'PA', 'RI', 'SC', 'SD', 'TN', 'TX',\n",
       "        'UT', 'VA', 'VT', 'WA', 'WI', 'WV', 'WY'], dtype=object),\n",
       " array(['No', 'Yes'], dtype=object),\n",
       " array(['No', 'Yes'], dtype=object)]"
      ]
     },
     "execution_count": 497,
     "metadata": {},
     "output_type": "execute_result"
    }
   ],
   "source": [
    "hot_encoder.categories_"
   ]
  },
  {
   "cell_type": "code",
   "execution_count": 498,
   "metadata": {},
   "outputs": [],
   "source": [
    "X_train=np.hstack((X_train_categorical,X_train_numerical))\n",
    "# print(X_train)"
   ]
  },
  {
   "cell_type": "code",
   "execution_count": 499,
   "metadata": {},
   "outputs": [],
   "source": [
    "# Encodage label binarizer\n",
    "from sklearn.preprocessing import LabelBinarizer\n",
    "binarizer=LabelBinarizer()\n",
    "Y_train=binarizer.fit_transform(y_train)"
   ]
  },
  {
   "cell_type": "markdown",
   "metadata": {},
   "source": [
    "### Feature selection <a id=\"FeatSelec\"></a>"
   ]
  },
  {
   "cell_type": "markdown",
   "metadata": {},
   "source": [
    "#### Possibilité d'utiliser le Variance Threshold ou SelectKBest (ici Select K Best)"
   ]
  },
  {
   "cell_type": "code",
   "execution_count": 500,
   "metadata": {},
   "outputs": [],
   "source": [
    "from sklearn.feature_selection import SelectKBest,chi2"
   ]
  },
  {
   "cell_type": "code",
   "execution_count": 501,
   "metadata": {},
   "outputs": [],
   "source": [
    "#print(chi2(X_train,Y_train))  - n'accepte pas des valeurs standardisées avec Standard Scaler car <0\n",
    "selector=SelectKBest(chi2,k=8)\n",
    "X_train=selector.fit_transform(X_train,Y_train)\n",
    "# X_train"
   ]
  },
  {
   "cell_type": "code",
   "execution_count": 502,
   "metadata": {},
   "outputs": [
    {
     "name": "stdout",
     "output_type": "stream",
     "text": [
      "[51 52 54 57 58 60 61 64]\n"
     ]
    },
    {
     "data": {
      "text/plain": [
       "array([[1.0, 0.0, 1.0, ..., 28.56, 163.2, 172.7],\n",
       "       [1.0, 0.0, 0.0, ..., 44.29, 102.4, 129.7],\n",
       "       [0.0, 1.0, 1.0, ..., 36.92, 145.5, 280.7],\n",
       "       ...,\n",
       "       [1.0, 0.0, 1.0, ..., 30.28, 236.7, 264.0],\n",
       "       [0.0, 1.0, 0.0, ..., 27.42, 124.4, 262.0],\n",
       "       [1.0, 0.0, 0.0, ..., 50.68, 201.3, 214.7]], dtype=object)"
      ]
     },
     "execution_count": 502,
     "metadata": {},
     "output_type": "execute_result"
    }
   ],
   "source": [
    "select=selector.get_support(indices=True)\n",
    "print(select)\n",
    "# 51 = \n",
    "# 52 = \n",
    "# 25 = \n",
    "# 54 = \n",
    "# 58 = \n",
    "# 60 = \n",
    "# 61 =\n",
    "# 64 = \n",
    "np.shape(X_train)\n",
    "X_train"
   ]
  },
  {
   "cell_type": "code",
   "execution_count": 503,
   "metadata": {},
   "outputs": [],
   "source": [
    "# Pour tous les modèles (mais inutile pour le DT), il faut standardiser les valeurs nuémriques\n",
    "X_train_numerical=X_train[:,5:8]\n",
    "X_train_categorical=X_train[:,0:5]\n",
    "from sklearn.preprocessing import StandardScaler\n",
    "scaler=StandardScaler()\n",
    "X_train_numerical=scaler.fit_transform(X_train_numerical)\n",
    "X_train=np.hstack((X_train_categorical,X_train_numerical))"
   ]
  },
  {
   "cell_type": "code",
   "execution_count": 504,
   "metadata": {},
   "outputs": [
    {
     "data": {
      "text/plain": [
       "(800, 19)"
      ]
     },
     "execution_count": 504,
     "metadata": {},
     "output_type": "execute_result"
    }
   ],
   "source": [
    "X_test.shape"
   ]
  },
  {
   "cell_type": "code",
   "execution_count": 505,
   "metadata": {},
   "outputs": [],
   "source": [
    "#Appliquer les mêmes transformations à x_test et y_test\n",
    "X_test,Y_test=data_preprocessing(X_test,y_test,hot_encoder,binarizer,selector)"
   ]
  },
  {
   "cell_type": "markdown",
   "metadata": {},
   "source": [
    "## Testing and modeling <a id=\"TestsModels\"></a>"
   ]
  },
  {
   "cell_type": "markdown",
   "metadata": {},
   "source": [
    "### KNN <a id=\"KNN\"></a>"
   ]
  },
  {
   "cell_type": "code",
   "execution_count": 506,
   "metadata": {},
   "outputs": [
    {
     "name": "stderr",
     "output_type": "stream",
     "text": [
      "D:\\Programmation\\Anaconda\\lib\\site-packages\\sklearn\\neighbors\\_classification.py:179: DataConversionWarning: A column-vector y was passed when a 1d array was expected. Please change the shape of y to (n_samples,), for example using ravel().\n",
      "  return self._fit(X, y)\n"
     ]
    }
   ],
   "source": [
    "from sklearn.neighbors import KNeighborsClassifier\n",
    "clf_KNN=KNeighborsClassifier()\n",
    "clf_KNN.fit(X_train,Y_train)\n",
    "X_test\n",
    "y_pred_proba=clf_KNN.predict_proba(X_test)\n",
    "y_pred=clf_KNN.predict(X_test)"
   ]
  },
  {
   "cell_type": "code",
   "execution_count": 507,
   "metadata": {},
   "outputs": [
    {
     "name": "stderr",
     "output_type": "stream",
     "text": [
      "D:\\Programmation\\Anaconda\\lib\\site-packages\\sklearn\\metrics\\_classification.py:1245: UndefinedMetricWarning: Precision and F-score are ill-defined and being set to 0.0 in labels with no predicted samples. Use `zero_division` parameter to control this behavior.\n",
      "  _warn_prf(average, modifier, msg_start, len(result))\n",
      "D:\\Programmation\\Anaconda\\lib\\site-packages\\sklearn\\metrics\\_classification.py:1245: UndefinedMetricWarning: Precision and F-score are ill-defined and being set to 0.0 in labels with no predicted samples. Use `zero_division` parameter to control this behavior.\n",
      "  _warn_prf(average, modifier, msg_start, len(result))\n",
      "D:\\Programmation\\Anaconda\\lib\\site-packages\\sklearn\\metrics\\_classification.py:1245: UndefinedMetricWarning: Precision and F-score are ill-defined and being set to 0.0 in labels with no predicted samples. Use `zero_division` parameter to control this behavior.\n",
      "  _warn_prf(average, modifier, msg_start, len(result))\n"
     ]
    },
    {
     "name": "stdout",
     "output_type": "stream",
     "text": [
      "=======================\n",
      "K nearest neighbors\n",
      "=======================\n",
      "\n",
      "\n",
      "CONFUSION MATRIX : \n",
      "\n",
      "[[684   0]\n",
      " [116   0]]\n",
      "\n",
      "\n",
      "ACCURACY OF THE MODEL : \n",
      "\n",
      "0.855\n",
      "\n",
      "\n",
      "CLASSIFICATION REPORT : \n",
      "\n",
      "              precision    recall  f1-score   support\n",
      "\n",
      "           0       0.85      1.00      0.92       684\n",
      "           1       0.00      0.00      0.00       116\n",
      "\n",
      "    accuracy                           0.85       800\n",
      "   macro avg       0.43      0.50      0.46       800\n",
      "weighted avg       0.73      0.85      0.79       800\n",
      "\n",
      "\n",
      "\n",
      "ROC-AUC SCORE : \n",
      "\n",
      "0.5\n",
      "\n",
      "\n",
      "ROC CURVE : \n",
      "\n",
      "False positivze rate [0.         0.07163743 0.90350877 1.        ]\n",
      "True negative rate [0.         0.05172414 0.87931034 1.        ]\n",
      "Thresholds [1.4 0.4 0.2 0. ]\n"
     ]
    },
    {
     "data": {
      "image/png": "[encoded data removed]",
      "text/plain": [
       "<Figure size 432x288 with 1 Axes>"
      ]
     },
     "metadata": {
      "needs_background": "light"
     },
     "output_type": "display_data"
    }
   ],
   "source": [
    "binary_classifier_evaluation(\"K nearest neighbors\",X_test, Y_test, y_pred, y_pred_proba,clf_KNN)"
   ]
  },
  {
   "cell_type": "markdown",
   "metadata": {},
   "source": [
    "### Decision Tree <a id=\"DT\"></a>"
   ]
  },
  {
   "cell_type": "code",
   "execution_count": 508,
   "metadata": {},
   "outputs": [],
   "source": [
    "from sklearn.tree import DecisionTreeClassifier\n",
    "clf_DT= DecisionTreeClassifier(random_state=2)\n",
    "clf_DT.fit(X_train,Y_train)\n",
    "y_pred_proba=clf_DT.predict_proba(X_test)\n",
    "y_pred=clf_DT.predict(X_test)"
   ]
  },
  {
   "cell_type": "code",
   "execution_count": 509,
   "metadata": {},
   "outputs": [
    {
     "name": "stdout",
     "output_type": "stream",
     "text": [
      "=======================\n",
      "Decision tree\n",
      "=======================\n",
      "\n",
      "\n",
      "CONFUSION MATRIX : \n",
      "\n",
      "[[ 48 636]\n",
      " [ 41  75]]\n",
      "\n",
      "\n",
      "ACCURACY OF THE MODEL : \n",
      "\n",
      "0.15375\n",
      "\n",
      "\n",
      "CLASSIFICATION REPORT : \n",
      "\n",
      "              precision    recall  f1-score   support\n",
      "\n",
      "           0       0.54      0.07      0.12       684\n",
      "           1       0.11      0.65      0.18       116\n",
      "\n",
      "    accuracy                           0.15       800\n",
      "   macro avg       0.32      0.36      0.15       800\n",
      "weighted avg       0.48      0.15      0.13       800\n",
      "\n",
      "\n",
      "\n",
      "ROC-AUC SCORE : \n",
      "\n",
      "0.35836358136721114\n",
      "\n",
      "\n",
      "ROC CURVE : \n",
      "\n",
      "False positivze rate [0.         0.92982456 1.        ]\n",
      "True negative rate [0.         0.64655172 1.        ]\n",
      "Thresholds [2. 1. 0.]\n"
     ]
    },
    {
     "data": {
      "image/png": "[encoded data removed]",
      "text/plain": [
       "<Figure size 432x288 with 1 Axes>"
      ]
     },
     "metadata": {
      "needs_background": "light"
     },
     "output_type": "display_data"
    }
   ],
   "source": [
    "binary_classifier_evaluation(\"Decision tree\",X_test, Y_test, y_pred, y_pred_proba,clf_DT)"
   ]
  },
  {
   "cell_type": "markdown",
   "metadata": {},
   "source": [
    "### Random Forest <a id=\"RF\"></a>"
   ]
  },
  {
   "cell_type": "code",
   "execution_count": 510,
   "metadata": {},
   "outputs": [
    {
     "name": "stderr",
     "output_type": "stream",
     "text": [
      "<ipython-input-510-7bde26b7aaac>:3: DataConversionWarning: A column-vector y was passed when a 1d array was expected. Please change the shape of y to (n_samples,), for example using ravel().\n",
      "  clf_RF.fit(X_train,Y_train)\n"
     ]
    }
   ],
   "source": [
    "from sklearn.ensemble import RandomForestClassifier\n",
    "clf_RF=RandomForestClassifier()\n",
    "clf_RF.fit(X_train,Y_train)\n",
    "y_pred_proba=clf_RF.predict_proba(X_test)\n",
    "y_pred=clf_RF.predict(X_test)"
   ]
  },
  {
   "cell_type": "code",
   "execution_count": 511,
   "metadata": {},
   "outputs": [
    {
     "name": "stdout",
     "output_type": "stream",
     "text": [
      "=======================\n",
      "Random Forest\n",
      "=======================\n",
      "\n",
      "\n",
      "CONFUSION MATRIX : \n",
      "\n",
      "[[192 492]\n",
      " [ 15 101]]\n",
      "\n",
      "\n",
      "ACCURACY OF THE MODEL : \n",
      "\n",
      "0.36625\n",
      "\n",
      "\n",
      "CLASSIFICATION REPORT : \n",
      "\n",
      "              precision    recall  f1-score   support\n",
      "\n",
      "           0       0.93      0.28      0.43       684\n",
      "           1       0.17      0.87      0.28       116\n",
      "\n",
      "    accuracy                           0.37       800\n",
      "   macro avg       0.55      0.58      0.36       800\n",
      "weighted avg       0.82      0.37      0.41       800\n",
      "\n",
      "\n",
      "\n",
      "ROC-AUC SCORE : \n",
      "\n",
      "0.5756957047791893\n",
      "\n",
      "\n",
      "ROC CURVE : \n",
      "\n",
      "False positivze rate [0.         0.00146199 0.00292398 0.02192982 0.40935673 0.71491228\n",
      " 0.71637427 0.71637427 0.71929825 0.73245614 0.75292398 0.84064327\n",
      " 0.94444444 0.98976608 0.99122807 1.        ]\n",
      "True negative rate [0.         0.00862069 0.00862069 0.00862069 0.43103448 0.78448276\n",
      " 0.86206897 0.87068966 0.87068966 0.94827586 0.94827586 0.95689655\n",
      " 0.99137931 0.99137931 0.99137931 1.        ]\n",
      "Thresholds [1.76 0.76 0.7  0.6  0.59 0.58 0.57 0.56 0.53 0.47 0.44 0.43 0.42 0.41\n",
      " 0.4  0.39]\n"
     ]
    },
    {
     "data": {
      "image/png": "[encoded data removed]",
      "text/plain": [
       "<Figure size 432x288 with 1 Axes>"
      ]
     },
     "metadata": {
      "needs_background": "light"
     },
     "output_type": "display_data"
    }
   ],
   "source": [
    "binary_classifier_evaluation(\"Random Forest\",X_test, Y_test, y_pred, y_pred_proba,clf_RF)"
   ]
  },
  {
   "cell_type": "markdown",
   "metadata": {},
   "source": [
    "## Improvements <a id=\"Improvements\"></a>"
   ]
  },
  {
   "cell_type": "markdown",
   "metadata": {},
   "source": [
    "### Random Forest parameters improvement <a id=\"RFPI\"></a>"
   ]
  },
  {
   "cell_type": "code",
   "execution_count": 512,
   "metadata": {},
   "outputs": [
    {
     "name": "stdout",
     "output_type": "stream",
     "text": [
      "0.5948275862068966\n"
     ]
    },
    {
     "name": "stderr",
     "output_type": "stream",
     "text": [
      "<ipython-input-512-3a410e3ecbfa>:6: DataConversionWarning: A column-vector y was passed when a 1d array was expected. Please change the shape of y to (n_samples,), for example using ravel().\n",
      "  clf_RF.fit(X_train,Y_train)\n",
      "<ipython-input-512-3a410e3ecbfa>:6: DataConversionWarning: A column-vector y was passed when a 1d array was expected. Please change the shape of y to (n_samples,), for example using ravel().\n",
      "  clf_RF.fit(X_train,Y_train)\n",
      "<ipython-input-512-3a410e3ecbfa>:6: DataConversionWarning: A column-vector y was passed when a 1d array was expected. Please change the shape of y to (n_samples,), for example using ravel().\n",
      "  clf_RF.fit(X_train,Y_train)\n"
     ]
    },
    {
     "name": "stdout",
     "output_type": "stream",
     "text": [
      "0.5948275862068966\n",
      "0.9224137931034483\n"
     ]
    },
    {
     "name": "stderr",
     "output_type": "stream",
     "text": [
      "<ipython-input-512-3a410e3ecbfa>:6: DataConversionWarning: A column-vector y was passed when a 1d array was expected. Please change the shape of y to (n_samples,), for example using ravel().\n",
      "  clf_RF.fit(X_train,Y_train)\n"
     ]
    },
    {
     "name": "stdout",
     "output_type": "stream",
     "text": [
      "0.8706896551724138\n"
     ]
    },
    {
     "name": "stderr",
     "output_type": "stream",
     "text": [
      "<ipython-input-512-3a410e3ecbfa>:6: DataConversionWarning: A column-vector y was passed when a 1d array was expected. Please change the shape of y to (n_samples,), for example using ravel().\n",
      "  clf_RF.fit(X_train,Y_train)\n"
     ]
    },
    {
     "name": "stdout",
     "output_type": "stream",
     "text": [
      "0.8706896551724138\n"
     ]
    },
    {
     "data": {
      "text/plain": [
       "[<matplotlib.lines.Line2D at 0x19f5557cb80>]"
      ]
     },
     "execution_count": 512,
     "metadata": {},
     "output_type": "execute_result"
    },
    {
     "data": {
      "image/png": "[encoded data removed]",
      "text/plain": [
       "<Figure size 432x288 with 1 Axes>"
      ]
     },
     "metadata": {
      "needs_background": "light"
     },
     "output_type": "display_data"
    }
   ],
   "source": [
    "from sklearn.metrics import recall_score\n",
    "recalls = []\n",
    "nb_trees = [10,50,100,500,1000]\n",
    "for i in nb_trees:\n",
    "    clf_RF = RandomForestClassifier(n_estimators=i, random_state=2)\n",
    "    clf_RF.fit(X_train,Y_train)\n",
    "    \n",
    "    # Make predict on the test set features\n",
    "    y_pred = clf_RF.predict(X_test)\n",
    "    recalls.append(recall_score(Y_test, y_pred))\n",
    "    print(recall_score(Y_test,y_pred))\n",
    "    \n",
    "import matplotlib.pyplot as plt\n",
    "plt.plot(nb_trees, recalls)"
   ]
  },
  {
   "cell_type": "markdown",
   "metadata": {},
   "source": [
    "### Decision Tree hyperparameters improvement <a id=\"DTHI\"></a>"
   ]
  },
  {
   "cell_type": "code",
   "execution_count": 513,
   "metadata": {},
   "outputs": [
    {
     "name": "stdout",
     "output_type": "stream",
     "text": [
      "Best parameters {'criterion': 'gini', 'max_depth': 15}\n"
     ]
    }
   ],
   "source": [
    "# Explications : https://www.youtube.com/watch?v=w_bLGK4Pteo\n",
    "# Grid Search et cross validation\n",
    "#Find the best Hyperparameters cross validation\n",
    "criterions = ['gini', 'entropy']\n",
    "max_depth = [1,3,5,7,9,11,13,15]\n",
    "\n",
    "from sklearn.model_selection import GridSearchCV\n",
    "grid = GridSearchCV(estimator = clf_DT, scoring=\"recall\" , cv=5, param_grid={'criterion': criterions, 'max_depth': max_depth})\n",
    "\n",
    "grid.fit(X_train, Y_train)\n",
    "print(\"Best parameters\", grid.best_params_)"
   ]
  },
  {
   "cell_type": "code",
   "execution_count": 514,
   "metadata": {},
   "outputs": [],
   "source": [
    "from sklearn.tree import DecisionTreeClassifier\n",
    "clf_DT= DecisionTreeClassifier(criterion='entropy', max_depth=13,random_state=2)\n",
    "clf_DT.fit(X_train,Y_train)\n",
    "y_pred_proba=clf_DT.predict_proba(X_test)\n",
    "y_pred=clf_DT.predict(X_test)"
   ]
  },
  {
   "cell_type": "code",
   "execution_count": 515,
   "metadata": {},
   "outputs": [
    {
     "name": "stdout",
     "output_type": "stream",
     "text": [
      "=======================\n",
      "Decision tree\n",
      "=======================\n",
      "\n",
      "\n",
      "CONFUSION MATRIX : \n",
      "\n",
      "[[ 48 636]\n",
      " [ 41  75]]\n",
      "\n",
      "\n",
      "ACCURACY OF THE MODEL : \n",
      "\n",
      "0.15375\n",
      "\n",
      "\n",
      "CLASSIFICATION REPORT : \n",
      "\n",
      "              precision    recall  f1-score   support\n",
      "\n",
      "           0       0.54      0.07      0.12       684\n",
      "           1       0.11      0.65      0.18       116\n",
      "\n",
      "    accuracy                           0.15       800\n",
      "   macro avg       0.32      0.36      0.15       800\n",
      "weighted avg       0.48      0.15      0.13       800\n",
      "\n",
      "\n",
      "\n",
      "ROC-AUC SCORE : \n",
      "\n",
      "0.35836358136721114\n",
      "\n",
      "\n",
      "ROC CURVE : \n",
      "\n",
      "False positivze rate [0.         0.92982456 1.        ]\n",
      "True negative rate [0.         0.64655172 1.        ]\n",
      "Thresholds [2. 1. 0.]\n"
     ]
    },
    {
     "data": {
      "image/png": "[encoded data removed]",
      "text/plain": [
       "<Figure size 432x288 with 1 Axes>"
      ]
     },
     "metadata": {
      "needs_background": "light"
     },
     "output_type": "display_data"
    }
   ],
   "source": [
    "binary_classifier_evaluation(\"Decision tree\",X_test, Y_test, y_pred, y_pred_proba,clf_DT)"
   ]
  },
  {
   "cell_type": "markdown",
   "metadata": {},
   "source": [
    "### Random Forest hyperparameters improvement <a id=\"RFHI\"></a>"
   ]
  },
  {
   "cell_type": "code",
   "execution_count": 516,
   "metadata": {},
   "outputs": [
    {
     "name": "stderr",
     "output_type": "stream",
     "text": [
      "D:\\Programmation\\Anaconda\\lib\\site-packages\\sklearn\\model_selection\\_validation.py:593: DataConversionWarning: A column-vector y was passed when a 1d array was expected. Please change the shape of y to (n_samples,), for example using ravel().\n",
      "  estimator.fit(X_train, y_train, **fit_params)\n",
      "D:\\Programmation\\Anaconda\\lib\\site-packages\\sklearn\\model_selection\\_validation.py:593: DataConversionWarning: A column-vector y was passed when a 1d array was expected. Please change the shape of y to (n_samples,), for example using ravel().\n",
      "  estimator.fit(X_train, y_train, **fit_params)\n",
      "D:\\Programmation\\Anaconda\\lib\\site-packages\\sklearn\\model_selection\\_validation.py:593: DataConversionWarning: A column-vector y was passed when a 1d array was expected. Please change the shape of y to (n_samples,), for example using ravel().\n",
      "  estimator.fit(X_train, y_train, **fit_params)\n",
      "D:\\Programmation\\Anaconda\\lib\\site-packages\\sklearn\\model_selection\\_validation.py:593: DataConversionWarning: A column-vector y was passed when a 1d array was expected. Please change the shape of y to (n_samples,), for example using ravel().\n",
      "  estimator.fit(X_train, y_train, **fit_params)\n",
      "D:\\Programmation\\Anaconda\\lib\\site-packages\\sklearn\\model_selection\\_validation.py:593: DataConversionWarning: A column-vector y was passed when a 1d array was expected. Please change the shape of y to (n_samples,), for example using ravel().\n",
      "  estimator.fit(X_train, y_train, **fit_params)\n",
      "D:\\Programmation\\Anaconda\\lib\\site-packages\\sklearn\\model_selection\\_validation.py:593: DataConversionWarning: A column-vector y was passed when a 1d array was expected. Please change the shape of y to (n_samples,), for example using ravel().\n",
      "  estimator.fit(X_train, y_train, **fit_params)\n",
      "D:\\Programmation\\Anaconda\\lib\\site-packages\\sklearn\\model_selection\\_validation.py:593: DataConversionWarning: A column-vector y was passed when a 1d array was expected. Please change the shape of y to (n_samples,), for example using ravel().\n",
      "  estimator.fit(X_train, y_train, **fit_params)\n",
      "D:\\Programmation\\Anaconda\\lib\\site-packages\\sklearn\\model_selection\\_validation.py:593: DataConversionWarning: A column-vector y was passed when a 1d array was expected. Please change the shape of y to (n_samples,), for example using ravel().\n",
      "  estimator.fit(X_train, y_train, **fit_params)\n",
      "D:\\Programmation\\Anaconda\\lib\\site-packages\\sklearn\\model_selection\\_validation.py:593: DataConversionWarning: A column-vector y was passed when a 1d array was expected. Please change the shape of y to (n_samples,), for example using ravel().\n",
      "  estimator.fit(X_train, y_train, **fit_params)\n",
      "D:\\Programmation\\Anaconda\\lib\\site-packages\\sklearn\\model_selection\\_validation.py:593: DataConversionWarning: A column-vector y was passed when a 1d array was expected. Please change the shape of y to (n_samples,), for example using ravel().\n",
      "  estimator.fit(X_train, y_train, **fit_params)\n",
      "D:\\Programmation\\Anaconda\\lib\\site-packages\\sklearn\\model_selection\\_validation.py:593: DataConversionWarning: A column-vector y was passed when a 1d array was expected. Please change the shape of y to (n_samples,), for example using ravel().\n",
      "  estimator.fit(X_train, y_train, **fit_params)\n",
      "D:\\Programmation\\Anaconda\\lib\\site-packages\\sklearn\\model_selection\\_validation.py:593: DataConversionWarning: A column-vector y was passed when a 1d array was expected. Please change the shape of y to (n_samples,), for example using ravel().\n",
      "  estimator.fit(X_train, y_train, **fit_params)\n",
      "D:\\Programmation\\Anaconda\\lib\\site-packages\\sklearn\\model_selection\\_validation.py:593: DataConversionWarning: A column-vector y was passed when a 1d array was expected. Please change the shape of y to (n_samples,), for example using ravel().\n",
      "  estimator.fit(X_train, y_train, **fit_params)\n",
      "D:\\Programmation\\Anaconda\\lib\\site-packages\\sklearn\\model_selection\\_validation.py:593: DataConversionWarning: A column-vector y was passed when a 1d array was expected. Please change the shape of y to (n_samples,), for example using ravel().\n",
      "  estimator.fit(X_train, y_train, **fit_params)\n",
      "D:\\Programmation\\Anaconda\\lib\\site-packages\\sklearn\\model_selection\\_validation.py:593: DataConversionWarning: A column-vector y was passed when a 1d array was expected. Please change the shape of y to (n_samples,), for example using ravel().\n",
      "  estimator.fit(X_train, y_train, **fit_params)\n",
      "D:\\Programmation\\Anaconda\\lib\\site-packages\\sklearn\\model_selection\\_validation.py:593: DataConversionWarning: A column-vector y was passed when a 1d array was expected. Please change the shape of y to (n_samples,), for example using ravel().\n",
      "  estimator.fit(X_train, y_train, **fit_params)\n",
      "D:\\Programmation\\Anaconda\\lib\\site-packages\\sklearn\\model_selection\\_validation.py:593: DataConversionWarning: A column-vector y was passed when a 1d array was expected. Please change the shape of y to (n_samples,), for example using ravel().\n",
      "  estimator.fit(X_train, y_train, **fit_params)\n",
      "D:\\Programmation\\Anaconda\\lib\\site-packages\\sklearn\\model_selection\\_validation.py:593: DataConversionWarning: A column-vector y was passed when a 1d array was expected. Please change the shape of y to (n_samples,), for example using ravel().\n",
      "  estimator.fit(X_train, y_train, **fit_params)\n",
      "D:\\Programmation\\Anaconda\\lib\\site-packages\\sklearn\\model_selection\\_validation.py:593: DataConversionWarning: A column-vector y was passed when a 1d array was expected. Please change the shape of y to (n_samples,), for example using ravel().\n",
      "  estimator.fit(X_train, y_train, **fit_params)\n",
      "D:\\Programmation\\Anaconda\\lib\\site-packages\\sklearn\\model_selection\\_validation.py:593: DataConversionWarning: A column-vector y was passed when a 1d array was expected. Please change the shape of y to (n_samples,), for example using ravel().\n",
      "  estimator.fit(X_train, y_train, **fit_params)\n",
      "D:\\Programmation\\Anaconda\\lib\\site-packages\\sklearn\\model_selection\\_validation.py:593: DataConversionWarning: A column-vector y was passed when a 1d array was expected. Please change the shape of y to (n_samples,), for example using ravel().\n",
      "  estimator.fit(X_train, y_train, **fit_params)\n",
      "D:\\Programmation\\Anaconda\\lib\\site-packages\\sklearn\\model_selection\\_validation.py:593: DataConversionWarning: A column-vector y was passed when a 1d array was expected. Please change the shape of y to (n_samples,), for example using ravel().\n",
      "  estimator.fit(X_train, y_train, **fit_params)\n",
      "D:\\Programmation\\Anaconda\\lib\\site-packages\\sklearn\\model_selection\\_validation.py:593: DataConversionWarning: A column-vector y was passed when a 1d array was expected. Please change the shape of y to (n_samples,), for example using ravel().\n",
      "  estimator.fit(X_train, y_train, **fit_params)\n",
      "D:\\Programmation\\Anaconda\\lib\\site-packages\\sklearn\\model_selection\\_validation.py:593: DataConversionWarning: A column-vector y was passed when a 1d array was expected. Please change the shape of y to (n_samples,), for example using ravel().\n",
      "  estimator.fit(X_train, y_train, **fit_params)\n",
      "D:\\Programmation\\Anaconda\\lib\\site-packages\\sklearn\\model_selection\\_validation.py:593: DataConversionWarning: A column-vector y was passed when a 1d array was expected. Please change the shape of y to (n_samples,), for example using ravel().\n",
      "  estimator.fit(X_train, y_train, **fit_params)\n",
      "D:\\Programmation\\Anaconda\\lib\\site-packages\\sklearn\\model_selection\\_validation.py:593: DataConversionWarning: A column-vector y was passed when a 1d array was expected. Please change the shape of y to (n_samples,), for example using ravel().\n",
      "  estimator.fit(X_train, y_train, **fit_params)\n",
      "D:\\Programmation\\Anaconda\\lib\\site-packages\\sklearn\\model_selection\\_validation.py:593: DataConversionWarning: A column-vector y was passed when a 1d array was expected. Please change the shape of y to (n_samples,), for example using ravel().\n",
      "  estimator.fit(X_train, y_train, **fit_params)\n",
      "D:\\Programmation\\Anaconda\\lib\\site-packages\\sklearn\\model_selection\\_validation.py:593: DataConversionWarning: A column-vector y was passed when a 1d array was expected. Please change the shape of y to (n_samples,), for example using ravel().\n",
      "  estimator.fit(X_train, y_train, **fit_params)\n",
      "D:\\Programmation\\Anaconda\\lib\\site-packages\\sklearn\\model_selection\\_validation.py:593: DataConversionWarning: A column-vector y was passed when a 1d array was expected. Please change the shape of y to (n_samples,), for example using ravel().\n",
      "  estimator.fit(X_train, y_train, **fit_params)\n",
      "D:\\Programmation\\Anaconda\\lib\\site-packages\\sklearn\\model_selection\\_validation.py:593: DataConversionWarning: A column-vector y was passed when a 1d array was expected. Please change the shape of y to (n_samples,), for example using ravel().\n",
      "  estimator.fit(X_train, y_train, **fit_params)\n",
      "D:\\Programmation\\Anaconda\\lib\\site-packages\\sklearn\\model_selection\\_search.py:880: DataConversionWarning: A column-vector y was passed when a 1d array was expected. Please change the shape of y to (n_samples,), for example using ravel().\n",
      "  self.best_estimator_.fit(X, y, **fit_params)\n"
     ]
    },
    {
     "name": "stdout",
     "output_type": "stream",
     "text": [
      "Best parameters {'criterion': 'gini', 'n_estimators': 500}\n"
     ]
    }
   ],
   "source": [
    "#Find the best Hyperparameters combinaison by cross validation\n",
    "criterions = ['gini', 'entropy']\n",
    "#max_depth = [1,3,5,7,9,11,13,15]\n",
    "nb_estimators=[10,500,700]\n",
    "\n",
    "#cross validation\n",
    "from sklearn.model_selection import GridSearchCV\n",
    "grid = GridSearchCV(estimator = clf_RF, scoring=\"recall\" , cv=5, param_grid={'n_estimators':nb_estimators,'criterion': criterions})\n",
    "\n",
    "#train the set with to find the best hyperparameters\n",
    "grid.fit(X_train, Y_train)\n",
    "print(\"Best parameters\", grid.best_params_)"
   ]
  },
  {
   "cell_type": "markdown",
   "metadata": {},
   "source": [
    "# A finir\n",
    "## Performance du modèle en fonction de la grandeur du train set\n",
    "## Model performance "
   ]
  },
  {
   "cell_type": "code",
   "execution_count": 581,
   "metadata": {},
   "outputs": [
    {
     "name": "stdout",
     "output_type": "stream",
     "text": [
      "[ 298  596  895 1193 1492]\n"
     ]
    },
    {
     "data": {
      "text/plain": [
       "<function matplotlib.pyplot.legend(*args, **kwargs)>"
      ]
     },
     "execution_count": 581,
     "metadata": {},
     "output_type": "execute_result"
    },
    {
     "data": {
      "image/png": "[encoded data removed]",
      "text/plain": [
       "<Figure size 432x288 with 1 Axes>"
      ]
     },
     "metadata": {
      "needs_background": "light"
     },
     "output_type": "display_data"
    }
   ],
   "source": [
    "from sklearn.model_selection import learning_curve\n",
    "# Avec le décision tree\n",
    "N, train_score,val_score=learning_curve(clf_DT,X_train,Y_train,train_sizes=np.linspace(0.2,1.0,5),cv=5)\n",
    "print(N)\n",
    "plt.plot(N,train_score.mean(axis=1),label=\"train\")\n",
    "plt.plot(N,val_score.mean(axis=1),label=\"validation\")\n",
    "plt.xlabel(\"train_size\")\n",
    "plt.legend"
   ]
  },
  {
   "cell_type": "code",
   "execution_count": 527,
   "metadata": {},
   "outputs": [
    {
     "name": "stderr",
     "output_type": "stream",
     "text": [
      "D:\\Programmation\\Anaconda\\lib\\site-packages\\sklearn\\model_selection\\_validation.py:593: DataConversionWarning: A column-vector y was passed when a 1d array was expected. Please change the shape of y to (n_samples,), for example using ravel().\n",
      "  estimator.fit(X_train, y_train, **fit_params)\n",
      "D:\\Programmation\\Anaconda\\lib\\site-packages\\sklearn\\model_selection\\_validation.py:593: DataConversionWarning: A column-vector y was passed when a 1d array was expected. Please change the shape of y to (n_samples,), for example using ravel().\n",
      "  estimator.fit(X_train, y_train, **fit_params)\n",
      "D:\\Programmation\\Anaconda\\lib\\site-packages\\sklearn\\model_selection\\_validation.py:593: DataConversionWarning: A column-vector y was passed when a 1d array was expected. Please change the shape of y to (n_samples,), for example using ravel().\n",
      "  estimator.fit(X_train, y_train, **fit_params)\n",
      "D:\\Programmation\\Anaconda\\lib\\site-packages\\sklearn\\model_selection\\_validation.py:593: DataConversionWarning: A column-vector y was passed when a 1d array was expected. Please change the shape of y to (n_samples,), for example using ravel().\n",
      "  estimator.fit(X_train, y_train, **fit_params)\n",
      "D:\\Programmation\\Anaconda\\lib\\site-packages\\sklearn\\model_selection\\_validation.py:593: DataConversionWarning: A column-vector y was passed when a 1d array was expected. Please change the shape of y to (n_samples,), for example using ravel().\n",
      "  estimator.fit(X_train, y_train, **fit_params)\n",
      "D:\\Programmation\\Anaconda\\lib\\site-packages\\sklearn\\model_selection\\_validation.py:593: DataConversionWarning: A column-vector y was passed when a 1d array was expected. Please change the shape of y to (n_samples,), for example using ravel().\n",
      "  estimator.fit(X_train, y_train, **fit_params)\n",
      "D:\\Programmation\\Anaconda\\lib\\site-packages\\sklearn\\model_selection\\_validation.py:593: DataConversionWarning: A column-vector y was passed when a 1d array was expected. Please change the shape of y to (n_samples,), for example using ravel().\n",
      "  estimator.fit(X_train, y_train, **fit_params)\n",
      "D:\\Programmation\\Anaconda\\lib\\site-packages\\sklearn\\model_selection\\_validation.py:593: DataConversionWarning: A column-vector y was passed when a 1d array was expected. Please change the shape of y to (n_samples,), for example using ravel().\n",
      "  estimator.fit(X_train, y_train, **fit_params)\n",
      "D:\\Programmation\\Anaconda\\lib\\site-packages\\sklearn\\model_selection\\_validation.py:593: DataConversionWarning: A column-vector y was passed when a 1d array was expected. Please change the shape of y to (n_samples,), for example using ravel().\n",
      "  estimator.fit(X_train, y_train, **fit_params)\n",
      "D:\\Programmation\\Anaconda\\lib\\site-packages\\sklearn\\model_selection\\_validation.py:593: DataConversionWarning: A column-vector y was passed when a 1d array was expected. Please change the shape of y to (n_samples,), for example using ravel().\n",
      "  estimator.fit(X_train, y_train, **fit_params)\n",
      "D:\\Programmation\\Anaconda\\lib\\site-packages\\sklearn\\model_selection\\_validation.py:593: DataConversionWarning: A column-vector y was passed when a 1d array was expected. Please change the shape of y to (n_samples,), for example using ravel().\n",
      "  estimator.fit(X_train, y_train, **fit_params)\n",
      "D:\\Programmation\\Anaconda\\lib\\site-packages\\sklearn\\model_selection\\_validation.py:593: DataConversionWarning: A column-vector y was passed when a 1d array was expected. Please change the shape of y to (n_samples,), for example using ravel().\n",
      "  estimator.fit(X_train, y_train, **fit_params)\n",
      "D:\\Programmation\\Anaconda\\lib\\site-packages\\sklearn\\model_selection\\_validation.py:593: DataConversionWarning: A column-vector y was passed when a 1d array was expected. Please change the shape of y to (n_samples,), for example using ravel().\n",
      "  estimator.fit(X_train, y_train, **fit_params)\n",
      "D:\\Programmation\\Anaconda\\lib\\site-packages\\sklearn\\model_selection\\_validation.py:593: DataConversionWarning: A column-vector y was passed when a 1d array was expected. Please change the shape of y to (n_samples,), for example using ravel().\n",
      "  estimator.fit(X_train, y_train, **fit_params)\n",
      "D:\\Programmation\\Anaconda\\lib\\site-packages\\sklearn\\model_selection\\_validation.py:593: DataConversionWarning: A column-vector y was passed when a 1d array was expected. Please change the shape of y to (n_samples,), for example using ravel().\n",
      "  estimator.fit(X_train, y_train, **fit_params)\n",
      "D:\\Programmation\\Anaconda\\lib\\site-packages\\sklearn\\model_selection\\_validation.py:593: DataConversionWarning: A column-vector y was passed when a 1d array was expected. Please change the shape of y to (n_samples,), for example using ravel().\n",
      "  estimator.fit(X_train, y_train, **fit_params)\n",
      "D:\\Programmation\\Anaconda\\lib\\site-packages\\sklearn\\model_selection\\_validation.py:593: DataConversionWarning: A column-vector y was passed when a 1d array was expected. Please change the shape of y to (n_samples,), for example using ravel().\n",
      "  estimator.fit(X_train, y_train, **fit_params)\n",
      "D:\\Programmation\\Anaconda\\lib\\site-packages\\sklearn\\model_selection\\_validation.py:593: DataConversionWarning: A column-vector y was passed when a 1d array was expected. Please change the shape of y to (n_samples,), for example using ravel().\n",
      "  estimator.fit(X_train, y_train, **fit_params)\n",
      "D:\\Programmation\\Anaconda\\lib\\site-packages\\sklearn\\model_selection\\_validation.py:593: DataConversionWarning: A column-vector y was passed when a 1d array was expected. Please change the shape of y to (n_samples,), for example using ravel().\n",
      "  estimator.fit(X_train, y_train, **fit_params)\n",
      "D:\\Programmation\\Anaconda\\lib\\site-packages\\sklearn\\model_selection\\_validation.py:593: DataConversionWarning: A column-vector y was passed when a 1d array was expected. Please change the shape of y to (n_samples,), for example using ravel().\n",
      "  estimator.fit(X_train, y_train, **fit_params)\n",
      "D:\\Programmation\\Anaconda\\lib\\site-packages\\sklearn\\model_selection\\_validation.py:593: DataConversionWarning: A column-vector y was passed when a 1d array was expected. Please change the shape of y to (n_samples,), for example using ravel().\n",
      "  estimator.fit(X_train, y_train, **fit_params)\n",
      "D:\\Programmation\\Anaconda\\lib\\site-packages\\sklearn\\model_selection\\_validation.py:593: DataConversionWarning: A column-vector y was passed when a 1d array was expected. Please change the shape of y to (n_samples,), for example using ravel().\n",
      "  estimator.fit(X_train, y_train, **fit_params)\n",
      "D:\\Programmation\\Anaconda\\lib\\site-packages\\sklearn\\model_selection\\_validation.py:593: DataConversionWarning: A column-vector y was passed when a 1d array was expected. Please change the shape of y to (n_samples,), for example using ravel().\n",
      "  estimator.fit(X_train, y_train, **fit_params)\n",
      "D:\\Programmation\\Anaconda\\lib\\site-packages\\sklearn\\model_selection\\_validation.py:593: DataConversionWarning: A column-vector y was passed when a 1d array was expected. Please change the shape of y to (n_samples,), for example using ravel().\n",
      "  estimator.fit(X_train, y_train, **fit_params)\n",
      "D:\\Programmation\\Anaconda\\lib\\site-packages\\sklearn\\model_selection\\_validation.py:593: DataConversionWarning: A column-vector y was passed when a 1d array was expected. Please change the shape of y to (n_samples,), for example using ravel().\n",
      "  estimator.fit(X_train, y_train, **fit_params)\n"
     ]
    },
    {
     "data": {
      "text/plain": [
       "<function matplotlib.pyplot.legend(*args, **kwargs)>"
      ]
     },
     "execution_count": 527,
     "metadata": {},
     "output_type": "execute_result"
    },
    {
     "data": {
      "image/png": "[encoded data removed]",
      "text/plain": [
       "<Figure size 432x288 with 1 Axes>"
      ]
     },
     "metadata": {
      "needs_background": "light"
     },
     "output_type": "display_data"
    }
   ],
   "source": [
    "# Avec le random forest\n",
    "N, train_score,val_score=learning_curve(clf_RF,X_train,Y_train,train_sizes=np.linspace(0.2,1.0,5),cv=5)\n",
    "# print(N)\n",
    "plt.plot(N,train_score.mean(axis=1),label=\"train\")\n",
    "plt.plot(N,val_score.mean(axis=1),label=\"validation\")\n",
    "plt.xlabel(\"train_size\")\n",
    "plt.legend"
   ]
  },
  {
   "cell_type": "markdown",
   "metadata": {},
   "source": [
    "## Régression linéaire"
   ]
  },
  {
   "cell_type": "code",
   "execution_count": 556,
   "metadata": {},
   "outputs": [],
   "source": [
    "x=df_telecoms.drop([\"State\", \"International plan\", \"Voice mail plan\",\"Churn\"],axis=1)\n",
    "x=x.to_numpy()\n",
    "y=df_telecoms[\"Churn\"]\n",
    "y=y.to_numpy()\n",
    "y=y.reshape(y.shape[0],1)"
   ]
  },
  {
   "cell_type": "code",
   "execution_count": 557,
   "metadata": {},
   "outputs": [
    {
     "data": {
      "text/plain": [
       "(2666, 16)"
      ]
     },
     "execution_count": 557,
     "metadata": {},
     "output_type": "execute_result"
    }
   ],
   "source": [
    "x.shape"
   ]
  },
  {
   "cell_type": "code",
   "execution_count": 558,
   "metadata": {},
   "outputs": [
    {
     "data": {
      "text/plain": [
       "(2666, 1)"
      ]
     },
     "execution_count": 558,
     "metadata": {},
     "output_type": "execute_result"
    }
   ],
   "source": [
    "y.shape"
   ]
  },
  {
   "cell_type": "code",
   "execution_count": 559,
   "metadata": {},
   "outputs": [
    {
     "name": "stdout",
     "output_type": "stream",
     "text": [
      "[[128.   415.    25.   ...   2.7    1.     1.  ]\n",
      " [107.   415.    26.   ...   3.7    1.     1.  ]\n",
      " [137.   415.     0.   ...   3.29   0.     1.  ]\n",
      " ...\n",
      " [ 68.   415.     0.   ...   2.59   3.     1.  ]\n",
      " [ 28.   510.     0.   ...   3.81   2.     1.  ]\n",
      " [ 74.   415.    25.   ...   3.7    0.     1.  ]]\n"
     ]
    }
   ],
   "source": [
    "# d'abord faire ma colonne de 1 pour avoir mon Xtheta\n",
    "X=np.hstack((x,np.ones((x.shape[0],1))))\n",
    "print(X)"
   ]
  },
  {
   "cell_type": "code",
   "execution_count": 563,
   "metadata": {},
   "outputs": [
    {
     "data": {
      "text/plain": [
       "array([[0.24862925],\n",
       "       [0.49373629],\n",
       "       [0.16246473],\n",
       "       [0.38756888],\n",
       "       [0.70828464],\n",
       "       [0.2561492 ],\n",
       "       [0.67657388],\n",
       "       [0.78203759],\n",
       "       [0.91670387],\n",
       "       [0.01474905],\n",
       "       [0.2050916 ],\n",
       "       [0.24521434],\n",
       "       [0.02161532],\n",
       "       [0.49893989],\n",
       "       [0.62005987],\n",
       "       [0.72291052],\n",
       "       [0.7732616 ]])"
      ]
     },
     "execution_count": 563,
     "metadata": {},
     "output_type": "execute_result"
    }
   ],
   "source": [
    "theta = np.random.rand(17,1)\n",
    "theta"
   ]
  },
  {
   "cell_type": "markdown",
   "metadata": {},
   "source": [
    "# model <a id=\"model\"></a>"
   ]
  },
  {
   "cell_type": "code",
   "execution_count": 564,
   "metadata": {},
   "outputs": [],
   "source": [
    "def model(X,theta):\n",
    "    return X.dot(theta)"
   ]
  },
  {
   "cell_type": "code",
   "execution_count": 565,
   "metadata": {},
   "outputs": [
    {
     "data": {
      "text/plain": [
       "array([[689.20243026],\n",
       "       [653.83785984],\n",
       "       [633.20223234],\n",
       "       ...,\n",
       "       [557.47343541],\n",
       "       [708.66668805],\n",
       "       [700.57105916]])"
      ]
     },
     "execution_count": 565,
     "metadata": {},
     "output_type": "execute_result"
    }
   ],
   "source": [
    "model(X,theta)"
   ]
  },
  {
   "cell_type": "markdown",
   "metadata": {},
   "source": [
    "### Cost Function <a id=\"cost function\"></a>"
   ]
  },
  {
   "cell_type": "code",
   "execution_count": 566,
   "metadata": {},
   "outputs": [],
   "source": [
    "def cost_function(X,y,theta):\n",
    "    m=len(y)\n",
    "    return (1/(2*m))*np.sum((model(X,theta)-y)**2)"
   ]
  },
  {
   "cell_type": "code",
   "execution_count": 567,
   "metadata": {},
   "outputs": [
    {
     "data": {
      "text/plain": [
       "213900.92247017764"
      ]
     },
     "execution_count": 567,
     "metadata": {},
     "output_type": "execute_result"
    }
   ],
   "source": [
    "cost_function(X,y,theta)"
   ]
  },
  {
   "cell_type": "markdown",
   "metadata": {},
   "source": [
    "# gradient descent"
   ]
  },
  {
   "cell_type": "code",
   "execution_count": 568,
   "metadata": {},
   "outputs": [],
   "source": [
    "def grad(X,y,theta):\n",
    "    m=len(y)\n",
    "    return 1/m*X.T.dot(model(X,theta)-y)"
   ]
  },
  {
   "cell_type": "code",
   "execution_count": 569,
   "metadata": {},
   "outputs": [],
   "source": [
    "def gradient_descent(X,y,theta, learning_rate,n_iterations):\n",
    "    for i in range(0,n_iterations):\n",
    "        theta=theta-learning_rate*(grad(X,y,theta))\n",
    "    return theta"
   ]
  },
  {
   "cell_type": "markdown",
   "metadata": {},
   "source": [
    "# Train the model"
   ]
  },
  {
   "cell_type": "code",
   "execution_count": 570,
   "metadata": {},
   "outputs": [
    {
     "data": {
      "text/plain": [
       "array([[1.95601556e+253],\n",
       "       [8.51188035e+253],\n",
       "       [1.55598236e+252],\n",
       "       [3.50458559e+253],\n",
       "       [1.94409329e+253],\n",
       "       [5.95789882e+252],\n",
       "       [3.90810759e+253],\n",
       "       [1.93835716e+253],\n",
       "       [3.32194044e+252],\n",
       "       [3.92342159e+253],\n",
       "       [1.94057164e+253],\n",
       "       [1.76555508e+252],\n",
       "       [1.98116603e+252],\n",
       "       [8.64433901e+251],\n",
       "       [5.35010408e+251],\n",
       "       [3.02725255e+251],\n",
       "       [1.93591336e+251]])"
      ]
     },
     "execution_count": 570,
     "metadata": {},
     "output_type": "execute_result"
    }
   ],
   "source": [
    "theta_final = gradient_descent(X,y,theta,learning_rate=0.001, n_iterations=100)\n",
    "theta_final"
   ]
  },
  {
   "cell_type": "code",
   "execution_count": 571,
   "metadata": {},
   "outputs": [
    {
     "name": "stderr",
     "output_type": "stream",
     "text": [
      "<ipython-input-566-fb8c836f17fa>:3: RuntimeWarning: overflow encountered in square\n",
      "  return (1/(2*m))*np.sum((model(X,theta)-y)**2)\n"
     ]
    },
    {
     "data": {
      "text/plain": [
       "inf"
      ]
     },
     "execution_count": 571,
     "metadata": {},
     "output_type": "execute_result"
    }
   ],
   "source": [
    "cost_function(X,y,theta_final)"
   ]
  },
  {
   "cell_type": "code",
   "execution_count": 572,
   "metadata": {},
   "outputs": [],
   "source": [
    "y_pred = model(X,theta_final)"
   ]
  },
  {
   "cell_type": "code",
   "execution_count": 573,
   "metadata": {},
   "outputs": [
    {
     "data": {
      "text/plain": [
       "6.734121929564913e+256"
      ]
     },
     "execution_count": 573,
     "metadata": {},
     "output_type": "execute_result"
    }
   ],
   "source": [
    "from sklearn.metrics import mean_absolute_error\n",
    "mean_absolute_error(y,y_pred)"
   ]
  },
  {
   "cell_type": "code",
   "execution_count": 574,
   "metadata": {},
   "outputs": [
    {
     "name": "stderr",
     "output_type": "stream",
     "text": [
      "D:\\Programmation\\Anaconda\\lib\\site-packages\\sklearn\\metrics\\_regression.py:338: RuntimeWarning: overflow encountered in square\n",
      "  output_errors = np.average((y_true - y_pred) ** 2, axis=0,\n"
     ]
    },
    {
     "data": {
      "text/plain": [
       "inf"
      ]
     },
     "execution_count": 574,
     "metadata": {},
     "output_type": "execute_result"
    }
   ],
   "source": [
    "from sklearn.metrics import mean_squared_error\n",
    "mean_squared_error(y,y_pred)"
   ]
  },
  {
   "cell_type": "code",
   "execution_count": 575,
   "metadata": {},
   "outputs": [
    {
     "name": "stderr",
     "output_type": "stream",
     "text": [
      "D:\\Programmation\\Anaconda\\lib\\site-packages\\sklearn\\metrics\\_regression.py:557: RuntimeWarning: overflow encountered in square\n",
      "  numerator = np.average((y_true - y_pred - y_diff_avg) ** 2,\n"
     ]
    },
    {
     "data": {
      "text/plain": [
       "-inf"
      ]
     },
     "execution_count": 575,
     "metadata": {},
     "output_type": "execute_result"
    }
   ],
   "source": [
    "from sklearn.metrics import explained_variance_score\n",
    "explained_variance_score(y,y_pred) # x peut expliquer en partie la variablilité de y \n",
    "# et ici on cherche à savoir le % de fiabilité que l'on peut accorder à x sur y"
   ]
  },
  {
   "cell_type": "markdown",
   "metadata": {},
   "source": [
    "# with sklearn"
   ]
  },
  {
   "cell_type": "code",
   "execution_count": 576,
   "metadata": {},
   "outputs": [],
   "source": [
    "from sklearn import linear_model\n",
    "from sklearn.model_selection import train_test_split"
   ]
  },
  {
   "cell_type": "code",
   "execution_count": 577,
   "metadata": {},
   "outputs": [],
   "source": [
    "model_regression=linear_model.LinearRegression()\n",
    "x_train,x_test,y_train,y_test=train_test_split(x,y,test_size=0.4,random_state=2)\n",
    "model_regression.fit(x_train,y_train)\n",
    "model_regression.coef_\n",
    "y_predict=model_regression.predict(x_test)"
   ]
  },
  {
   "cell_type": "code",
   "execution_count": 578,
   "metadata": {},
   "outputs": [
    {
     "data": {
      "text/plain": [
       "0.22106823437867187"
      ]
     },
     "execution_count": 578,
     "metadata": {},
     "output_type": "execute_result"
    }
   ],
   "source": [
    "mean_absolute_error(y_test,y_predict)"
   ]
  },
  {
   "cell_type": "code",
   "execution_count": 579,
   "metadata": {},
   "outputs": [
    {
     "data": {
      "text/plain": [
       "0.09993028403032916"
      ]
     },
     "execution_count": 579,
     "metadata": {},
     "output_type": "execute_result"
    }
   ],
   "source": [
    "mean_squared_error(y_test,y_predict)"
   ]
  },
  {
   "cell_type": "code",
   "execution_count": 580,
   "metadata": {},
   "outputs": [
    {
     "data": {
      "text/plain": [
       "0.09287611643213078"
      ]
     },
     "execution_count": 580,
     "metadata": {},
     "output_type": "execute_result"
    }
   ],
   "source": [
    "explained_variance_score(y_test,y_predict)"
   ]
  },
  {
   "cell_type": "code",
   "execution_count": null,
   "metadata": {},
   "outputs": [],
   "source": []
  }
 ],
 "metadata": {
  "interpreter": {
   "hash": "6f02bf7888223e3e50d434b5ebbb45aa1cf516617ba9b0270ab18b4fb35b6579"
  },
  "kernelspec": {
   "display_name": "Python 3.8.8 64-bit ('base': conda)",
   "language": "python",
   "name": "python3"
  },
  "language_info": {
   "codemirror_mode": {
    "name": "ipython",
    "version": 3
   },
   "file_extension": ".py",
   "mimetype": "text/x-python",
   "name": "python",
   "nbconvert_exporter": "python",
   "pygments_lexer": "ipython3",
   "version": "3.8.8"
  },
  "orig_nbformat": 4
 },
 "nbformat": 4,
 "nbformat_minor": 2
}
