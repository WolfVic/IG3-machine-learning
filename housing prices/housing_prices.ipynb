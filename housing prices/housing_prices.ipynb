{
 "cells": [
  {
   "cell_type": "markdown",
   "metadata": {},
   "source": [
    "## Import"
   ]
  },
  {
   "cell_type": "markdown",
   "metadata": {},
   "source": [
    "# Houseing Prices"
   ]
  },
  {
   "cell_type": "markdown",
   "metadata": {},
   "source": [
    "## Content Table"
   ]
  },
  {
   "cell_type": "markdown",
   "metadata": {},
   "source": [
    "// content table"
   ]
  },
  {
   "cell_type": "markdown",
   "metadata": {},
   "source": [
    "## Information\n",
    "\n",
    "La target est la colonne `Sale Price` qui donne le prix de vente d'une maison.\n",
    "Plus d'informations sur les valeurs et la signification des colonnes est disponible dans le fichier `data_description.txt`"
   ]
  },
  {
   "cell_type": "markdown",
   "metadata": {},
   "source": [
    "Pré: Importation des packages de bases"
   ]
  },
  {
   "cell_type": "code",
   "execution_count": null,
   "metadata": {},
   "outputs": [],
   "source": [
    "import pandas as pd\n",
    "import numpy as np\n",
    "import matplotlib.pyplot as plt\n",
    "import seaborn as sns\n",
    "from sklearn.compose import make_column_transformer\n",
    "from sklearn.pipeline import make_pipeline\n",
    "from sklearn.impute import SimpleImputer\n",
    "from sklearn.preprocessing import StandardScaler, OneHotEncoder\n",
    "from sklearn.linear_model import LinearRegression\n",
    "from sklearn.model_selection import train_test_split, GridSearchCV\n"
   ]
  },
  {
   "cell_type": "markdown",
   "metadata": {},
   "source": [
    "Post: Les packages sont importés"
   ]
  },
  {
   "cell_type": "markdown",
   "metadata": {},
   "source": [
    "## Load data"
   ]
  },
  {
   "cell_type": "markdown",
   "metadata": {},
   "source": [
    "Pré: Chargement des données dans un dataframe depuis le fichier `train.csv`"
   ]
  },
  {
   "cell_type": "code",
   "execution_count": null,
   "metadata": {},
   "outputs": [],
   "source": [
    "housing_prices_all = pd.read_csv('./train.csv',)\n",
    "housing_prices_all.head()"
   ]
  },
  {
   "cell_type": "markdown",
   "metadata": {},
   "source": [
    "Post: Le dataframe est chargé dans la variable `housing_prices`"
   ]
  },
  {
   "cell_type": "markdown",
   "metadata": {},
   "source": [
    "Pré: Suppression de la colonne Id qui n'apporte aucune information"
   ]
  },
  {
   "cell_type": "code",
   "execution_count": null,
   "metadata": {},
   "outputs": [],
   "source": [
    "housing_prices_all = housing_prices_all.drop('Id', axis=1)"
   ]
  },
  {
   "cell_type": "markdown",
   "metadata": {},
   "source": [
    "Post: La colonne Id a été supprimé"
   ]
  },
  {
   "cell_type": "markdown",
   "metadata": {},
   "source": [
    "#### Features Selection"
   ]
  },
  {
   "cell_type": "markdown",
   "metadata": {},
   "source": [
    "Pré: Affichage d'un graphique heatmap des correlations entre les caractéristiques."
   ]
  },
  {
   "cell_type": "code",
   "execution_count": null,
   "metadata": {},
   "outputs": [],
   "source": [
    "plt.figure(figsize=(12, 8))\n",
    "plt.title(\"Heatmap correlation\")\n",
    "sns.heatmap(housing_prices_all.corr())"
   ]
  },
  {
   "cell_type": "markdown",
   "metadata": {},
   "source": [
    "Post:La dernière ligne est celle qui nous intéresse le plus, elle montre la corrélation entre le prix de vente et les caractéristiques.\n",
    "\n",
    "Nous pouvons remarquer que les caractéristiques les plus importantes sont `OverallQual` et `GrLiveArea`, suivi par `YearBuilt`, `YearRemodAdd` et `TotRmsAbvGrd`.\n",
    "\n",
    "Par contre, des caractéristiques comme `MSSubClass`, `OverallCond` ou `KitchenAbvGr` ont très peu d'influence sur le prix d'une maison."
   ]
  },
  {
   "cell_type": "markdown",
   "metadata": {},
   "source": [
    "Pré: Sélection de 10/15 colonnes de façon arbitraire pour alléger la charge de travail."
   ]
  },
  {
   "cell_type": "code",
   "execution_count": null,
   "metadata": {},
   "outputs": [],
   "source": [
    "categorical_columns = ['OverallQual', 'MSZoning', 'LandContour',\n",
    "                       'Utilities', 'Neighborhood', 'BldgType', 'Exterior1st', 'GarageType']\n",
    "numerical_columns = ['LotFrontage', 'LotArea',\n",
    "                     'YearBuilt', 'BedroomAbvGr', 'GrLivArea', 'TotRmsAbvGrd']\n",
    "\n",
    "housing_prices = housing_prices_all[categorical_columns + numerical_columns + ['SalePrice']]\n"
   ]
  },
  {
   "cell_type": "markdown",
   "metadata": {},
   "source": [
    "Post: Explications des features choisies.\n",
    "\n",
    "Categoriels:\n",
    "  - OverallQual: Feature obligatoire + elle assez lié au prix d'une maison.\n",
    "  - MSZoning: décrit la zone où se trouve la maison. Semble une caractéristique intéressante\n",
    "  - LandContour: décrit à quel point le terrain est plat.\n",
    "  - Utilities: décrit s'il y a de l'eau, gaz, électricité, etc\n",
    "  - Neighborhood: Le quartier dans lequel se situe la maison\n",
    "  - BldgType: Le type de batiment\n",
    "  - Exterior1st: le matériau principal de la maison\n",
    "  - GarageType: si la maison possède un garage et de quel type\n",
    "\n",
    "Numerique:\n",
    "  - LotFrontage: le nombre de pied de la propriété relié à la route.\n",
    "  - LotArea: La taille de la propriété en pieds carrés\n",
    "  - YearBuilt: L'année de construction\n",
    "  - GrLiveArea: la surface habitable au dessus du sol (sans la cave)\n",
    "  - BedroomAbvGr: le nombre de chambre\n",
    "  - TotRmdAbvGrd: Le nombre de pièces au dessus du sol sans les salles de bains.\n",
    "\n",
    "La majorité des features choisies sont en fonction des caractéristiques qui semblent les plus importantes dans le choix d'une maison et qui donc vont peut-être influencé le prix.\n",
    "\n",
    "Nous avons donc un DataFrame avec uniquement les colonnes que l'on désire analyser avec en plus la colonne `SalePrice` qui est notre target\n"
   ]
  },
  {
   "cell_type": "markdown",
   "metadata": {},
   "source": [
    "Pré: affichage des informations du dataframe"
   ]
  },
  {
   "cell_type": "code",
   "execution_count": null,
   "metadata": {},
   "outputs": [],
   "source": [
    "housing_prices.info()"
   ]
  },
  {
   "cell_type": "markdown",
   "metadata": {},
   "source": [
    "Post: Les informations du dataframe sont affichées. Nous pouvons voir le type de chaque colonnes ainsi que les colonnes comprenant des éléments `null`"
   ]
  },
  {
   "cell_type": "markdown",
   "metadata": {},
   "source": [
    "Pré:  Affichage des colonnes ayant des éléments `null`\n",
    "Les colonnes comme `LotFrontage` devrait apparaitre"
   ]
  },
  {
   "cell_type": "code",
   "execution_count": null,
   "metadata": {},
   "outputs": [],
   "source": [
    "columns_null_values = housing_prices.isnull().sum(axis=0)\n",
    "columns_null_values = columns_null_values[columns_null_values > 0]\n",
    "print(columns_null_values.shape[0])\n",
    "columns_null_values"
   ]
  },
  {
   "cell_type": "markdown",
   "metadata": {},
   "source": [
    "Post: Il y a 2 colonnes comprenants des valeurs nulls\n",
    "- GarageType: est à `None` si il n'y a pas de garage. Peut être remplacé par la chaine de caractère `\"None\"`\n",
    "- LotFrontage: Si il n'y a pas de valeurs, c'est que la maison n'est pas relié à la route directement. Peut donc être remplacé par `0`\n",
    "  \n",
    "Ces valeurs seront remplacer grace à  des `SimpleImputer` dans le pipeline."
   ]
  },
  {
   "cell_type": "markdown",
   "metadata": {},
   "source": [
    "## Data Analyse"
   ]
  },
  {
   "cell_type": "markdown",
   "metadata": {},
   "source": [
    "Pré: Affichage de la comparaison entre toutes les features numériques entre-elles."
   ]
  },
  {
   "cell_type": "code",
   "execution_count": null,
   "metadata": {},
   "outputs": [],
   "source": [
    "sns.pairplot(housing_prices[numerical_columns + ['SalePrice']],)\n"
   ]
  },
  {
   "cell_type": "markdown",
   "metadata": {},
   "source": [
    "Post: Nous pouvons remarquer qu'il y a quelques valeurs extrêmes dans `LotFrontage` et `LotArea`. Le prix d'une maisons semble assez lié à des features comme`GrLivArea` et `TotRmdAbvGrd`  "
   ]
  },
  {
   "cell_type": "markdown",
   "metadata": {},
   "source": [
    "Pré: Comparaison du prix d'une maison par rapport à sa qualité de finition."
   ]
  },
  {
   "cell_type": "code",
   "execution_count": null,
   "metadata": {},
   "outputs": [],
   "source": [
    "plt.figure(figsize=(12, 8))\n",
    "plt.subplot(1, 2, 1)\n",
    "plt.title(\"Prix moyen d'une maison par rapport à sa qualité de finitions\")\n",
    "sns.lineplot(x=\"OverallQual\", y=\"SalePrice\", data=housing_prices)\n",
    "plt.subplot(1, 2, 2)\n",
    "plt.title(\"Répartition des prix par qualité de finitions\")\n",
    "sns.boxplot(x=\"OverallQual\", y=\"SalePrice\", data=housing_prices)\n"
   ]
  },
  {
   "cell_type": "markdown",
   "metadata": {},
   "source": [
    "Post: Au plus la qualité augmente, au plus le prix d'une maison augmente. Mais au plus une maison est de bonne qualité, au plus les prix varient. "
   ]
  },
  {
   "cell_type": "markdown",
   "metadata": {},
   "source": [
    "Pré: Affichage de l'évolution du prix d'une maison par rapport à la surface habitable au dessus du sol avec sa regression lineair."
   ]
  },
  {
   "cell_type": "code",
   "execution_count": null,
   "metadata": {},
   "outputs": [],
   "source": [
    "plt.title(\"Evolution du prix d'une maison par rapport à la surface habitable au dessus du sol\")\n",
    "sns.lineplot(x=\"GrLivArea\", y=\"SalePrice\", data=housing_prices)\n",
    "sns.regplot(x=\"GrLivArea\", y=\"SalePrice\", data=housing_prices, scatter=False)\n"
   ]
  },
  {
   "cell_type": "markdown",
   "metadata": {},
   "source": [
    "Post: Nous pouvons voir qu'il y a un lien entre les 2 caractéristiques jusqu'à environ 3500 pieds carrés. Après cette valeurs, le prix des maisons ne semble plus être lié avec la surface."
   ]
  },
  {
   "cell_type": "markdown",
   "metadata": {},
   "source": [
    "Pré: Affichage du prix d'une maison par rapport à l'année de construction"
   ]
  },
  {
   "cell_type": "code",
   "execution_count": null,
   "metadata": {},
   "outputs": [],
   "source": [
    "plt.title(\"Evolution du prix d'une maison par rapport à l'année de construction\")\n",
    "sns.lineplot(x=\"YearBuilt\", y=\"SalePrice\", data=housing_prices)\n",
    "sns.regplot(x=\"YearBuilt\", y=\"SalePrice\", data=housing_prices, scatter=False)\n"
   ]
  },
  {
   "cell_type": "markdown",
   "metadata": {},
   "source": [
    "Post: L'année de construction influe le prix d'une maison"
   ]
  },
  {
   "cell_type": "markdown",
   "metadata": {},
   "source": [
    "Pré: Affichage de l'évolution du prix d'une maison par rapport au total de pieces au dessus du sol."
   ]
  },
  {
   "cell_type": "code",
   "execution_count": null,
   "metadata": {},
   "outputs": [],
   "source": [
    "plt.title(\"Evolution du prix d'une maison par rapport au total de pieces au dessus du sol.\")\n",
    "sns.lineplot(x=\"TotRmsAbvGrd\", y=\"SalePrice\", data=housing_prices)\n"
   ]
  },
  {
   "cell_type": "markdown",
   "metadata": {},
   "source": [
    "Post: Le prix d'une maison semble être lié au nombre de pièces dans une maison. Sauf si le nombre de pièce dépasse 12."
   ]
  },
  {
   "cell_type": "markdown",
   "metadata": {},
   "source": [
    "Pré: Affichage de la répartition du prix des maisons"
   ]
  },
  {
   "cell_type": "code",
   "execution_count": null,
   "metadata": {},
   "outputs": [],
   "source": [
    "sns.displot(x=\"SalePrice\", data=housing_prices)\n",
    "plt.title(\"Répartition du prix des maisons\")"
   ]
  },
  {
   "cell_type": "markdown",
   "metadata": {},
   "source": [
    "Post: La répartition du prix des maisons a été affichée."
   ]
  },
  {
   "cell_type": "markdown",
   "metadata": {},
   "source": [
    "## Data Modeling"
   ]
  },
  {
   "cell_type": "markdown",
   "metadata": {},
   "source": [
    "Pré: Séparation des features et de la target"
   ]
  },
  {
   "cell_type": "code",
   "execution_count": null,
   "metadata": {},
   "outputs": [],
   "source": [
    "X = housing_prices_all.drop('SalePrice', axis=1)\n",
    "y = housing_prices_all['SalePrice']"
   ]
  },
  {
   "cell_type": "markdown",
   "metadata": {},
   "source": [
    "Post: X contient les Features et y la target pour chaque ligne"
   ]
  },
  {
   "cell_type": "markdown",
   "metadata": {},
   "source": [
    "Pré: Séparation du train et test set."
   ]
  },
  {
   "cell_type": "code",
   "execution_count": null,
   "metadata": {},
   "outputs": [],
   "source": [
    "X_train, X_test, y_train, y_test = train_test_split(X, y, test_size=0.2, random_state=42)"
   ]
  },
  {
   "cell_type": "markdown",
   "metadata": {},
   "source": [
    "Post: Le train et test set ont été séparés. Il y a 20% des données dans le test set."
   ]
  },
  {
   "cell_type": "markdown",
   "metadata": {},
   "source": [
    "Pré: Création des pipelines pour le pré-processing"
   ]
  },
  {
   "cell_type": "code",
   "execution_count": null,
   "metadata": {},
   "outputs": [],
   "source": [
    "numerical_pipeline = make_pipeline(SimpleImputer(strategy=\"constant\", fill_value=0),StandardScaler())\n",
    "categorical_pipeline = make_pipeline(SimpleImputer(strategy=\"constant\", fill_value=\"None\"), OneHotEncoder(handle_unknown=\"ignore\"))\n",
    "\n",
    "preprocessor = make_column_transformer(\n",
    "    (numerical_pipeline, numerical_columns), (categorical_pipeline, categorical_columns))\n"
   ]
  },
  {
   "cell_type": "markdown",
   "metadata": {},
   "source": [
    "Post: `numerical_pipeline` va transformer toutes les valeurs nulls par des `0` et `categorical_pipeline` par des `None`. Ensuiite les valeurs numériques vont être transformer grâce au `StandardScaler` et les catégories grâce au `OneHotEncoder` \n",
    "\n",
    "Un preprocessor est donc créé grâce aux 2 pipelines. Il sera utilisé par la suite dans la création du modèle."
   ]
  },
  {
   "cell_type": "markdown",
   "metadata": {},
   "source": [
    "### Linear Regression\n",
    "pour un problème de ce type, il faut utiliser la régression. On ne cherche pas à catégoriser un ensemble de donnés mais à trouver une \"quantité\", le prix d'une maison.\n",
    "Nous allons donc uniquement utilisé la regression linéaire"
   ]
  },
  {
   "cell_type": "markdown",
   "metadata": {},
   "source": [
    "Pré: Utilisation de GridSearchCV avec une pipeline qui contient le preprocessor et la regression linéaire. Nous testons le modèle avec une Cross Validation égale à 5 et en modifiant le paramètre `fit_intercept` du `LinearRegression`"
   ]
  },
  {
   "cell_type": "code",
   "execution_count": null,
   "metadata": {},
   "outputs": [],
   "source": [
    "model_lr = make_pipeline(preprocessor, LinearRegression())\n",
    "grid_lr = GridSearchCV(model_lr, param_grid={'linearregression__fit_intercept': [True, False]}, cv=5)\n",
    "grid_lr.fit(X_train, y_train)\n",
    "print(grid_lr.score(X_test, y_test))\n",
    "grid_lr.best_params_"
   ]
  },
  {
   "cell_type": "markdown",
   "metadata": {},
   "source": [
    "Post: Le modèle a un score de 85,06%, nous obtenons un meilleur score avec en Hyperparamètre: `fit_intercept=True`\n",
    "\n",
    "Nous pouvons certainement améliorer ce résultat en modifiant les features sélectionnées au bébut. Néanmoins, le résultat semble tout à fait acceptable."
   ]
  }
 ],
 "metadata": {
  "interpreter": {
   "hash": "a0be7f60f539fb4a1d9d893164dfd5a3ed5aec8f3b3ff9d325628148abf9e143"
  },
  "kernelspec": {
   "display_name": "Python 3.9.7 64-bit ('base': conda)",
   "language": "python",
   "name": "python3"
  },
  "language_info": {
   "codemirror_mode": {
    "name": "ipython",
    "version": 3
   },
   "file_extension": ".py",
   "mimetype": "text/x-python",
   "name": "python",
   "nbconvert_exporter": "python",
   "pygments_lexer": "ipython3",
   "version": "3.9.7"
  },
  "orig_nbformat": 4
 },
 "nbformat": 4,
 "nbformat_minor": 2
}
